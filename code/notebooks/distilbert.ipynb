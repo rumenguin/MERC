{
 "cells": [
  {
   "cell_type": "code",
   "execution_count": 1,
   "id": "b5e2d58c",
   "metadata": {},
   "outputs": [
    {
     "name": "stdout",
     "output_type": "stream",
     "text": [
      "Requirement already satisfied: transformers in /usr/local/Caskroom/miniforge/base/envs/merc/lib/python3.10/site-packages (4.51.3)\n",
      "Requirement already satisfied: datasets in /usr/local/Caskroom/miniforge/base/envs/merc/lib/python3.10/site-packages (3.5.0)\n",
      "Requirement already satisfied: peft in /usr/local/Caskroom/miniforge/base/envs/merc/lib/python3.10/site-packages (0.15.1)\n",
      "Requirement already satisfied: evaluate in /usr/local/Caskroom/miniforge/base/envs/merc/lib/python3.10/site-packages (0.4.3)\n",
      "Requirement already satisfied: scikit-learn in /usr/local/Caskroom/miniforge/base/envs/merc/lib/python3.10/site-packages (1.6.1)\n",
      "Requirement already satisfied: tqdm in /usr/local/Caskroom/miniforge/base/envs/merc/lib/python3.10/site-packages (4.67.1)\n",
      "Requirement already satisfied: filelock in /usr/local/Caskroom/miniforge/base/envs/merc/lib/python3.10/site-packages (from transformers) (3.18.0)\n",
      "Requirement already satisfied: huggingface-hub<1.0,>=0.30.0 in /usr/local/Caskroom/miniforge/base/envs/merc/lib/python3.10/site-packages (from transformers) (0.30.2)\n",
      "Requirement already satisfied: numpy>=1.17 in /usr/local/Caskroom/miniforge/base/envs/merc/lib/python3.10/site-packages (from transformers) (1.24.4)\n",
      "Requirement already satisfied: packaging>=20.0 in /usr/local/Caskroom/miniforge/base/envs/merc/lib/python3.10/site-packages (from transformers) (24.2)\n",
      "Requirement already satisfied: pyyaml>=5.1 in /usr/local/Caskroom/miniforge/base/envs/merc/lib/python3.10/site-packages (from transformers) (6.0.2)\n",
      "Requirement already satisfied: regex!=2019.12.17 in /usr/local/Caskroom/miniforge/base/envs/merc/lib/python3.10/site-packages (from transformers) (2024.11.6)\n",
      "Requirement already satisfied: requests in /usr/local/Caskroom/miniforge/base/envs/merc/lib/python3.10/site-packages (from transformers) (2.32.3)\n",
      "Requirement already satisfied: tokenizers<0.22,>=0.21 in /usr/local/Caskroom/miniforge/base/envs/merc/lib/python3.10/site-packages (from transformers) (0.21.1)\n",
      "Requirement already satisfied: safetensors>=0.4.3 in /usr/local/Caskroom/miniforge/base/envs/merc/lib/python3.10/site-packages (from transformers) (0.5.3)\n",
      "Requirement already satisfied: pyarrow>=15.0.0 in /usr/local/Caskroom/miniforge/base/envs/merc/lib/python3.10/site-packages (from datasets) (19.0.1)\n",
      "Requirement already satisfied: dill<0.3.9,>=0.3.0 in /usr/local/Caskroom/miniforge/base/envs/merc/lib/python3.10/site-packages (from datasets) (0.3.8)\n",
      "Requirement already satisfied: pandas in /usr/local/Caskroom/miniforge/base/envs/merc/lib/python3.10/site-packages (from datasets) (2.2.3)\n",
      "Requirement already satisfied: xxhash in /usr/local/Caskroom/miniforge/base/envs/merc/lib/python3.10/site-packages (from datasets) (3.5.0)\n",
      "Requirement already satisfied: multiprocess<0.70.17 in /usr/local/Caskroom/miniforge/base/envs/merc/lib/python3.10/site-packages (from datasets) (0.70.16)\n",
      "Requirement already satisfied: fsspec<=2024.12.0,>=2023.1.0 in /usr/local/Caskroom/miniforge/base/envs/merc/lib/python3.10/site-packages (from fsspec[http]<=2024.12.0,>=2023.1.0->datasets) (2024.12.0)\n",
      "Requirement already satisfied: aiohttp in /usr/local/Caskroom/miniforge/base/envs/merc/lib/python3.10/site-packages (from datasets) (3.11.16)\n",
      "Requirement already satisfied: psutil in /usr/local/Caskroom/miniforge/base/envs/merc/lib/python3.10/site-packages (from peft) (7.0.0)\n",
      "Requirement already satisfied: torch>=1.13.0 in /usr/local/Caskroom/miniforge/base/envs/merc/lib/python3.10/site-packages (from peft) (2.2.2)\n",
      "Requirement already satisfied: accelerate>=0.21.0 in /usr/local/Caskroom/miniforge/base/envs/merc/lib/python3.10/site-packages (from peft) (1.5.2)\n",
      "Requirement already satisfied: scipy>=1.6.0 in /usr/local/Caskroom/miniforge/base/envs/merc/lib/python3.10/site-packages (from scikit-learn) (1.15.2)\n",
      "Requirement already satisfied: joblib>=1.2.0 in /usr/local/Caskroom/miniforge/base/envs/merc/lib/python3.10/site-packages (from scikit-learn) (1.4.2)\n",
      "Requirement already satisfied: threadpoolctl>=3.1.0 in /usr/local/Caskroom/miniforge/base/envs/merc/lib/python3.10/site-packages (from scikit-learn) (3.6.0)\n",
      "Requirement already satisfied: aiohappyeyeballs>=2.3.0 in /usr/local/Caskroom/miniforge/base/envs/merc/lib/python3.10/site-packages (from aiohttp->datasets) (2.6.1)\n",
      "Requirement already satisfied: aiosignal>=1.1.2 in /usr/local/Caskroom/miniforge/base/envs/merc/lib/python3.10/site-packages (from aiohttp->datasets) (1.3.2)\n",
      "Requirement already satisfied: async-timeout<6.0,>=4.0 in /usr/local/Caskroom/miniforge/base/envs/merc/lib/python3.10/site-packages (from aiohttp->datasets) (5.0.1)\n",
      "Requirement already satisfied: attrs>=17.3.0 in /usr/local/Caskroom/miniforge/base/envs/merc/lib/python3.10/site-packages (from aiohttp->datasets) (25.3.0)\n",
      "Requirement already satisfied: frozenlist>=1.1.1 in /usr/local/Caskroom/miniforge/base/envs/merc/lib/python3.10/site-packages (from aiohttp->datasets) (1.5.0)\n",
      "Requirement already satisfied: multidict<7.0,>=4.5 in /usr/local/Caskroom/miniforge/base/envs/merc/lib/python3.10/site-packages (from aiohttp->datasets) (6.3.2)\n",
      "Requirement already satisfied: propcache>=0.2.0 in /usr/local/Caskroom/miniforge/base/envs/merc/lib/python3.10/site-packages (from aiohttp->datasets) (0.2.1)\n",
      "Requirement already satisfied: yarl<2.0,>=1.17.0 in /usr/local/Caskroom/miniforge/base/envs/merc/lib/python3.10/site-packages (from aiohttp->datasets) (1.18.3)\n",
      "Requirement already satisfied: typing-extensions>=3.7.4.3 in /usr/local/Caskroom/miniforge/base/envs/merc/lib/python3.10/site-packages (from huggingface-hub<1.0,>=0.30.0->transformers) (4.13.2)\n",
      "Requirement already satisfied: charset_normalizer<4,>=2 in /usr/local/Caskroom/miniforge/base/envs/merc/lib/python3.10/site-packages (from requests->transformers) (3.4.1)\n",
      "Requirement already satisfied: idna<4,>=2.5 in /usr/local/Caskroom/miniforge/base/envs/merc/lib/python3.10/site-packages (from requests->transformers) (3.10)\n",
      "Requirement already satisfied: urllib3<3,>=1.21.1 in /usr/local/Caskroom/miniforge/base/envs/merc/lib/python3.10/site-packages (from requests->transformers) (2.4.0)\n",
      "Requirement already satisfied: certifi>=2017.4.17 in /usr/local/Caskroom/miniforge/base/envs/merc/lib/python3.10/site-packages (from requests->transformers) (2025.1.31)\n",
      "Requirement already satisfied: sympy in /usr/local/Caskroom/miniforge/base/envs/merc/lib/python3.10/site-packages (from torch>=1.13.0->peft) (1.13.3)\n",
      "Requirement already satisfied: networkx in /usr/local/Caskroom/miniforge/base/envs/merc/lib/python3.10/site-packages (from torch>=1.13.0->peft) (3.4.2)\n",
      "Requirement already satisfied: jinja2 in /usr/local/Caskroom/miniforge/base/envs/merc/lib/python3.10/site-packages (from torch>=1.13.0->peft) (3.1.6)\n",
      "Requirement already satisfied: python-dateutil>=2.8.2 in /usr/local/Caskroom/miniforge/base/envs/merc/lib/python3.10/site-packages (from pandas->datasets) (2.9.0.post0)\n",
      "Requirement already satisfied: pytz>=2020.1 in /usr/local/Caskroom/miniforge/base/envs/merc/lib/python3.10/site-packages (from pandas->datasets) (2024.1)\n",
      "Requirement already satisfied: tzdata>=2022.7 in /usr/local/Caskroom/miniforge/base/envs/merc/lib/python3.10/site-packages (from pandas->datasets) (2025.2)\n",
      "Requirement already satisfied: six>=1.5 in /usr/local/Caskroom/miniforge/base/envs/merc/lib/python3.10/site-packages (from python-dateutil>=2.8.2->pandas->datasets) (1.17.0)\n",
      "Requirement already satisfied: MarkupSafe>=2.0 in /usr/local/Caskroom/miniforge/base/envs/merc/lib/python3.10/site-packages (from jinja2->torch>=1.13.0->peft) (3.0.2)\n",
      "Requirement already satisfied: mpmath<1.4,>=1.1.0 in /usr/local/Caskroom/miniforge/base/envs/merc/lib/python3.10/site-packages (from sympy->torch>=1.13.0->peft) (1.3.0)\n",
      "Note: you may need to restart the kernel to use updated packages.\n"
     ]
    }
   ],
   "source": [
    "# Install necessary libraries (if not already installed)\n",
    "%pip install transformers datasets peft evaluate scikit-learn tqdm"
   ]
  },
  {
   "cell_type": "code",
   "execution_count": 2,
   "id": "6112afcd",
   "metadata": {},
   "outputs": [
    {
     "name": "stdout",
     "output_type": "stream",
     "text": [
      "Requirement already satisfied: ipywidgets in /usr/local/Caskroom/miniforge/base/envs/merc/lib/python3.10/site-packages (8.1.6)\n",
      "Requirement already satisfied: comm>=0.1.3 in /usr/local/Caskroom/miniforge/base/envs/merc/lib/python3.10/site-packages (from ipywidgets) (0.2.2)\n",
      "Requirement already satisfied: ipython>=6.1.0 in /usr/local/Caskroom/miniforge/base/envs/merc/lib/python3.10/site-packages (from ipywidgets) (8.35.0)\n",
      "Requirement already satisfied: traitlets>=4.3.1 in /usr/local/Caskroom/miniforge/base/envs/merc/lib/python3.10/site-packages (from ipywidgets) (5.14.3)\n",
      "Requirement already satisfied: widgetsnbextension~=4.0.14 in /usr/local/Caskroom/miniforge/base/envs/merc/lib/python3.10/site-packages (from ipywidgets) (4.0.14)\n",
      "Requirement already satisfied: jupyterlab_widgets~=3.0.14 in /usr/local/Caskroom/miniforge/base/envs/merc/lib/python3.10/site-packages (from ipywidgets) (3.0.14)\n",
      "Requirement already satisfied: decorator in /usr/local/Caskroom/miniforge/base/envs/merc/lib/python3.10/site-packages (from ipython>=6.1.0->ipywidgets) (4.4.2)\n",
      "Requirement already satisfied: exceptiongroup in /usr/local/Caskroom/miniforge/base/envs/merc/lib/python3.10/site-packages (from ipython>=6.1.0->ipywidgets) (1.2.2)\n",
      "Requirement already satisfied: jedi>=0.16 in /usr/local/Caskroom/miniforge/base/envs/merc/lib/python3.10/site-packages (from ipython>=6.1.0->ipywidgets) (0.19.2)\n",
      "Requirement already satisfied: matplotlib-inline in /usr/local/Caskroom/miniforge/base/envs/merc/lib/python3.10/site-packages (from ipython>=6.1.0->ipywidgets) (0.1.7)\n",
      "Requirement already satisfied: pexpect>4.3 in /usr/local/Caskroom/miniforge/base/envs/merc/lib/python3.10/site-packages (from ipython>=6.1.0->ipywidgets) (4.9.0)\n",
      "Requirement already satisfied: prompt_toolkit<3.1.0,>=3.0.41 in /usr/local/Caskroom/miniforge/base/envs/merc/lib/python3.10/site-packages (from ipython>=6.1.0->ipywidgets) (3.0.50)\n",
      "Requirement already satisfied: pygments>=2.4.0 in /usr/local/Caskroom/miniforge/base/envs/merc/lib/python3.10/site-packages (from ipython>=6.1.0->ipywidgets) (2.19.1)\n",
      "Requirement already satisfied: stack_data in /usr/local/Caskroom/miniforge/base/envs/merc/lib/python3.10/site-packages (from ipython>=6.1.0->ipywidgets) (0.6.3)\n",
      "Requirement already satisfied: typing_extensions>=4.6 in /usr/local/Caskroom/miniforge/base/envs/merc/lib/python3.10/site-packages (from ipython>=6.1.0->ipywidgets) (4.13.2)\n",
      "Requirement already satisfied: parso<0.9.0,>=0.8.4 in /usr/local/Caskroom/miniforge/base/envs/merc/lib/python3.10/site-packages (from jedi>=0.16->ipython>=6.1.0->ipywidgets) (0.8.4)\n",
      "Requirement already satisfied: ptyprocess>=0.5 in /usr/local/Caskroom/miniforge/base/envs/merc/lib/python3.10/site-packages (from pexpect>4.3->ipython>=6.1.0->ipywidgets) (0.7.0)\n",
      "Requirement already satisfied: wcwidth in /usr/local/Caskroom/miniforge/base/envs/merc/lib/python3.10/site-packages (from prompt_toolkit<3.1.0,>=3.0.41->ipython>=6.1.0->ipywidgets) (0.2.13)\n",
      "Requirement already satisfied: executing>=1.2.0 in /usr/local/Caskroom/miniforge/base/envs/merc/lib/python3.10/site-packages (from stack_data->ipython>=6.1.0->ipywidgets) (2.1.0)\n",
      "Requirement already satisfied: asttokens>=2.1.0 in /usr/local/Caskroom/miniforge/base/envs/merc/lib/python3.10/site-packages (from stack_data->ipython>=6.1.0->ipywidgets) (3.0.0)\n",
      "Requirement already satisfied: pure_eval in /usr/local/Caskroom/miniforge/base/envs/merc/lib/python3.10/site-packages (from stack_data->ipython>=6.1.0->ipywidgets) (0.2.3)\n",
      "Note: you may need to restart the kernel to use updated packages.\n",
      "Requirement already satisfied: jupyterlab_widgets in /usr/local/Caskroom/miniforge/base/envs/merc/lib/python3.10/site-packages (3.0.14)\n",
      "Note: you may need to restart the kernel to use updated packages.\n"
     ]
    }
   ],
   "source": [
    "%pip install ipywidgets\n",
    "%pip install jupyterlab_widgets"
   ]
  },
  {
   "cell_type": "code",
   "execution_count": 3,
   "id": "8e5c480b",
   "metadata": {},
   "outputs": [],
   "source": [
    "import os\n",
    "import json\n",
    "import pandas as pd\n",
    "import numpy as np\n",
    "import torch\n",
    "from torch import nn\n",
    "from torch.utils.data import Dataset, DataLoader\n",
    "from transformers import AutoTokenizer, AutoModel, get_linear_schedule_with_warmup\n",
    "from sklearn.metrics import f1_score, accuracy_score, mean_squared_error\n",
    "import matplotlib.pyplot as plt\n",
    "from tqdm.notebook import tqdm\n",
    "from torch.optim import AdamW"
   ]
  },
  {
   "cell_type": "code",
   "execution_count": 4,
   "id": "3c2bc09f",
   "metadata": {},
   "outputs": [
    {
     "name": "stdout",
     "output_type": "stream",
     "text": [
      "Using device: mps\n"
     ]
    }
   ],
   "source": [
    "# Paths\n",
    "DATASET_PATH = '/Users/rumenguin/Research/MERC/EmoReact/dataset.csv'\n",
    "TRAIN_NAMES_PATH = '/Users/rumenguin/Research/MERC/EmoReact/Labels/Train_names.txt'\n",
    "VAL_NAMES_PATH = '/Users/rumenguin/Research/MERC/EmoReact/Labels/Val_names.txt'\n",
    "TEST_NAMES_PATH = '/Users/rumenguin/Research/MERC/EmoReact/Labels/Test_names.txt'\n",
    "MODEL_NAME = 'distilbert-base-uncased'  # Good balance of performance and efficiency for Mac M1\n",
    "SAVE_DIR = '/Users/rumenguin/Research/MERC/models/saved_model'\n",
    "\n",
    "# Create save directory if it doesn't exist\n",
    "os.makedirs(SAVE_DIR, exist_ok=True)\n",
    "\n",
    "# Set device\n",
    "device = torch.device(\"mps\" if torch.backends.mps.is_available() else \"cpu\")\n",
    "print(f\"Using device: {device}\")"
   ]
  },
  {
   "cell_type": "code",
   "execution_count": 5,
   "id": "a3c2d1e5",
   "metadata": {},
   "outputs": [
    {
     "name": "stdout",
     "output_type": "stream",
     "text": [
      "Train videos: 432\n",
      "Val videos: 303\n",
      "Test videos: 367\n",
      "Dataset shape: (1102, 6)\n",
      "Missing values in each column:\n",
      "ID              0\n",
      "Video           0\n",
      "Transcript     10\n",
      "Behavior        0\n",
      "Labels        138\n",
      "Valence         0\n",
      "dtype: int64\n"
     ]
    }
   ],
   "source": [
    "# Load and preprocess the dataset\n",
    "def load_video_names(file_path):\n",
    "    with open(file_path, 'r') as f:\n",
    "        # Remove quotes if present and strip whitespace\n",
    "        return [line.strip().replace(\"'\", \"\").replace('\"', '') for line in f.readlines()]\n",
    "\n",
    "# Load video names for train, val, and test sets\n",
    "train_videos = load_video_names(TRAIN_NAMES_PATH)\n",
    "val_videos = load_video_names(VAL_NAMES_PATH)\n",
    "test_videos = load_video_names(TEST_NAMES_PATH)\n",
    "\n",
    "print(f\"Train videos: {len(train_videos)}\")\n",
    "print(f\"Val videos: {len(val_videos)}\")\n",
    "print(f\"Test videos: {len(test_videos)}\")\n",
    "\n",
    "# Load the dataset\n",
    "df = pd.read_csv(DATASET_PATH)\n",
    "print(f\"Dataset shape: {df.shape}\")\n",
    "\n",
    "# Display first few rows to understand the data\n",
    "df.head()\n",
    "\n",
    "# Check for missing values\n",
    "print(\"Missing values in each column:\")\n",
    "print(df.isnull().sum())"
   ]
  },
  {
   "cell_type": "code",
   "execution_count": 6,
   "id": "556b6c0c",
   "metadata": {},
   "outputs": [
    {
     "name": "stdout",
     "output_type": "stream",
     "text": [
      "All possible emotions: ['Curiosity', 'Uncertainty', 'Excitement', 'Happiness', 'Surprise', 'Disgust', 'Fear', 'Frustration']\n"
     ]
    }
   ],
   "source": [
    "# Process Labels (emotions)\n",
    "# Convert string representation of emotion labels to lists\n",
    "def process_labels(labels):\n",
    "    if pd.isna(labels) or labels == 'None' or labels == '':\n",
    "        return []\n",
    "    try:\n",
    "        # Try to evaluate as a literal Python expression (list, tuple, etc.)\n",
    "        return eval(labels)\n",
    "    except:\n",
    "        # If it's a simple string without brackets\n",
    "        if isinstance(labels, str):\n",
    "            return [label.strip() for label in labels.split(',')]\n",
    "        return []\n",
    "\n",
    "# Apply to the Labels column\n",
    "df['Processed_Labels'] = df['Labels'].apply(process_labels)\n",
    "\n",
    "# List all possible emotions\n",
    "all_emotions = ['Curiosity', 'Uncertainty', 'Excitement', 'Happiness', 'Surprise', 'Disgust', 'Fear', 'Frustration']\n",
    "print(f\"All possible emotions: {all_emotions}\")"
   ]
  },
  {
   "cell_type": "code",
   "execution_count": 7,
   "id": "c76e2b27",
   "metadata": {},
   "outputs": [
    {
     "name": "stdout",
     "output_type": "stream",
     "text": [
      "Valence range: 1.0 to 7.0\n"
     ]
    }
   ],
   "source": [
    "# Convert Valence to numeric and handle missing values\n",
    "df['Valence'] = pd.to_numeric(df['Valence'], errors='coerce')\n",
    "# Fill missing valence with mean value\n",
    "mean_valence = df['Valence'].mean()\n",
    "df['Valence'] = df['Valence'].fillna(mean_valence)\n",
    "print(f\"Valence range: {df['Valence'].min()} to {df['Valence'].max()}\")\n",
    "\n",
    "# Create new column combining Transcript and Behavior\n",
    "df['Combined_Text'] = df['Transcript'].fillna('') + ' ' + df['Behavior'].fillna('')\n",
    "df['Combined_Text'] = df['Combined_Text'].str.strip()\n",
    "\n",
    "# Handle cases where both transcript and behavior might be empty\n",
    "df.loc[df['Combined_Text'] == '', 'Combined_Text'] = \"No information available\"\n"
   ]
  },
  {
   "cell_type": "code",
   "execution_count": 8,
   "id": "f4e83b97",
   "metadata": {},
   "outputs": [
    {
     "name": "stdout",
     "output_type": "stream",
     "text": [
      "Train set: 432 samples\n",
      "Val set: 303 samples\n",
      "Test set: 367 samples\n"
     ]
    }
   ],
   "source": [
    "# Split dataset into train, val, test based on the video files\n",
    "def get_video_name(video_path):\n",
    "    return os.path.basename(video_path)\n",
    "\n",
    "df['VideoName'] = df['Video'].apply(get_video_name)\n",
    "\n",
    "train_df = df[df['VideoName'].isin(train_videos)]\n",
    "val_df = df[df['VideoName'].isin(val_videos)]\n",
    "test_df = df[df['VideoName'].isin(test_videos)]\n",
    "\n",
    "print(f\"Train set: {len(train_df)} samples\")\n",
    "print(f\"Val set: {len(val_df)} samples\")\n",
    "print(f\"Test set: {len(test_df)} samples\")"
   ]
  },
  {
   "cell_type": "code",
   "execution_count": 9,
   "id": "d0d7ed57",
   "metadata": {},
   "outputs": [],
   "source": [
    "from sklearn.preprocessing import MultiLabelBinarizer\n",
    "# Initialize the MultiLabelBinarizer\n",
    "mlb = MultiLabelBinarizer(classes=all_emotions)\n",
    "mlb.fit([all_emotions])  # Ensure all classes are represented\n",
    "\n",
    "# One-hot encode the labels\n",
    "train_labels_encoded = mlb.transform(train_df['Processed_Labels'].tolist())\n",
    "val_labels_encoded = mlb.transform(val_df['Processed_Labels'].tolist())\n",
    "test_labels_encoded = mlb.transform(test_df['Processed_Labels'].tolist())\n",
    "\n",
    "# Save the class mapping\n",
    "with open(os.path.join(SAVE_DIR, 'emotion_labels.json'), 'w') as f:\n",
    "    json.dump({idx: emotion for idx, emotion in enumerate(mlb.classes_)}, f)"
   ]
  },
  {
   "cell_type": "code",
   "execution_count": 10,
   "id": "187142ba",
   "metadata": {},
   "outputs": [],
   "source": [
    "# Create a custom dataset class\n",
    "class EmotionDataset(Dataset):\n",
    "    def __init__(self, texts, emotion_labels, valence_values, tokenizer, max_length=512):\n",
    "        self.texts = texts\n",
    "        self.emotion_labels = emotion_labels\n",
    "        self.valence_values = valence_values\n",
    "        self.tokenizer = tokenizer\n",
    "        self.max_length = max_length\n",
    "    \n",
    "    def __len__(self):\n",
    "        return len(self.texts)\n",
    "    \n",
    "    def __getitem__(self, idx):\n",
    "        text = self.texts[idx]\n",
    "        emotion_label = self.emotion_labels[idx]\n",
    "        valence = self.valence_values[idx]\n",
    "        \n",
    "        encoding = self.tokenizer(\n",
    "            text,\n",
    "            truncation=True,\n",
    "            padding='max_length',\n",
    "            max_length=self.max_length,\n",
    "            return_tensors='pt'\n",
    "        )\n",
    "        \n",
    "        # Squeeze to remove batch dimension\n",
    "        input_ids = encoding['input_ids'].squeeze()\n",
    "        attention_mask = encoding['attention_mask'].squeeze()\n",
    "        \n",
    "        return {\n",
    "            'input_ids': input_ids,\n",
    "            'attention_mask': attention_mask,\n",
    "            'emotion_labels': torch.FloatTensor(emotion_label),\n",
    "            'valence': torch.FloatTensor([valence])\n",
    "        }"
   ]
  },
  {
   "cell_type": "code",
   "execution_count": 11,
   "id": "742e0b17",
   "metadata": {},
   "outputs": [],
   "source": [
    "from transformers import DistilBertModel\n",
    "# Define the model\n",
    "class EmotionValenceModel(nn.Module):\n",
    "    def __init__(self, n_emotions, dropout_prob=0.3):\n",
    "        super(EmotionValenceModel, self).__init__()\n",
    "        self.distilbert = DistilBertModel.from_pretrained('distilbert-base-uncased')\n",
    "        \n",
    "        # Freeze some layers of DistilBERT to reduce computational load and prevent overfitting\n",
    "        modules = [self.distilbert.embeddings, *self.distilbert.transformer.layer[:2]]\n",
    "        for module in modules:\n",
    "            for param in module.parameters():\n",
    "                param.requires_grad = False\n",
    "        \n",
    "        hidden_size = self.distilbert.config.hidden_size\n",
    "        \n",
    "        # Common layers\n",
    "        self.dropout = nn.Dropout(dropout_prob)\n",
    "        self.pre_classifier = nn.Linear(hidden_size, 256)\n",
    "        self.activation = nn.ReLU()\n",
    "        \n",
    "        # Emotion classification head\n",
    "        self.emotion_classifier = nn.Linear(256, n_emotions)\n",
    "        \n",
    "        # Valence regression head\n",
    "        self.valence_regressor = nn.Linear(256, 1)\n",
    "    \n",
    "    def forward(self, input_ids, attention_mask):\n",
    "        outputs = self.distilbert(input_ids=input_ids, attention_mask=attention_mask)\n",
    "        hidden_state = outputs.last_hidden_state[:, 0]  # Use [CLS] token representation\n",
    "        \n",
    "        x = self.dropout(hidden_state)\n",
    "        x = self.pre_classifier(x)\n",
    "        x = self.activation(x)\n",
    "        x = self.dropout(x)\n",
    "        \n",
    "        # Multi-label emotion classification (using sigmoid for multi-label)\n",
    "        emotion_output = self.emotion_classifier(x)\n",
    "        \n",
    "        # Valence regression (value between 1-7)\n",
    "        valence_output = self.valence_regressor(x)\n",
    "        \n",
    "        return emotion_output, valence_output\n"
   ]
  },
  {
   "cell_type": "code",
   "execution_count": 12,
   "id": "a1686115",
   "metadata": {},
   "outputs": [],
   "source": [
    "from transformers import DistilBertTokenizer\n",
    "# Initialize the tokenizer\n",
    "tokenizer = DistilBertTokenizer.from_pretrained('distilbert-base-uncased')\n",
    "\n",
    "# Create datasets\n",
    "train_dataset = EmotionDataset(\n",
    "    train_df['Combined_Text'].tolist(),\n",
    "    train_labels_encoded,\n",
    "    train_df['Valence'].tolist(),\n",
    "    tokenizer\n",
    ")\n",
    "\n",
    "val_dataset = EmotionDataset(\n",
    "    val_df['Combined_Text'].tolist(),\n",
    "    val_labels_encoded,\n",
    "    val_df['Valence'].tolist(),\n",
    "    tokenizer\n",
    ")\n",
    "\n",
    "test_dataset = EmotionDataset(\n",
    "    test_df['Combined_Text'].tolist(),\n",
    "    test_labels_encoded,\n",
    "    test_df['Valence'].tolist(),\n",
    "    tokenizer\n",
    ")"
   ]
  },
  {
   "cell_type": "code",
   "execution_count": 13,
   "id": "81275237",
   "metadata": {},
   "outputs": [],
   "source": [
    "# Create data loaders\n",
    "batch_size = 16  # Smaller batch size for M1 Mac\n",
    "\n",
    "train_loader = DataLoader(train_dataset, batch_size=batch_size, shuffle=True)\n",
    "val_loader = DataLoader(val_dataset, batch_size=batch_size)\n",
    "test_loader = DataLoader(test_dataset, batch_size=batch_size)\n",
    "\n",
    "# Initialize the model\n",
    "n_emotions = len(all_emotions)\n",
    "model = EmotionValenceModel(n_emotions)\n",
    "model = model.to(device)\n",
    "\n",
    "# Define loss functions\n",
    "emotion_criterion = nn.BCEWithLogitsLoss()\n",
    "valence_criterion = nn.MSELoss()\n",
    "\n",
    "# Define optimizer with weight decay for regularization\n",
    "optimizer = AdamW(model.parameters(), lr=2e-5, weight_decay=0.01)\n",
    "\n",
    "# Learning rate scheduler\n",
    "num_epochs = 80\n",
    "total_steps = len(train_loader) * num_epochs\n",
    "scheduler = get_linear_schedule_with_warmup(\n",
    "    optimizer,\n",
    "    num_warmup_steps=0,\n",
    "    num_training_steps=total_steps\n",
    ")"
   ]
  },
  {
   "cell_type": "code",
   "execution_count": 14,
   "id": "95b5f2d2",
   "metadata": {},
   "outputs": [],
   "source": [
    "# Training loop\n",
    "\n",
    "def train_model(model, train_loader, val_loader, optimizer, scheduler, emotion_criterion, valence_criterion, num_epochs, device):\n",
    "    # For tracking metrics\n",
    "    history = {\n",
    "        'train_emotion_loss': [],\n",
    "        'train_valence_loss': [],\n",
    "        'train_total_loss': [],\n",
    "        'val_emotion_loss': [],\n",
    "        'val_valence_loss': [],\n",
    "        'val_total_loss': [],\n",
    "        'val_micro_f1': [],\n",
    "        'val_macro_f1': [],\n",
    "        'val_valence_rmse': [],\n",
    "        'val_accuracy': []  # Added accuracy tracking\n",
    "    }\n",
    "    \n",
    "    # Alpha parameter for balancing losses (can be adjusted)\n",
    "    alpha = 0.7  # Weight for emotion loss\n",
    "    beta = 0.3   # Weight for valence loss\n",
    "    \n",
    "    best_val_loss = float('inf')\n",
    "    \n",
    "    for epoch in range(num_epochs):\n",
    "        print(f\"\\nEpoch {epoch+1}/{num_epochs}\")\n",
    "        \n",
    "        # Training phase\n",
    "        model.train()\n",
    "        train_emotion_loss = 0\n",
    "        train_valence_loss = 0\n",
    "        train_total_loss = 0\n",
    "        \n",
    "        progress_bar = tqdm(enumerate(train_loader), total=len(train_loader))\n",
    "        \n",
    "        for batch_idx, batch in progress_bar:\n",
    "            # Move batch to device\n",
    "            input_ids = batch['input_ids'].to(device)\n",
    "            attention_mask = batch['attention_mask'].to(device)\n",
    "            emotion_labels = batch['emotion_labels'].to(device)\n",
    "            valence = batch['valence'].to(device)\n",
    "            \n",
    "            # Forward pass\n",
    "            emotion_logits, valence_pred = model(input_ids, attention_mask)\n",
    "            \n",
    "            # Calculate losses\n",
    "            e_loss = emotion_criterion(emotion_logits, emotion_labels)\n",
    "            v_loss = valence_criterion(valence_pred, valence)\n",
    "            \n",
    "            # Weighted combined loss\n",
    "            loss = alpha * e_loss + beta * v_loss\n",
    "            \n",
    "            # Backward pass\n",
    "            optimizer.zero_grad()\n",
    "            loss.backward()\n",
    "            \n",
    "            # Gradient clipping to prevent exploding gradients\n",
    "            torch.nn.utils.clip_grad_norm_(model.parameters(), max_norm=1.0)\n",
    "            \n",
    "            optimizer.step()\n",
    "            scheduler.step()\n",
    "            \n",
    "            # Update metrics\n",
    "            train_emotion_loss += e_loss.item()\n",
    "            train_valence_loss += v_loss.item()\n",
    "            train_total_loss += loss.item()\n",
    "            \n",
    "            # Update progress bar\n",
    "            progress_bar.set_description(f\"Training - Loss: {loss.item():.4f}\")\n",
    "        \n",
    "        # Calculate average training losses\n",
    "        avg_train_emotion_loss = train_emotion_loss / len(train_loader)\n",
    "        avg_train_valence_loss = train_valence_loss / len(train_loader)\n",
    "        avg_train_total_loss = train_total_loss / len(train_loader)\n",
    "        \n",
    "        # Validation phase\n",
    "        model.eval()\n",
    "        val_emotion_loss = 0\n",
    "        val_valence_loss = 0\n",
    "        val_total_loss = 0\n",
    "        \n",
    "        all_emotion_preds = []\n",
    "        all_emotion_labels = []\n",
    "        all_valence_preds = []\n",
    "        all_valence_labels = []\n",
    "        \n",
    "        with torch.no_grad():\n",
    "            for batch in tqdm(val_loader, desc=\"Validation\"):\n",
    "                input_ids = batch['input_ids'].to(device)\n",
    "                attention_mask = batch['attention_mask'].to(device)\n",
    "                emotion_labels = batch['emotion_labels'].to(device)\n",
    "                valence = batch['valence'].to(device)\n",
    "                \n",
    "                emotion_logits, valence_pred = model(input_ids, attention_mask)\n",
    "                \n",
    "                e_loss = emotion_criterion(emotion_logits, emotion_labels)\n",
    "                v_loss = valence_criterion(valence_pred, valence)\n",
    "                loss = alpha * e_loss + beta * v_loss\n",
    "                \n",
    "                val_emotion_loss += e_loss.item()\n",
    "                val_valence_loss += v_loss.item()\n",
    "                val_total_loss += loss.item()\n",
    "                \n",
    "                # Convert logits to predictions\n",
    "                emotion_preds = torch.sigmoid(emotion_logits).cpu().numpy() > 0.5  # Threshold for multi-label classification\n",
    "                # Convert lists to numpy arrays for F1 calculation\n",
    "                \n",
    "                all_emotion_preds.extend(emotion_preds.astype(int).tolist())\n",
    "                all_emotion_labels.extend(emotion_labels.cpu().numpy().astype(int).tolist())\n",
    "                all_valence_preds.extend(valence_pred.cpu().numpy().flatten().tolist())\n",
    "                all_valence_labels.extend(valence.cpu().numpy().flatten().tolist())\n",
    "        \n",
    "        # Calculate validation metrics\n",
    "        avg_val_emotion_loss = val_emotion_loss / len(val_loader)\n",
    "        avg_val_valence_loss = val_valence_loss / len(val_loader)\n",
    "        avg_val_total_loss = val_total_loss / len(val_loader)\n",
    "        \n",
    "        # F1 scores for emotion classification\n",
    "        #micro_f1 = f1_score(all_emotion_labels, all_emotion_preds, average='micro')\n",
    "        # macro_f1 = f1_score(all_emotion_labels, all_emotion_preds, average='macro')\n",
    "        # Convert to numpy arrays\n",
    "        emotion_preds_np = np.array(all_emotion_preds)\n",
    "        emotion_labels_np = np.array(all_emotion_labels)\n",
    "\n",
    "        # F1 scores for multi-label emotion classification\n",
    "        micro_f1 = f1_score(emotion_labels_np, emotion_preds_np, average='micro', zero_division=0)\n",
    "        macro_f1 = f1_score(emotion_labels_np, emotion_preds_np, average='macro', zero_division=0)\n",
    "        \n",
    "        # RMSE for valence prediction\n",
    "        valence_rmse = np.sqrt(mean_squared_error(all_valence_labels, all_valence_preds))\n",
    "        \n",
    "        # Calculate accuracy for multi-label classification\n",
    "        accuracy = np.mean(np.array(emotion_preds_np == emotion_labels_np, dtype=float))\n",
    "        \n",
    "        # Update history\n",
    "        history['train_emotion_loss'].append(avg_train_emotion_loss)\n",
    "        history['train_valence_loss'].append(avg_train_valence_loss)\n",
    "        history['train_total_loss'].append(avg_train_total_loss)\n",
    "        history['val_emotion_loss'].append(avg_val_emotion_loss)\n",
    "        history['val_valence_loss'].append(avg_val_valence_loss)\n",
    "        history['val_total_loss'].append(avg_val_total_loss)\n",
    "        history['val_micro_f1'].append(micro_f1)\n",
    "        history['val_macro_f1'].append(macro_f1)\n",
    "        history['val_valence_rmse'].append(valence_rmse)\n",
    "        history['val_accuracy'].append(accuracy)  # Added accuracy to history\n",
    "        \n",
    "        # Print metrics\n",
    "        print(f\"Train - Emotion Loss: {avg_train_emotion_loss:.4f}, Valence Loss: {avg_train_valence_loss:.4f}, Total Loss: {avg_train_total_loss:.4f}\")\n",
    "        print(f\"Val - Emotion Loss: {avg_val_emotion_loss:.4f}, Valence Loss: {avg_val_valence_loss:.4f}, Total Loss: {avg_val_total_loss:.4f}\")\n",
    "        print(f\"Val - Micro F1: {micro_f1:.4f}, Macro F1: {macro_f1:.4f}, Valence RMSE: {valence_rmse:.4f}, Accuracy: {accuracy:.4f}\")  # Added accuracy to print statement\n",
    "        \n",
    "        # Save best model\n",
    "        if avg_val_total_loss < best_val_loss:\n",
    "            best_val_loss = avg_val_total_loss\n",
    "            torch.save(model.state_dict(), os.path.join(SAVE_DIR, 'dbert_best_model.pt'))\n",
    "            print(\"Saved best model!\")\n",
    "    \n",
    "    # Save final model\n",
    "    torch.save(model.state_dict(), os.path.join(SAVE_DIR, 'dbert_final_model.pt'))\n",
    "    \n",
    "    # Save training history\n",
    "    with open(os.path.join(SAVE_DIR, 'dbert_training_history.json'), 'w') as f:\n",
    "        json.dump(history, f)\n",
    "    \n",
    "    return history\n"
   ]
  },
  {
   "cell_type": "code",
   "execution_count": 15,
   "id": "65a8f519",
   "metadata": {},
   "outputs": [
    {
     "name": "stdout",
     "output_type": "stream",
     "text": [
      "\n",
      "Epoch 1/80\n"
     ]
    },
    {
     "data": {
      "application/vnd.jupyter.widget-view+json": {
       "model_id": "21f031ef31e247f0b8a1a8d01e53246e",
       "version_major": 2,
       "version_minor": 0
      },
      "text/plain": [
       "  0%|          | 0/27 [00:00<?, ?it/s]"
      ]
     },
     "metadata": {},
     "output_type": "display_data"
    },
    {
     "data": {
      "application/vnd.jupyter.widget-view+json": {
       "model_id": "c216f40e23914e17b6895988dc2f0b43",
       "version_major": 2,
       "version_minor": 0
      },
      "text/plain": [
       "Validation:   0%|          | 0/19 [00:00<?, ?it/s]"
      ]
     },
     "metadata": {},
     "output_type": "display_data"
    },
    {
     "name": "stdout",
     "output_type": "stream",
     "text": [
      "Train - Emotion Loss: 0.6576, Valence Loss: 7.7329, Total Loss: 2.7802\n",
      "Val - Emotion Loss: 0.6260, Valence Loss: 1.8675, Total Loss: 0.9984\n",
      "Val - Micro F1: 0.2077, Macro F1: 0.0606, Valence RMSE: 1.3673, Accuracy: 0.6947\n",
      "Saved best model!\n",
      "\n",
      "Epoch 2/80\n"
     ]
    },
    {
     "data": {
      "application/vnd.jupyter.widget-view+json": {
       "model_id": "6a667c22c5e24750aad891529fe5f311",
       "version_major": 2,
       "version_minor": 0
      },
      "text/plain": [
       "  0%|          | 0/27 [00:00<?, ?it/s]"
      ]
     },
     "metadata": {},
     "output_type": "display_data"
    },
    {
     "data": {
      "application/vnd.jupyter.widget-view+json": {
       "model_id": "51882aeb6a204d69b721f60c923e346a",
       "version_major": 2,
       "version_minor": 0
      },
      "text/plain": [
       "Validation:   0%|          | 0/19 [00:00<?, ?it/s]"
      ]
     },
     "metadata": {},
     "output_type": "display_data"
    },
    {
     "name": "stdout",
     "output_type": "stream",
     "text": [
      "Train - Emotion Loss: 0.6167, Valence Loss: 2.1292, Total Loss: 1.0704\n",
      "Val - Emotion Loss: 0.5726, Valence Loss: 1.4194, Total Loss: 0.8266\n",
      "Val - Micro F1: 0.0000, Macro F1: 0.0000, Valence RMSE: 1.1925, Accuracy: 0.7409\n",
      "Saved best model!\n",
      "\n",
      "Epoch 3/80\n"
     ]
    },
    {
     "data": {
      "application/vnd.jupyter.widget-view+json": {
       "model_id": "30894d6c181a4e05b89bc34a8fc276fe",
       "version_major": 2,
       "version_minor": 0
      },
      "text/plain": [
       "  0%|          | 0/27 [00:00<?, ?it/s]"
      ]
     },
     "metadata": {},
     "output_type": "display_data"
    },
    {
     "data": {
      "application/vnd.jupyter.widget-view+json": {
       "model_id": "4bb287e3c67643059761b18f43434fb4",
       "version_major": 2,
       "version_minor": 0
      },
      "text/plain": [
       "Validation:   0%|          | 0/19 [00:00<?, ?it/s]"
      ]
     },
     "metadata": {},
     "output_type": "display_data"
    },
    {
     "name": "stdout",
     "output_type": "stream",
     "text": [
      "Train - Emotion Loss: 0.5836, Valence Loss: 1.4446, Total Loss: 0.8419\n",
      "Val - Emotion Loss: 0.5686, Valence Loss: 0.4415, Total Loss: 0.5304\n",
      "Val - Micro F1: 0.0000, Macro F1: 0.0000, Valence RMSE: 0.6648, Accuracy: 0.7314\n",
      "Saved best model!\n",
      "\n",
      "Epoch 4/80\n"
     ]
    },
    {
     "data": {
      "application/vnd.jupyter.widget-view+json": {
       "model_id": "e353166887ea487c92f417c5ebe00739",
       "version_major": 2,
       "version_minor": 0
      },
      "text/plain": [
       "  0%|          | 0/27 [00:00<?, ?it/s]"
      ]
     },
     "metadata": {},
     "output_type": "display_data"
    },
    {
     "data": {
      "application/vnd.jupyter.widget-view+json": {
       "model_id": "0e2359af4dd74dd6bd14c3e48a33229b",
       "version_major": 2,
       "version_minor": 0
      },
      "text/plain": [
       "Validation:   0%|          | 0/19 [00:00<?, ?it/s]"
      ]
     },
     "metadata": {},
     "output_type": "display_data"
    },
    {
     "name": "stdout",
     "output_type": "stream",
     "text": [
      "Train - Emotion Loss: 0.5686, Valence Loss: 0.5334, Total Loss: 0.5581\n",
      "Val - Emotion Loss: 0.5363, Valence Loss: 0.3060, Total Loss: 0.4672\n",
      "Val - Micro F1: 0.0000, Macro F1: 0.0000, Valence RMSE: 0.5533, Accuracy: 0.7409\n",
      "Saved best model!\n",
      "\n",
      "Epoch 5/80\n"
     ]
    },
    {
     "data": {
      "application/vnd.jupyter.widget-view+json": {
       "model_id": "0071bad0ffe24825bf12a4fe19010381",
       "version_major": 2,
       "version_minor": 0
      },
      "text/plain": [
       "  0%|          | 0/27 [00:00<?, ?it/s]"
      ]
     },
     "metadata": {},
     "output_type": "display_data"
    },
    {
     "data": {
      "application/vnd.jupyter.widget-view+json": {
       "model_id": "746b2b20f53c44718320dc8771cb3dfb",
       "version_major": 2,
       "version_minor": 0
      },
      "text/plain": [
       "Validation:   0%|          | 0/19 [00:00<?, ?it/s]"
      ]
     },
     "metadata": {},
     "output_type": "display_data"
    },
    {
     "name": "stdout",
     "output_type": "stream",
     "text": [
      "Train - Emotion Loss: 0.5392, Valence Loss: 0.3426, Total Loss: 0.4802\n",
      "Val - Emotion Loss: 0.5030, Valence Loss: 0.2849, Total Loss: 0.4375\n",
      "Val - Micro F1: 0.3950, Macro F1: 0.1149, Valence RMSE: 0.5336, Accuracy: 0.7991\n",
      "Saved best model!\n",
      "\n",
      "Epoch 6/80\n"
     ]
    },
    {
     "data": {
      "application/vnd.jupyter.widget-view+json": {
       "model_id": "1ad469c228334b04bd675c2b177daef8",
       "version_major": 2,
       "version_minor": 0
      },
      "text/plain": [
       "  0%|          | 0/27 [00:00<?, ?it/s]"
      ]
     },
     "metadata": {},
     "output_type": "display_data"
    },
    {
     "data": {
      "application/vnd.jupyter.widget-view+json": {
       "model_id": "b69fb56fbdec44d0b54597a2379c77cc",
       "version_major": 2,
       "version_minor": 0
      },
      "text/plain": [
       "Validation:   0%|          | 0/19 [00:00<?, ?it/s]"
      ]
     },
     "metadata": {},
     "output_type": "display_data"
    },
    {
     "name": "stdout",
     "output_type": "stream",
     "text": [
      "Train - Emotion Loss: 0.5135, Valence Loss: 0.3899, Total Loss: 0.4764\n",
      "Val - Emotion Loss: 0.4864, Valence Loss: 0.2311, Total Loss: 0.4098\n",
      "Val - Micro F1: 0.3955, Macro F1: 0.1152, Valence RMSE: 0.4807, Accuracy: 0.7995\n",
      "Saved best model!\n",
      "\n",
      "Epoch 7/80\n"
     ]
    },
    {
     "data": {
      "application/vnd.jupyter.widget-view+json": {
       "model_id": "df2a8563ab9a40799df32c1568bb9ce6",
       "version_major": 2,
       "version_minor": 0
      },
      "text/plain": [
       "  0%|          | 0/27 [00:00<?, ?it/s]"
      ]
     },
     "metadata": {},
     "output_type": "display_data"
    },
    {
     "data": {
      "application/vnd.jupyter.widget-view+json": {
       "model_id": "2b709b86b29b48188ef4487bbd95f3ad",
       "version_major": 2,
       "version_minor": 0
      },
      "text/plain": [
       "Validation:   0%|          | 0/19 [00:00<?, ?it/s]"
      ]
     },
     "metadata": {},
     "output_type": "display_data"
    },
    {
     "name": "stdout",
     "output_type": "stream",
     "text": [
      "Train - Emotion Loss: 0.4964, Valence Loss: 0.2982, Total Loss: 0.4370\n",
      "Val - Emotion Loss: 0.4668, Valence Loss: 0.1620, Total Loss: 0.3754\n",
      "Val - Micro F1: 0.4020, Macro F1: 0.1197, Valence RMSE: 0.4023, Accuracy: 0.8049\n",
      "Saved best model!\n",
      "\n",
      "Epoch 8/80\n"
     ]
    },
    {
     "data": {
      "application/vnd.jupyter.widget-view+json": {
       "model_id": "f2750b26eb6640b3a0cb9c8c1e915b9e",
       "version_major": 2,
       "version_minor": 0
      },
      "text/plain": [
       "  0%|          | 0/27 [00:00<?, ?it/s]"
      ]
     },
     "metadata": {},
     "output_type": "display_data"
    },
    {
     "data": {
      "application/vnd.jupyter.widget-view+json": {
       "model_id": "2ff3bf0a19024231ad30dced361ceb8d",
       "version_major": 2,
       "version_minor": 0
      },
      "text/plain": [
       "Validation:   0%|          | 0/19 [00:00<?, ?it/s]"
      ]
     },
     "metadata": {},
     "output_type": "display_data"
    },
    {
     "name": "stdout",
     "output_type": "stream",
     "text": [
      "Train - Emotion Loss: 0.4731, Valence Loss: 0.3185, Total Loss: 0.4267\n",
      "Val - Emotion Loss: 0.4491, Valence Loss: 0.1777, Total Loss: 0.3677\n",
      "Val - Micro F1: 0.3941, Macro F1: 0.1142, Valence RMSE: 0.4213, Accuracy: 0.7983\n",
      "Saved best model!\n",
      "\n",
      "Epoch 9/80\n"
     ]
    },
    {
     "data": {
      "application/vnd.jupyter.widget-view+json": {
       "model_id": "de659790187d4cb7aee30901b34e88c0",
       "version_major": 2,
       "version_minor": 0
      },
      "text/plain": [
       "  0%|          | 0/27 [00:00<?, ?it/s]"
      ]
     },
     "metadata": {},
     "output_type": "display_data"
    },
    {
     "data": {
      "application/vnd.jupyter.widget-view+json": {
       "model_id": "7e8906dffdd14b1ebe641aadef829d14",
       "version_major": 2,
       "version_minor": 0
      },
      "text/plain": [
       "Validation:   0%|          | 0/19 [00:00<?, ?it/s]"
      ]
     },
     "metadata": {},
     "output_type": "display_data"
    },
    {
     "name": "stdout",
     "output_type": "stream",
     "text": [
      "Train - Emotion Loss: 0.4554, Valence Loss: 0.3139, Total Loss: 0.4129\n",
      "Val - Emotion Loss: 0.4376, Valence Loss: 0.3266, Total Loss: 0.4043\n",
      "Val - Micro F1: 0.3990, Macro F1: 0.1157, Valence RMSE: 0.5712, Accuracy: 0.7999\n",
      "\n",
      "Epoch 10/80\n"
     ]
    },
    {
     "data": {
      "application/vnd.jupyter.widget-view+json": {
       "model_id": "f64d41bd6524439c963c16e203f7c5af",
       "version_major": 2,
       "version_minor": 0
      },
      "text/plain": [
       "  0%|          | 0/27 [00:00<?, ?it/s]"
      ]
     },
     "metadata": {},
     "output_type": "display_data"
    },
    {
     "data": {
      "application/vnd.jupyter.widget-view+json": {
       "model_id": "463cef56dfdc4bb7bf13d14a786969f5",
       "version_major": 2,
       "version_minor": 0
      },
      "text/plain": [
       "Validation:   0%|          | 0/19 [00:00<?, ?it/s]"
      ]
     },
     "metadata": {},
     "output_type": "display_data"
    },
    {
     "name": "stdout",
     "output_type": "stream",
     "text": [
      "Train - Emotion Loss: 0.4427, Valence Loss: 0.2766, Total Loss: 0.3929\n",
      "Val - Emotion Loss: 0.4154, Valence Loss: 0.1273, Total Loss: 0.3290\n",
      "Val - Micro F1: 0.5945, Macro F1: 0.2921, Valence RMSE: 0.3565, Accuracy: 0.8469\n",
      "Saved best model!\n",
      "\n",
      "Epoch 11/80\n"
     ]
    },
    {
     "data": {
      "application/vnd.jupyter.widget-view+json": {
       "model_id": "6281f0e737ec401495878d8bc4823e94",
       "version_major": 2,
       "version_minor": 0
      },
      "text/plain": [
       "  0%|          | 0/27 [00:00<?, ?it/s]"
      ]
     },
     "metadata": {},
     "output_type": "display_data"
    },
    {
     "data": {
      "application/vnd.jupyter.widget-view+json": {
       "model_id": "13c909d935c54926bca6bf7f1d7ffcc3",
       "version_major": 2,
       "version_minor": 0
      },
      "text/plain": [
       "Validation:   0%|          | 0/19 [00:00<?, ?it/s]"
      ]
     },
     "metadata": {},
     "output_type": "display_data"
    },
    {
     "name": "stdout",
     "output_type": "stream",
     "text": [
      "Train - Emotion Loss: 0.4259, Valence Loss: 0.2652, Total Loss: 0.3777\n",
      "Val - Emotion Loss: 0.4022, Valence Loss: 0.1248, Total Loss: 0.3190\n",
      "Val - Micro F1: 0.6188, Macro F1: 0.3376, Valence RMSE: 0.3531, Accuracy: 0.8511\n",
      "Saved best model!\n",
      "\n",
      "Epoch 12/80\n"
     ]
    },
    {
     "data": {
      "application/vnd.jupyter.widget-view+json": {
       "model_id": "05be168db907498585e50a538c4bb43d",
       "version_major": 2,
       "version_minor": 0
      },
      "text/plain": [
       "  0%|          | 0/27 [00:00<?, ?it/s]"
      ]
     },
     "metadata": {},
     "output_type": "display_data"
    },
    {
     "data": {
      "application/vnd.jupyter.widget-view+json": {
       "model_id": "78f38728315b4670903d54d17acc2907",
       "version_major": 2,
       "version_minor": 0
      },
      "text/plain": [
       "Validation:   0%|          | 0/19 [00:00<?, ?it/s]"
      ]
     },
     "metadata": {},
     "output_type": "display_data"
    },
    {
     "name": "stdout",
     "output_type": "stream",
     "text": [
      "Train - Emotion Loss: 0.4138, Valence Loss: 0.2485, Total Loss: 0.3642\n",
      "Val - Emotion Loss: 0.3821, Valence Loss: 0.1908, Total Loss: 0.3247\n",
      "Val - Micro F1: 0.6854, Macro F1: 0.3889, Valence RMSE: 0.4366, Accuracy: 0.8659\n",
      "\n",
      "Epoch 13/80\n"
     ]
    },
    {
     "data": {
      "application/vnd.jupyter.widget-view+json": {
       "model_id": "d307f082c850407b8ff7c4894b4d7a65",
       "version_major": 2,
       "version_minor": 0
      },
      "text/plain": [
       "  0%|          | 0/27 [00:00<?, ?it/s]"
      ]
     },
     "metadata": {},
     "output_type": "display_data"
    },
    {
     "data": {
      "application/vnd.jupyter.widget-view+json": {
       "model_id": "ef723b54a8284c26bf8b8db827da1bb5",
       "version_major": 2,
       "version_minor": 0
      },
      "text/plain": [
       "Validation:   0%|          | 0/19 [00:00<?, ?it/s]"
      ]
     },
     "metadata": {},
     "output_type": "display_data"
    },
    {
     "name": "stdout",
     "output_type": "stream",
     "text": [
      "Train - Emotion Loss: 0.3939, Valence Loss: 0.2519, Total Loss: 0.3513\n",
      "Val - Emotion Loss: 0.3675, Valence Loss: 0.1073, Total Loss: 0.2895\n",
      "Val - Micro F1: 0.6700, Macro F1: 0.3758, Valence RMSE: 0.3273, Accuracy: 0.8630\n",
      "Saved best model!\n",
      "\n",
      "Epoch 14/80\n"
     ]
    },
    {
     "data": {
      "application/vnd.jupyter.widget-view+json": {
       "model_id": "fb9955d9b6914a01a139207acb916147",
       "version_major": 2,
       "version_minor": 0
      },
      "text/plain": [
       "  0%|          | 0/27 [00:00<?, ?it/s]"
      ]
     },
     "metadata": {},
     "output_type": "display_data"
    },
    {
     "data": {
      "application/vnd.jupyter.widget-view+json": {
       "model_id": "30b8e8a49b524ef4b401631161b777e2",
       "version_major": 2,
       "version_minor": 0
      },
      "text/plain": [
       "Validation:   0%|          | 0/19 [00:00<?, ?it/s]"
      ]
     },
     "metadata": {},
     "output_type": "display_data"
    },
    {
     "name": "stdout",
     "output_type": "stream",
     "text": [
      "Train - Emotion Loss: 0.3786, Valence Loss: 0.2540, Total Loss: 0.3412\n",
      "Val - Emotion Loss: 0.3515, Valence Loss: 0.1270, Total Loss: 0.2841\n",
      "Val - Micro F1: 0.7355, Macro F1: 0.5017, Valence RMSE: 0.3562, Accuracy: 0.8837\n",
      "Saved best model!\n",
      "\n",
      "Epoch 15/80\n"
     ]
    },
    {
     "data": {
      "application/vnd.jupyter.widget-view+json": {
       "model_id": "369b2041615e40cf92f080e6af476f0b",
       "version_major": 2,
       "version_minor": 0
      },
      "text/plain": [
       "  0%|          | 0/27 [00:00<?, ?it/s]"
      ]
     },
     "metadata": {},
     "output_type": "display_data"
    },
    {
     "data": {
      "application/vnd.jupyter.widget-view+json": {
       "model_id": "ef0266f8987d46fd97b1c893a4ae9610",
       "version_major": 2,
       "version_minor": 0
      },
      "text/plain": [
       "Validation:   0%|          | 0/19 [00:00<?, ?it/s]"
      ]
     },
     "metadata": {},
     "output_type": "display_data"
    },
    {
     "name": "stdout",
     "output_type": "stream",
     "text": [
      "Train - Emotion Loss: 0.3629, Valence Loss: 0.2343, Total Loss: 0.3244\n",
      "Val - Emotion Loss: 0.3412, Valence Loss: 0.1180, Total Loss: 0.2743\n",
      "Val - Micro F1: 0.7554, Macro F1: 0.5145, Valence RMSE: 0.3433, Accuracy: 0.8886\n",
      "Saved best model!\n",
      "\n",
      "Epoch 16/80\n"
     ]
    },
    {
     "data": {
      "application/vnd.jupyter.widget-view+json": {
       "model_id": "cc63d1e2d05342dea4370254fe41408d",
       "version_major": 2,
       "version_minor": 0
      },
      "text/plain": [
       "  0%|          | 0/27 [00:00<?, ?it/s]"
      ]
     },
     "metadata": {},
     "output_type": "display_data"
    },
    {
     "data": {
      "application/vnd.jupyter.widget-view+json": {
       "model_id": "1df48b7273f4415eac95955d10c26b42",
       "version_major": 2,
       "version_minor": 0
      },
      "text/plain": [
       "Validation:   0%|          | 0/19 [00:00<?, ?it/s]"
      ]
     },
     "metadata": {},
     "output_type": "display_data"
    },
    {
     "name": "stdout",
     "output_type": "stream",
     "text": [
      "Train - Emotion Loss: 0.3493, Valence Loss: 0.2418, Total Loss: 0.3171\n",
      "Val - Emotion Loss: 0.3291, Valence Loss: 0.1309, Total Loss: 0.2697\n",
      "Val - Micro F1: 0.7743, Macro F1: 0.5510, Valence RMSE: 0.3614, Accuracy: 0.8973\n",
      "Saved best model!\n",
      "\n",
      "Epoch 17/80\n"
     ]
    },
    {
     "data": {
      "application/vnd.jupyter.widget-view+json": {
       "model_id": "01525c88c7df40af89150a8edb7cb6f6",
       "version_major": 2,
       "version_minor": 0
      },
      "text/plain": [
       "  0%|          | 0/27 [00:00<?, ?it/s]"
      ]
     },
     "metadata": {},
     "output_type": "display_data"
    },
    {
     "data": {
      "application/vnd.jupyter.widget-view+json": {
       "model_id": "6a7300273bca4c7fb5edc69d6416a4e9",
       "version_major": 2,
       "version_minor": 0
      },
      "text/plain": [
       "Validation:   0%|          | 0/19 [00:00<?, ?it/s]"
      ]
     },
     "metadata": {},
     "output_type": "display_data"
    },
    {
     "name": "stdout",
     "output_type": "stream",
     "text": [
      "Train - Emotion Loss: 0.3428, Valence Loss: 0.2808, Total Loss: 0.3242\n",
      "Val - Emotion Loss: 0.3212, Valence Loss: 0.1157, Total Loss: 0.2595\n",
      "Val - Micro F1: 0.7869, Macro F1: 0.5509, Valence RMSE: 0.3398, Accuracy: 0.9035\n",
      "Saved best model!\n",
      "\n",
      "Epoch 18/80\n"
     ]
    },
    {
     "data": {
      "application/vnd.jupyter.widget-view+json": {
       "model_id": "44d7f58657d64f88a2c4a98362a7b3ab",
       "version_major": 2,
       "version_minor": 0
      },
      "text/plain": [
       "  0%|          | 0/27 [00:00<?, ?it/s]"
      ]
     },
     "metadata": {},
     "output_type": "display_data"
    },
    {
     "data": {
      "application/vnd.jupyter.widget-view+json": {
       "model_id": "738e2f1040de4971a07c47b8d33f591a",
       "version_major": 2,
       "version_minor": 0
      },
      "text/plain": [
       "Validation:   0%|          | 0/19 [00:00<?, ?it/s]"
      ]
     },
     "metadata": {},
     "output_type": "display_data"
    },
    {
     "name": "stdout",
     "output_type": "stream",
     "text": [
      "Train - Emotion Loss: 0.3320, Valence Loss: 0.2513, Total Loss: 0.3078\n",
      "Val - Emotion Loss: 0.3119, Valence Loss: 0.1351, Total Loss: 0.2589\n",
      "Val - Micro F1: 0.7791, Macro F1: 0.5644, Valence RMSE: 0.3673, Accuracy: 0.8989\n",
      "Saved best model!\n",
      "\n",
      "Epoch 19/80\n"
     ]
    },
    {
     "data": {
      "application/vnd.jupyter.widget-view+json": {
       "model_id": "579521f8e3204acaa1e82044d09b9d32",
       "version_major": 2,
       "version_minor": 0
      },
      "text/plain": [
       "  0%|          | 0/27 [00:00<?, ?it/s]"
      ]
     },
     "metadata": {},
     "output_type": "display_data"
    },
    {
     "data": {
      "application/vnd.jupyter.widget-view+json": {
       "model_id": "95aca8d73761498195a7a2e7b17be38a",
       "version_major": 2,
       "version_minor": 0
      },
      "text/plain": [
       "Validation:   0%|          | 0/19 [00:00<?, ?it/s]"
      ]
     },
     "metadata": {},
     "output_type": "display_data"
    },
    {
     "name": "stdout",
     "output_type": "stream",
     "text": [
      "Train - Emotion Loss: 0.3184, Valence Loss: 0.2443, Total Loss: 0.2962\n",
      "Val - Emotion Loss: 0.2976, Valence Loss: 0.1114, Total Loss: 0.2418\n",
      "Val - Micro F1: 0.8083, Macro F1: 0.5963, Valence RMSE: 0.3336, Accuracy: 0.9125\n",
      "Saved best model!\n",
      "\n",
      "Epoch 20/80\n"
     ]
    },
    {
     "data": {
      "application/vnd.jupyter.widget-view+json": {
       "model_id": "0c0b6845f486482bbcbd06c859b3d813",
       "version_major": 2,
       "version_minor": 0
      },
      "text/plain": [
       "  0%|          | 0/27 [00:00<?, ?it/s]"
      ]
     },
     "metadata": {},
     "output_type": "display_data"
    },
    {
     "data": {
      "application/vnd.jupyter.widget-view+json": {
       "model_id": "111ca9ffcff04357a857305a1707b2c5",
       "version_major": 2,
       "version_minor": 0
      },
      "text/plain": [
       "Validation:   0%|          | 0/19 [00:00<?, ?it/s]"
      ]
     },
     "metadata": {},
     "output_type": "display_data"
    },
    {
     "name": "stdout",
     "output_type": "stream",
     "text": [
      "Train - Emotion Loss: 0.3112, Valence Loss: 0.2692, Total Loss: 0.2986\n",
      "Val - Emotion Loss: 0.2902, Valence Loss: 0.1091, Total Loss: 0.2359\n",
      "Val - Micro F1: 0.8294, Macro F1: 0.6064, Valence RMSE: 0.3301, Accuracy: 0.9196\n",
      "Saved best model!\n",
      "\n",
      "Epoch 21/80\n"
     ]
    },
    {
     "data": {
      "application/vnd.jupyter.widget-view+json": {
       "model_id": "3aa7a37dd30a46a49b24dc913ce9631f",
       "version_major": 2,
       "version_minor": 0
      },
      "text/plain": [
       "  0%|          | 0/27 [00:00<?, ?it/s]"
      ]
     },
     "metadata": {},
     "output_type": "display_data"
    },
    {
     "data": {
      "application/vnd.jupyter.widget-view+json": {
       "model_id": "6a7c05982ab64417922d4e15110869e2",
       "version_major": 2,
       "version_minor": 0
      },
      "text/plain": [
       "Validation:   0%|          | 0/19 [00:00<?, ?it/s]"
      ]
     },
     "metadata": {},
     "output_type": "display_data"
    },
    {
     "name": "stdout",
     "output_type": "stream",
     "text": [
      "Train - Emotion Loss: 0.3032, Valence Loss: 0.2335, Total Loss: 0.2823\n",
      "Val - Emotion Loss: 0.2840, Valence Loss: 0.1104, Total Loss: 0.2319\n",
      "Val - Micro F1: 0.8311, Macro F1: 0.6127, Valence RMSE: 0.3321, Accuracy: 0.9183\n",
      "Saved best model!\n",
      "\n",
      "Epoch 22/80\n"
     ]
    },
    {
     "data": {
      "application/vnd.jupyter.widget-view+json": {
       "model_id": "9567cf6033a542f9b99d9b23f9803005",
       "version_major": 2,
       "version_minor": 0
      },
      "text/plain": [
       "  0%|          | 0/27 [00:00<?, ?it/s]"
      ]
     },
     "metadata": {},
     "output_type": "display_data"
    },
    {
     "data": {
      "application/vnd.jupyter.widget-view+json": {
       "model_id": "ddd43dc01ced4d74acffdc19605357bf",
       "version_major": 2,
       "version_minor": 0
      },
      "text/plain": [
       "Validation:   0%|          | 0/19 [00:00<?, ?it/s]"
      ]
     },
     "metadata": {},
     "output_type": "display_data"
    },
    {
     "name": "stdout",
     "output_type": "stream",
     "text": [
      "Train - Emotion Loss: 0.2964, Valence Loss: 0.2381, Total Loss: 0.2789\n",
      "Val - Emotion Loss: 0.2755, Valence Loss: 0.1581, Total Loss: 0.2403\n",
      "Val - Micro F1: 0.8382, Macro F1: 0.6199, Valence RMSE: 0.3971, Accuracy: 0.9216\n",
      "\n",
      "Epoch 23/80\n"
     ]
    },
    {
     "data": {
      "application/vnd.jupyter.widget-view+json": {
       "model_id": "ea2ab096c2c541088079845ee42356ee",
       "version_major": 2,
       "version_minor": 0
      },
      "text/plain": [
       "  0%|          | 0/27 [00:00<?, ?it/s]"
      ]
     },
     "metadata": {},
     "output_type": "display_data"
    },
    {
     "data": {
      "application/vnd.jupyter.widget-view+json": {
       "model_id": "35ef5740d16446dda00713749bac3cf9",
       "version_major": 2,
       "version_minor": 0
      },
      "text/plain": [
       "Validation:   0%|          | 0/19 [00:00<?, ?it/s]"
      ]
     },
     "metadata": {},
     "output_type": "display_data"
    },
    {
     "name": "stdout",
     "output_type": "stream",
     "text": [
      "Train - Emotion Loss: 0.2854, Valence Loss: 0.2595, Total Loss: 0.2776\n",
      "Val - Emotion Loss: 0.2665, Valence Loss: 0.1254, Total Loss: 0.2242\n",
      "Val - Micro F1: 0.8432, Macro F1: 0.6219, Valence RMSE: 0.3539, Accuracy: 0.9257\n",
      "Saved best model!\n",
      "\n",
      "Epoch 24/80\n"
     ]
    },
    {
     "data": {
      "application/vnd.jupyter.widget-view+json": {
       "model_id": "7469cf5f92034ef790d05e5e7d547678",
       "version_major": 2,
       "version_minor": 0
      },
      "text/plain": [
       "  0%|          | 0/27 [00:00<?, ?it/s]"
      ]
     },
     "metadata": {},
     "output_type": "display_data"
    },
    {
     "data": {
      "application/vnd.jupyter.widget-view+json": {
       "model_id": "a98de513936a403fa809f2aeddca1f19",
       "version_major": 2,
       "version_minor": 0
      },
      "text/plain": [
       "Validation:   0%|          | 0/19 [00:00<?, ?it/s]"
      ]
     },
     "metadata": {},
     "output_type": "display_data"
    },
    {
     "name": "stdout",
     "output_type": "stream",
     "text": [
      "Train - Emotion Loss: 0.2799, Valence Loss: 0.2396, Total Loss: 0.2678\n",
      "Val - Emotion Loss: 0.2631, Valence Loss: 0.1841, Total Loss: 0.2394\n",
      "Val - Micro F1: 0.8410, Macro F1: 0.6222, Valence RMSE: 0.4286, Accuracy: 0.9245\n",
      "\n",
      "Epoch 25/80\n"
     ]
    },
    {
     "data": {
      "application/vnd.jupyter.widget-view+json": {
       "model_id": "30dade4a5b514b0393d0749320921cb7",
       "version_major": 2,
       "version_minor": 0
      },
      "text/plain": [
       "  0%|          | 0/27 [00:00<?, ?it/s]"
      ]
     },
     "metadata": {},
     "output_type": "display_data"
    },
    {
     "data": {
      "application/vnd.jupyter.widget-view+json": {
       "model_id": "8639f70e8d104261a048b7646628bdde",
       "version_major": 2,
       "version_minor": 0
      },
      "text/plain": [
       "Validation:   0%|          | 0/19 [00:00<?, ?it/s]"
      ]
     },
     "metadata": {},
     "output_type": "display_data"
    },
    {
     "name": "stdout",
     "output_type": "stream",
     "text": [
      "Train - Emotion Loss: 0.2730, Valence Loss: 0.2117, Total Loss: 0.2546\n",
      "Val - Emotion Loss: 0.2540, Valence Loss: 0.1299, Total Loss: 0.2168\n",
      "Val - Micro F1: 0.8609, Macro F1: 0.6544, Valence RMSE: 0.3600, Accuracy: 0.9311\n",
      "Saved best model!\n",
      "\n",
      "Epoch 26/80\n"
     ]
    },
    {
     "data": {
      "application/vnd.jupyter.widget-view+json": {
       "model_id": "b60ea7334918438a8e778155bad1519d",
       "version_major": 2,
       "version_minor": 0
      },
      "text/plain": [
       "  0%|          | 0/27 [00:00<?, ?it/s]"
      ]
     },
     "metadata": {},
     "output_type": "display_data"
    },
    {
     "data": {
      "application/vnd.jupyter.widget-view+json": {
       "model_id": "352d0989ecb04f0f8a4e665972ab5779",
       "version_major": 2,
       "version_minor": 0
      },
      "text/plain": [
       "Validation:   0%|          | 0/19 [00:00<?, ?it/s]"
      ]
     },
     "metadata": {},
     "output_type": "display_data"
    },
    {
     "name": "stdout",
     "output_type": "stream",
     "text": [
      "Train - Emotion Loss: 0.2609, Valence Loss: 0.2402, Total Loss: 0.2547\n",
      "Val - Emotion Loss: 0.2476, Valence Loss: 0.1678, Total Loss: 0.2236\n",
      "Val - Micro F1: 0.8748, Macro F1: 0.6653, Valence RMSE: 0.4093, Accuracy: 0.9389\n",
      "\n",
      "Epoch 27/80\n"
     ]
    },
    {
     "data": {
      "application/vnd.jupyter.widget-view+json": {
       "model_id": "5a54267453414f5c90c620e6d50a123c",
       "version_major": 2,
       "version_minor": 0
      },
      "text/plain": [
       "  0%|          | 0/27 [00:00<?, ?it/s]"
      ]
     },
     "metadata": {},
     "output_type": "display_data"
    },
    {
     "data": {
      "application/vnd.jupyter.widget-view+json": {
       "model_id": "0022bf906074464bb7bcb9b60d7ebae6",
       "version_major": 2,
       "version_minor": 0
      },
      "text/plain": [
       "Validation:   0%|          | 0/19 [00:00<?, ?it/s]"
      ]
     },
     "metadata": {},
     "output_type": "display_data"
    },
    {
     "name": "stdout",
     "output_type": "stream",
     "text": [
      "Train - Emotion Loss: 0.2556, Valence Loss: 0.2638, Total Loss: 0.2581\n",
      "Val - Emotion Loss: 0.2451, Valence Loss: 0.1592, Total Loss: 0.2193\n",
      "Val - Micro F1: 0.8637, Macro F1: 0.6456, Valence RMSE: 0.3985, Accuracy: 0.9315\n",
      "\n",
      "Epoch 28/80\n"
     ]
    },
    {
     "data": {
      "application/vnd.jupyter.widget-view+json": {
       "model_id": "67832d0fa8214878b56aa2dfdb00b83f",
       "version_major": 2,
       "version_minor": 0
      },
      "text/plain": [
       "  0%|          | 0/27 [00:00<?, ?it/s]"
      ]
     },
     "metadata": {},
     "output_type": "display_data"
    },
    {
     "data": {
      "application/vnd.jupyter.widget-view+json": {
       "model_id": "7ddaba8823d048fb8f653e9cdfbae3d1",
       "version_major": 2,
       "version_minor": 0
      },
      "text/plain": [
       "Validation:   0%|          | 0/19 [00:00<?, ?it/s]"
      ]
     },
     "metadata": {},
     "output_type": "display_data"
    },
    {
     "name": "stdout",
     "output_type": "stream",
     "text": [
      "Train - Emotion Loss: 0.2525, Valence Loss: 0.2402, Total Loss: 0.2488\n",
      "Val - Emotion Loss: 0.2362, Valence Loss: 0.2033, Total Loss: 0.2263\n",
      "Val - Micro F1: 0.8813, Macro F1: 0.6697, Valence RMSE: 0.4505, Accuracy: 0.9427\n",
      "\n",
      "Epoch 29/80\n"
     ]
    },
    {
     "data": {
      "application/vnd.jupyter.widget-view+json": {
       "model_id": "65d509df50d440588e87ccc566efa5d6",
       "version_major": 2,
       "version_minor": 0
      },
      "text/plain": [
       "  0%|          | 0/27 [00:00<?, ?it/s]"
      ]
     },
     "metadata": {},
     "output_type": "display_data"
    },
    {
     "data": {
      "application/vnd.jupyter.widget-view+json": {
       "model_id": "f0c64c6fd5f5456689489a3961687146",
       "version_major": 2,
       "version_minor": 0
      },
      "text/plain": [
       "Validation:   0%|          | 0/19 [00:00<?, ?it/s]"
      ]
     },
     "metadata": {},
     "output_type": "display_data"
    },
    {
     "name": "stdout",
     "output_type": "stream",
     "text": [
      "Train - Emotion Loss: 0.2480, Valence Loss: 0.2208, Total Loss: 0.2399\n",
      "Val - Emotion Loss: 0.2300, Valence Loss: 0.1544, Total Loss: 0.2073\n",
      "Val - Micro F1: 0.8908, Macro F1: 0.6865, Valence RMSE: 0.3925, Accuracy: 0.9464\n",
      "Saved best model!\n",
      "\n",
      "Epoch 30/80\n"
     ]
    },
    {
     "data": {
      "application/vnd.jupyter.widget-view+json": {
       "model_id": "cc2968e2524d4ff298d17032e369d563",
       "version_major": 2,
       "version_minor": 0
      },
      "text/plain": [
       "  0%|          | 0/27 [00:00<?, ?it/s]"
      ]
     },
     "metadata": {},
     "output_type": "display_data"
    },
    {
     "data": {
      "application/vnd.jupyter.widget-view+json": {
       "model_id": "bb83b043bdd741e7b224617653fcdbde",
       "version_major": 2,
       "version_minor": 0
      },
      "text/plain": [
       "Validation:   0%|          | 0/19 [00:00<?, ?it/s]"
      ]
     },
     "metadata": {},
     "output_type": "display_data"
    },
    {
     "name": "stdout",
     "output_type": "stream",
     "text": [
      "Train - Emotion Loss: 0.2413, Valence Loss: 0.2010, Total Loss: 0.2292\n",
      "Val - Emotion Loss: 0.2215, Valence Loss: 0.1496, Total Loss: 0.1999\n",
      "Val - Micro F1: 0.8877, Macro F1: 0.6794, Valence RMSE: 0.3861, Accuracy: 0.9464\n",
      "Saved best model!\n",
      "\n",
      "Epoch 31/80\n"
     ]
    },
    {
     "data": {
      "application/vnd.jupyter.widget-view+json": {
       "model_id": "581ae2af344745008b46bdd8db1115ae",
       "version_major": 2,
       "version_minor": 0
      },
      "text/plain": [
       "  0%|          | 0/27 [00:00<?, ?it/s]"
      ]
     },
     "metadata": {},
     "output_type": "display_data"
    },
    {
     "data": {
      "application/vnd.jupyter.widget-view+json": {
       "model_id": "3ffb6a276b3745a3b4b875fc06f4afc3",
       "version_major": 2,
       "version_minor": 0
      },
      "text/plain": [
       "Validation:   0%|          | 0/19 [00:00<?, ?it/s]"
      ]
     },
     "metadata": {},
     "output_type": "display_data"
    },
    {
     "name": "stdout",
     "output_type": "stream",
     "text": [
      "Train - Emotion Loss: 0.2343, Valence Loss: 0.2443, Total Loss: 0.2373\n",
      "Val - Emotion Loss: 0.2181, Valence Loss: 0.1400, Total Loss: 0.1947\n",
      "Val - Micro F1: 0.9030, Macro F1: 0.7013, Valence RMSE: 0.3734, Accuracy: 0.9521\n",
      "Saved best model!\n",
      "\n",
      "Epoch 32/80\n"
     ]
    },
    {
     "data": {
      "application/vnd.jupyter.widget-view+json": {
       "model_id": "0ac8bc7b986946d7971fa3310b1339ab",
       "version_major": 2,
       "version_minor": 0
      },
      "text/plain": [
       "  0%|          | 0/27 [00:00<?, ?it/s]"
      ]
     },
     "metadata": {},
     "output_type": "display_data"
    },
    {
     "data": {
      "application/vnd.jupyter.widget-view+json": {
       "model_id": "6c6020846ad14962a0d4edf1dc6cea4b",
       "version_major": 2,
       "version_minor": 0
      },
      "text/plain": [
       "Validation:   0%|          | 0/19 [00:00<?, ?it/s]"
      ]
     },
     "metadata": {},
     "output_type": "display_data"
    },
    {
     "name": "stdout",
     "output_type": "stream",
     "text": [
      "Train - Emotion Loss: 0.2347, Valence Loss: 0.2145, Total Loss: 0.2286\n",
      "Val - Emotion Loss: 0.2103, Valence Loss: 0.1484, Total Loss: 0.1917\n",
      "Val - Micro F1: 0.9086, Macro F1: 0.7026, Valence RMSE: 0.3845, Accuracy: 0.9550\n",
      "Saved best model!\n",
      "\n",
      "Epoch 33/80\n"
     ]
    },
    {
     "data": {
      "application/vnd.jupyter.widget-view+json": {
       "model_id": "7eb11af822474aeaa92ab9c9c0e81372",
       "version_major": 2,
       "version_minor": 0
      },
      "text/plain": [
       "  0%|          | 0/27 [00:00<?, ?it/s]"
      ]
     },
     "metadata": {},
     "output_type": "display_data"
    },
    {
     "data": {
      "application/vnd.jupyter.widget-view+json": {
       "model_id": "601b73df344f432ba78e294fc3484c66",
       "version_major": 2,
       "version_minor": 0
      },
      "text/plain": [
       "Validation:   0%|          | 0/19 [00:00<?, ?it/s]"
      ]
     },
     "metadata": {},
     "output_type": "display_data"
    },
    {
     "name": "stdout",
     "output_type": "stream",
     "text": [
      "Train - Emotion Loss: 0.2249, Valence Loss: 0.2399, Total Loss: 0.2294\n",
      "Val - Emotion Loss: 0.2075, Valence Loss: 0.1083, Total Loss: 0.1777\n",
      "Val - Micro F1: 0.9123, Macro F1: 0.7026, Valence RMSE: 0.3286, Accuracy: 0.9567\n",
      "Saved best model!\n",
      "\n",
      "Epoch 34/80\n"
     ]
    },
    {
     "data": {
      "application/vnd.jupyter.widget-view+json": {
       "model_id": "e244d12d6d034c658358d68a6be1f5d0",
       "version_major": 2,
       "version_minor": 0
      },
      "text/plain": [
       "  0%|          | 0/27 [00:00<?, ?it/s]"
      ]
     },
     "metadata": {},
     "output_type": "display_data"
    },
    {
     "data": {
      "application/vnd.jupyter.widget-view+json": {
       "model_id": "73bf920a2a7941428dbe7d82804474fb",
       "version_major": 2,
       "version_minor": 0
      },
      "text/plain": [
       "Validation:   0%|          | 0/19 [00:00<?, ?it/s]"
      ]
     },
     "metadata": {},
     "output_type": "display_data"
    },
    {
     "name": "stdout",
     "output_type": "stream",
     "text": [
      "Train - Emotion Loss: 0.2194, Valence Loss: 0.2015, Total Loss: 0.2141\n",
      "Val - Emotion Loss: 0.2009, Valence Loss: 0.1234, Total Loss: 0.1776\n",
      "Val - Micro F1: 0.9285, Macro F1: 0.7400, Valence RMSE: 0.3507, Accuracy: 0.9645\n",
      "Saved best model!\n",
      "\n",
      "Epoch 35/80\n"
     ]
    },
    {
     "data": {
      "application/vnd.jupyter.widget-view+json": {
       "model_id": "d58a8a20f44c4eebad556d79babdbd19",
       "version_major": 2,
       "version_minor": 0
      },
      "text/plain": [
       "  0%|          | 0/27 [00:00<?, ?it/s]"
      ]
     },
     "metadata": {},
     "output_type": "display_data"
    },
    {
     "data": {
      "application/vnd.jupyter.widget-view+json": {
       "model_id": "cc236e7e2f564f80968763dcbc25fd9b",
       "version_major": 2,
       "version_minor": 0
      },
      "text/plain": [
       "Validation:   0%|          | 0/19 [00:00<?, ?it/s]"
      ]
     },
     "metadata": {},
     "output_type": "display_data"
    },
    {
     "name": "stdout",
     "output_type": "stream",
     "text": [
      "Train - Emotion Loss: 0.2161, Valence Loss: 0.2242, Total Loss: 0.2185\n",
      "Val - Emotion Loss: 0.1965, Valence Loss: 0.1749, Total Loss: 0.1900\n",
      "Val - Micro F1: 0.9247, Macro F1: 0.7402, Valence RMSE: 0.4177, Accuracy: 0.9629\n",
      "\n",
      "Epoch 36/80\n"
     ]
    },
    {
     "data": {
      "application/vnd.jupyter.widget-view+json": {
       "model_id": "4ed768a54cec426187fbcfd7a55059bc",
       "version_major": 2,
       "version_minor": 0
      },
      "text/plain": [
       "  0%|          | 0/27 [00:00<?, ?it/s]"
      ]
     },
     "metadata": {},
     "output_type": "display_data"
    },
    {
     "data": {
      "application/vnd.jupyter.widget-view+json": {
       "model_id": "45337281e9fc44008c25b60fd90a4598",
       "version_major": 2,
       "version_minor": 0
      },
      "text/plain": [
       "Validation:   0%|          | 0/19 [00:00<?, ?it/s]"
      ]
     },
     "metadata": {},
     "output_type": "display_data"
    },
    {
     "name": "stdout",
     "output_type": "stream",
     "text": [
      "Train - Emotion Loss: 0.2081, Valence Loss: 0.2542, Total Loss: 0.2219\n",
      "Val - Emotion Loss: 0.1967, Valence Loss: 0.1619, Total Loss: 0.1863\n",
      "Val - Micro F1: 0.9245, Macro F1: 0.7559, Valence RMSE: 0.4022, Accuracy: 0.9620\n",
      "\n",
      "Epoch 37/80\n"
     ]
    },
    {
     "data": {
      "application/vnd.jupyter.widget-view+json": {
       "model_id": "9b3f47cf7026446fa3c2e77b5152c958",
       "version_major": 2,
       "version_minor": 0
      },
      "text/plain": [
       "  0%|          | 0/27 [00:00<?, ?it/s]"
      ]
     },
     "metadata": {},
     "output_type": "display_data"
    },
    {
     "data": {
      "application/vnd.jupyter.widget-view+json": {
       "model_id": "8c749640dba446aa931c44daf59fd116",
       "version_major": 2,
       "version_minor": 0
      },
      "text/plain": [
       "Validation:   0%|          | 0/19 [00:00<?, ?it/s]"
      ]
     },
     "metadata": {},
     "output_type": "display_data"
    },
    {
     "name": "stdout",
     "output_type": "stream",
     "text": [
      "Train - Emotion Loss: 0.2079, Valence Loss: 0.2351, Total Loss: 0.2161\n",
      "Val - Emotion Loss: 0.1926, Valence Loss: 0.2044, Total Loss: 0.1962\n",
      "Val - Micro F1: 0.9255, Macro F1: 0.7344, Valence RMSE: 0.4516, Accuracy: 0.9629\n",
      "\n",
      "Epoch 38/80\n"
     ]
    },
    {
     "data": {
      "application/vnd.jupyter.widget-view+json": {
       "model_id": "ced478f94b1f4817b42d04a966c73523",
       "version_major": 2,
       "version_minor": 0
      },
      "text/plain": [
       "  0%|          | 0/27 [00:00<?, ?it/s]"
      ]
     },
     "metadata": {},
     "output_type": "display_data"
    },
    {
     "data": {
      "application/vnd.jupyter.widget-view+json": {
       "model_id": "c22f02ffb1e343f29e423b9f77f11c05",
       "version_major": 2,
       "version_minor": 0
      },
      "text/plain": [
       "Validation:   0%|          | 0/19 [00:00<?, ?it/s]"
      ]
     },
     "metadata": {},
     "output_type": "display_data"
    },
    {
     "name": "stdout",
     "output_type": "stream",
     "text": [
      "Train - Emotion Loss: 0.2080, Valence Loss: 0.2018, Total Loss: 0.2062\n",
      "Val - Emotion Loss: 0.1859, Valence Loss: 0.1353, Total Loss: 0.1707\n",
      "Val - Micro F1: 0.9330, Macro F1: 0.7563, Valence RMSE: 0.3673, Accuracy: 0.9666\n",
      "Saved best model!\n",
      "\n",
      "Epoch 39/80\n"
     ]
    },
    {
     "data": {
      "application/vnd.jupyter.widget-view+json": {
       "model_id": "8c5f13a25de347e6bc709ac43b4f87cc",
       "version_major": 2,
       "version_minor": 0
      },
      "text/plain": [
       "  0%|          | 0/27 [00:00<?, ?it/s]"
      ]
     },
     "metadata": {},
     "output_type": "display_data"
    },
    {
     "data": {
      "application/vnd.jupyter.widget-view+json": {
       "model_id": "5ac8f2d50d11455289e91894842f2659",
       "version_major": 2,
       "version_minor": 0
      },
      "text/plain": [
       "Validation:   0%|          | 0/19 [00:00<?, ?it/s]"
      ]
     },
     "metadata": {},
     "output_type": "display_data"
    },
    {
     "name": "stdout",
     "output_type": "stream",
     "text": [
      "Train - Emotion Loss: 0.2006, Valence Loss: 0.2343, Total Loss: 0.2107\n",
      "Val - Emotion Loss: 0.1834, Valence Loss: 0.1285, Total Loss: 0.1669\n",
      "Val - Micro F1: 0.9339, Macro F1: 0.7565, Valence RMSE: 0.3580, Accuracy: 0.9670\n",
      "Saved best model!\n",
      "\n",
      "Epoch 40/80\n"
     ]
    },
    {
     "data": {
      "application/vnd.jupyter.widget-view+json": {
       "model_id": "bfa72b62af88494ba21204025e668844",
       "version_major": 2,
       "version_minor": 0
      },
      "text/plain": [
       "  0%|          | 0/27 [00:00<?, ?it/s]"
      ]
     },
     "metadata": {},
     "output_type": "display_data"
    },
    {
     "data": {
      "application/vnd.jupyter.widget-view+json": {
       "model_id": "568e67ce891f4c70ac995a649e964f1d",
       "version_major": 2,
       "version_minor": 0
      },
      "text/plain": [
       "Validation:   0%|          | 0/19 [00:00<?, ?it/s]"
      ]
     },
     "metadata": {},
     "output_type": "display_data"
    },
    {
     "name": "stdout",
     "output_type": "stream",
     "text": [
      "Train - Emotion Loss: 0.1949, Valence Loss: 0.2157, Total Loss: 0.2011\n",
      "Val - Emotion Loss: 0.1795, Valence Loss: 0.1212, Total Loss: 0.1620\n",
      "Val - Micro F1: 0.9372, Macro F1: 0.7624, Valence RMSE: 0.3476, Accuracy: 0.9686\n",
      "Saved best model!\n",
      "\n",
      "Epoch 41/80\n"
     ]
    },
    {
     "data": {
      "application/vnd.jupyter.widget-view+json": {
       "model_id": "de6ca303c6f64f68987b186d77fed38c",
       "version_major": 2,
       "version_minor": 0
      },
      "text/plain": [
       "  0%|          | 0/27 [00:00<?, ?it/s]"
      ]
     },
     "metadata": {},
     "output_type": "display_data"
    },
    {
     "data": {
      "application/vnd.jupyter.widget-view+json": {
       "model_id": "89d48ddfadc741949f8faca7c31f0910",
       "version_major": 2,
       "version_minor": 0
      },
      "text/plain": [
       "Validation:   0%|          | 0/19 [00:00<?, ?it/s]"
      ]
     },
     "metadata": {},
     "output_type": "display_data"
    },
    {
     "name": "stdout",
     "output_type": "stream",
     "text": [
      "Train - Emotion Loss: 0.1938, Valence Loss: 0.2289, Total Loss: 0.2044\n",
      "Val - Emotion Loss: 0.1747, Valence Loss: 0.1364, Total Loss: 0.1632\n",
      "Val - Micro F1: 0.9441, Macro F1: 0.7897, Valence RMSE: 0.3688, Accuracy: 0.9719\n",
      "\n",
      "Epoch 42/80\n"
     ]
    },
    {
     "data": {
      "application/vnd.jupyter.widget-view+json": {
       "model_id": "bfadb99cd02e4ed4bc1e944665178fd7",
       "version_major": 2,
       "version_minor": 0
      },
      "text/plain": [
       "  0%|          | 0/27 [00:00<?, ?it/s]"
      ]
     },
     "metadata": {},
     "output_type": "display_data"
    },
    {
     "data": {
      "application/vnd.jupyter.widget-view+json": {
       "model_id": "b6a792c02baa4e6d9cca1a62b4762d06",
       "version_major": 2,
       "version_minor": 0
      },
      "text/plain": [
       "Validation:   0%|          | 0/19 [00:00<?, ?it/s]"
      ]
     },
     "metadata": {},
     "output_type": "display_data"
    },
    {
     "name": "stdout",
     "output_type": "stream",
     "text": [
      "Train - Emotion Loss: 0.1901, Valence Loss: 0.2323, Total Loss: 0.2028\n",
      "Val - Emotion Loss: 0.1735, Valence Loss: 0.1311, Total Loss: 0.1608\n",
      "Val - Micro F1: 0.9358, Macro F1: 0.7577, Valence RMSE: 0.3615, Accuracy: 0.9682\n",
      "Saved best model!\n",
      "\n",
      "Epoch 43/80\n"
     ]
    },
    {
     "data": {
      "application/vnd.jupyter.widget-view+json": {
       "model_id": "393d4bf962474b0880d862bba684fd67",
       "version_major": 2,
       "version_minor": 0
      },
      "text/plain": [
       "  0%|          | 0/27 [00:00<?, ?it/s]"
      ]
     },
     "metadata": {},
     "output_type": "display_data"
    },
    {
     "data": {
      "application/vnd.jupyter.widget-view+json": {
       "model_id": "6fb5cbf1722040a9b02e35b4ecce6cff",
       "version_major": 2,
       "version_minor": 0
      },
      "text/plain": [
       "Validation:   0%|          | 0/19 [00:00<?, ?it/s]"
      ]
     },
     "metadata": {},
     "output_type": "display_data"
    },
    {
     "name": "stdout",
     "output_type": "stream",
     "text": [
      "Train - Emotion Loss: 0.1913, Valence Loss: 0.2073, Total Loss: 0.1961\n",
      "Val - Emotion Loss: 0.1755, Valence Loss: 0.1533, Total Loss: 0.1689\n",
      "Val - Micro F1: 0.9416, Macro F1: 0.7941, Valence RMSE: 0.3910, Accuracy: 0.9703\n",
      "\n",
      "Epoch 44/80\n"
     ]
    },
    {
     "data": {
      "application/vnd.jupyter.widget-view+json": {
       "model_id": "2194c20f4c804274b08f960254e0055e",
       "version_major": 2,
       "version_minor": 0
      },
      "text/plain": [
       "  0%|          | 0/27 [00:00<?, ?it/s]"
      ]
     },
     "metadata": {},
     "output_type": "display_data"
    },
    {
     "data": {
      "application/vnd.jupyter.widget-view+json": {
       "model_id": "18baec20af814e4db9dd3bdc45e21479",
       "version_major": 2,
       "version_minor": 0
      },
      "text/plain": [
       "Validation:   0%|          | 0/19 [00:00<?, ?it/s]"
      ]
     },
     "metadata": {},
     "output_type": "display_data"
    },
    {
     "name": "stdout",
     "output_type": "stream",
     "text": [
      "Train - Emotion Loss: 0.1804, Valence Loss: 0.2247, Total Loss: 0.1937\n",
      "Val - Emotion Loss: 0.1649, Valence Loss: 0.1099, Total Loss: 0.1484\n",
      "Val - Micro F1: 0.9453, Macro F1: 0.7821, Valence RMSE: 0.3307, Accuracy: 0.9728\n",
      "Saved best model!\n",
      "\n",
      "Epoch 45/80\n"
     ]
    },
    {
     "data": {
      "application/vnd.jupyter.widget-view+json": {
       "model_id": "aadc266327a94de4bf01bfe8127a0cf8",
       "version_major": 2,
       "version_minor": 0
      },
      "text/plain": [
       "  0%|          | 0/27 [00:00<?, ?it/s]"
      ]
     },
     "metadata": {},
     "output_type": "display_data"
    },
    {
     "data": {
      "application/vnd.jupyter.widget-view+json": {
       "model_id": "ce4cf630eec74499ba5724c45c81dc8c",
       "version_major": 2,
       "version_minor": 0
      },
      "text/plain": [
       "Validation:   0%|          | 0/19 [00:00<?, ?it/s]"
      ]
     },
     "metadata": {},
     "output_type": "display_data"
    },
    {
     "name": "stdout",
     "output_type": "stream",
     "text": [
      "Train - Emotion Loss: 0.1808, Valence Loss: 0.1986, Total Loss: 0.1861\n",
      "Val - Emotion Loss: 0.1643, Valence Loss: 0.1074, Total Loss: 0.1473\n",
      "Val - Micro F1: 0.9509, Macro F1: 0.8012, Valence RMSE: 0.3270, Accuracy: 0.9752\n",
      "Saved best model!\n",
      "\n",
      "Epoch 46/80\n"
     ]
    },
    {
     "data": {
      "application/vnd.jupyter.widget-view+json": {
       "model_id": "4c80c0a0e6de4d2f9581f5d2894f71ce",
       "version_major": 2,
       "version_minor": 0
      },
      "text/plain": [
       "  0%|          | 0/27 [00:00<?, ?it/s]"
      ]
     },
     "metadata": {},
     "output_type": "display_data"
    },
    {
     "data": {
      "application/vnd.jupyter.widget-view+json": {
       "model_id": "d527190e1a494a59a5cd8885c1e1074f",
       "version_major": 2,
       "version_minor": 0
      },
      "text/plain": [
       "Validation:   0%|          | 0/19 [00:00<?, ?it/s]"
      ]
     },
     "metadata": {},
     "output_type": "display_data"
    },
    {
     "name": "stdout",
     "output_type": "stream",
     "text": [
      "Train - Emotion Loss: 0.1804, Valence Loss: 0.2175, Total Loss: 0.1915\n",
      "Val - Emotion Loss: 0.1631, Valence Loss: 0.1390, Total Loss: 0.1559\n",
      "Val - Micro F1: 0.9468, Macro F1: 0.7920, Valence RMSE: 0.3719, Accuracy: 0.9732\n",
      "\n",
      "Epoch 47/80\n"
     ]
    },
    {
     "data": {
      "application/vnd.jupyter.widget-view+json": {
       "model_id": "9fa0f2dc1f90471181f77c0ed53c22ce",
       "version_major": 2,
       "version_minor": 0
      },
      "text/plain": [
       "  0%|          | 0/27 [00:00<?, ?it/s]"
      ]
     },
     "metadata": {},
     "output_type": "display_data"
    },
    {
     "data": {
      "application/vnd.jupyter.widget-view+json": {
       "model_id": "0d73af0bbd9047ccbedc0271c38940d0",
       "version_major": 2,
       "version_minor": 0
      },
      "text/plain": [
       "Validation:   0%|          | 0/19 [00:00<?, ?it/s]"
      ]
     },
     "metadata": {},
     "output_type": "display_data"
    },
    {
     "name": "stdout",
     "output_type": "stream",
     "text": [
      "Train - Emotion Loss: 0.1755, Valence Loss: 0.2230, Total Loss: 0.1897\n",
      "Val - Emotion Loss: 0.1589, Valence Loss: 0.1209, Total Loss: 0.1475\n",
      "Val - Micro F1: 0.9497, Macro F1: 0.7959, Valence RMSE: 0.3470, Accuracy: 0.9748\n",
      "\n",
      "Epoch 48/80\n"
     ]
    },
    {
     "data": {
      "application/vnd.jupyter.widget-view+json": {
       "model_id": "04255263dc3c4392b8962ae2aa04370f",
       "version_major": 2,
       "version_minor": 0
      },
      "text/plain": [
       "  0%|          | 0/27 [00:00<?, ?it/s]"
      ]
     },
     "metadata": {},
     "output_type": "display_data"
    },
    {
     "data": {
      "application/vnd.jupyter.widget-view+json": {
       "model_id": "3af561f8fb5e45568e61621c192a97e7",
       "version_major": 2,
       "version_minor": 0
      },
      "text/plain": [
       "Validation:   0%|          | 0/19 [00:00<?, ?it/s]"
      ]
     },
     "metadata": {},
     "output_type": "display_data"
    },
    {
     "name": "stdout",
     "output_type": "stream",
     "text": [
      "Train - Emotion Loss: 0.1752, Valence Loss: 0.2253, Total Loss: 0.1903\n",
      "Val - Emotion Loss: 0.1577, Valence Loss: 0.1603, Total Loss: 0.1585\n",
      "Val - Micro F1: 0.9523, Macro F1: 0.8065, Valence RMSE: 0.3997, Accuracy: 0.9761\n",
      "\n",
      "Epoch 49/80\n"
     ]
    },
    {
     "data": {
      "application/vnd.jupyter.widget-view+json": {
       "model_id": "8d96595148eb4a1ea5092047942115b5",
       "version_major": 2,
       "version_minor": 0
      },
      "text/plain": [
       "  0%|          | 0/27 [00:00<?, ?it/s]"
      ]
     },
     "metadata": {},
     "output_type": "display_data"
    },
    {
     "data": {
      "application/vnd.jupyter.widget-view+json": {
       "model_id": "d9d13da1d57e4c65a7603e44221619d1",
       "version_major": 2,
       "version_minor": 0
      },
      "text/plain": [
       "Validation:   0%|          | 0/19 [00:00<?, ?it/s]"
      ]
     },
     "metadata": {},
     "output_type": "display_data"
    },
    {
     "name": "stdout",
     "output_type": "stream",
     "text": [
      "Train - Emotion Loss: 0.1724, Valence Loss: 0.2141, Total Loss: 0.1849\n",
      "Val - Emotion Loss: 0.1546, Valence Loss: 0.1468, Total Loss: 0.1523\n",
      "Val - Micro F1: 0.9488, Macro F1: 0.7977, Valence RMSE: 0.3825, Accuracy: 0.9744\n",
      "\n",
      "Epoch 50/80\n"
     ]
    },
    {
     "data": {
      "application/vnd.jupyter.widget-view+json": {
       "model_id": "3871dd2c667f419daad94800069cd07e",
       "version_major": 2,
       "version_minor": 0
      },
      "text/plain": [
       "  0%|          | 0/27 [00:00<?, ?it/s]"
      ]
     },
     "metadata": {},
     "output_type": "display_data"
    },
    {
     "data": {
      "application/vnd.jupyter.widget-view+json": {
       "model_id": "dd15929c7f6c452ab9c8f32510b0b58b",
       "version_major": 2,
       "version_minor": 0
      },
      "text/plain": [
       "Validation:   0%|          | 0/19 [00:00<?, ?it/s]"
      ]
     },
     "metadata": {},
     "output_type": "display_data"
    },
    {
     "name": "stdout",
     "output_type": "stream",
     "text": [
      "Train - Emotion Loss: 0.1741, Valence Loss: 0.2296, Total Loss: 0.1907\n",
      "Val - Emotion Loss: 0.1550, Valence Loss: 0.1387, Total Loss: 0.1502\n",
      "Val - Micro F1: 0.9541, Macro F1: 0.8107, Valence RMSE: 0.3718, Accuracy: 0.9769\n",
      "\n",
      "Epoch 51/80\n"
     ]
    },
    {
     "data": {
      "application/vnd.jupyter.widget-view+json": {
       "model_id": "f59eae687c544a4dba0d2907ad83f309",
       "version_major": 2,
       "version_minor": 0
      },
      "text/plain": [
       "  0%|          | 0/27 [00:00<?, ?it/s]"
      ]
     },
     "metadata": {},
     "output_type": "display_data"
    },
    {
     "data": {
      "application/vnd.jupyter.widget-view+json": {
       "model_id": "db182689966746ceabf852ae163c6a97",
       "version_major": 2,
       "version_minor": 0
      },
      "text/plain": [
       "Validation:   0%|          | 0/19 [00:00<?, ?it/s]"
      ]
     },
     "metadata": {},
     "output_type": "display_data"
    },
    {
     "name": "stdout",
     "output_type": "stream",
     "text": [
      "Train - Emotion Loss: 0.1678, Valence Loss: 0.2183, Total Loss: 0.1829\n",
      "Val - Emotion Loss: 0.1528, Valence Loss: 0.1126, Total Loss: 0.1407\n",
      "Val - Micro F1: 0.9560, Macro F1: 0.8213, Valence RMSE: 0.3349, Accuracy: 0.9777\n",
      "Saved best model!\n",
      "\n",
      "Epoch 52/80\n"
     ]
    },
    {
     "data": {
      "application/vnd.jupyter.widget-view+json": {
       "model_id": "4f7af963d4d44f7d8d5de558f62a82c0",
       "version_major": 2,
       "version_minor": 0
      },
      "text/plain": [
       "  0%|          | 0/27 [00:00<?, ?it/s]"
      ]
     },
     "metadata": {},
     "output_type": "display_data"
    },
    {
     "data": {
      "application/vnd.jupyter.widget-view+json": {
       "model_id": "40812d3cf9f2431c8019d45f3d062baa",
       "version_major": 2,
       "version_minor": 0
      },
      "text/plain": [
       "Validation:   0%|          | 0/19 [00:00<?, ?it/s]"
      ]
     },
     "metadata": {},
     "output_type": "display_data"
    },
    {
     "name": "stdout",
     "output_type": "stream",
     "text": [
      "Train - Emotion Loss: 0.1667, Valence Loss: 0.2120, Total Loss: 0.1803\n",
      "Val - Emotion Loss: 0.1486, Valence Loss: 0.1074, Total Loss: 0.1362\n",
      "Val - Micro F1: 0.9591, Macro F1: 0.8241, Valence RMSE: 0.3272, Accuracy: 0.9794\n",
      "Saved best model!\n",
      "\n",
      "Epoch 53/80\n"
     ]
    },
    {
     "data": {
      "application/vnd.jupyter.widget-view+json": {
       "model_id": "bf23da91eb0d43f0944d7e7c7fd03093",
       "version_major": 2,
       "version_minor": 0
      },
      "text/plain": [
       "  0%|          | 0/27 [00:00<?, ?it/s]"
      ]
     },
     "metadata": {},
     "output_type": "display_data"
    },
    {
     "data": {
      "application/vnd.jupyter.widget-view+json": {
       "model_id": "2874e32b6ae94307a3eaa81b7d6924ea",
       "version_major": 2,
       "version_minor": 0
      },
      "text/plain": [
       "Validation:   0%|          | 0/19 [00:00<?, ?it/s]"
      ]
     },
     "metadata": {},
     "output_type": "display_data"
    },
    {
     "name": "stdout",
     "output_type": "stream",
     "text": [
      "Train - Emotion Loss: 0.1653, Valence Loss: 0.2136, Total Loss: 0.1798\n",
      "Val - Emotion Loss: 0.1466, Valence Loss: 0.1092, Total Loss: 0.1354\n",
      "Val - Micro F1: 0.9607, Macro F1: 0.8221, Valence RMSE: 0.3299, Accuracy: 0.9802\n",
      "Saved best model!\n",
      "\n",
      "Epoch 54/80\n"
     ]
    },
    {
     "data": {
      "application/vnd.jupyter.widget-view+json": {
       "model_id": "6a539f65032347779ae25dd8d460d145",
       "version_major": 2,
       "version_minor": 0
      },
      "text/plain": [
       "  0%|          | 0/27 [00:00<?, ?it/s]"
      ]
     },
     "metadata": {},
     "output_type": "display_data"
    },
    {
     "data": {
      "application/vnd.jupyter.widget-view+json": {
       "model_id": "b0b121ae88134664aff58e9f332afc1b",
       "version_major": 2,
       "version_minor": 0
      },
      "text/plain": [
       "Validation:   0%|          | 0/19 [00:00<?, ?it/s]"
      ]
     },
     "metadata": {},
     "output_type": "display_data"
    },
    {
     "name": "stdout",
     "output_type": "stream",
     "text": [
      "Train - Emotion Loss: 0.1620, Valence Loss: 0.1957, Total Loss: 0.1721\n",
      "Val - Emotion Loss: 0.1478, Valence Loss: 0.1491, Total Loss: 0.1482\n",
      "Val - Micro F1: 0.9567, Macro F1: 0.8144, Valence RMSE: 0.3856, Accuracy: 0.9781\n",
      "\n",
      "Epoch 55/80\n"
     ]
    },
    {
     "data": {
      "application/vnd.jupyter.widget-view+json": {
       "model_id": "531abb9f649b4c9db891895daaa7d7b0",
       "version_major": 2,
       "version_minor": 0
      },
      "text/plain": [
       "  0%|          | 0/27 [00:00<?, ?it/s]"
      ]
     },
     "metadata": {},
     "output_type": "display_data"
    },
    {
     "data": {
      "application/vnd.jupyter.widget-view+json": {
       "model_id": "24ce9571c2db4f15adf8d336e7fe8fb0",
       "version_major": 2,
       "version_minor": 0
      },
      "text/plain": [
       "Validation:   0%|          | 0/19 [00:00<?, ?it/s]"
      ]
     },
     "metadata": {},
     "output_type": "display_data"
    },
    {
     "name": "stdout",
     "output_type": "stream",
     "text": [
      "Train - Emotion Loss: 0.1606, Valence Loss: 0.1866, Total Loss: 0.1684\n",
      "Val - Emotion Loss: 0.1426, Valence Loss: 0.1523, Total Loss: 0.1455\n",
      "Val - Micro F1: 0.9555, Macro F1: 0.8082, Valence RMSE: 0.3894, Accuracy: 0.9777\n",
      "\n",
      "Epoch 56/80\n"
     ]
    },
    {
     "data": {
      "application/vnd.jupyter.widget-view+json": {
       "model_id": "825cc1c062084688a8e3aae4427d6a7f",
       "version_major": 2,
       "version_minor": 0
      },
      "text/plain": [
       "  0%|          | 0/27 [00:00<?, ?it/s]"
      ]
     },
     "metadata": {},
     "output_type": "display_data"
    },
    {
     "data": {
      "application/vnd.jupyter.widget-view+json": {
       "model_id": "4eaf8e7591c54dc9ba69f763d72fc5d9",
       "version_major": 2,
       "version_minor": 0
      },
      "text/plain": [
       "Validation:   0%|          | 0/19 [00:00<?, ?it/s]"
      ]
     },
     "metadata": {},
     "output_type": "display_data"
    },
    {
     "name": "stdout",
     "output_type": "stream",
     "text": [
      "Train - Emotion Loss: 0.1587, Valence Loss: 0.1811, Total Loss: 0.1655\n",
      "Val - Emotion Loss: 0.1432, Valence Loss: 0.1555, Total Loss: 0.1469\n",
      "Val - Micro F1: 0.9625, Macro F1: 0.8282, Valence RMSE: 0.3937, Accuracy: 0.9810\n",
      "\n",
      "Epoch 57/80\n"
     ]
    },
    {
     "data": {
      "application/vnd.jupyter.widget-view+json": {
       "model_id": "13356d2f12544dfd9fc7573a15133c4f",
       "version_major": 2,
       "version_minor": 0
      },
      "text/plain": [
       "  0%|          | 0/27 [00:00<?, ?it/s]"
      ]
     },
     "metadata": {},
     "output_type": "display_data"
    },
    {
     "data": {
      "application/vnd.jupyter.widget-view+json": {
       "model_id": "e200726dbaa94bdd8b14f2fe57f7effd",
       "version_major": 2,
       "version_minor": 0
      },
      "text/plain": [
       "Validation:   0%|          | 0/19 [00:00<?, ?it/s]"
      ]
     },
     "metadata": {},
     "output_type": "display_data"
    },
    {
     "name": "stdout",
     "output_type": "stream",
     "text": [
      "Train - Emotion Loss: 0.1572, Valence Loss: 0.1716, Total Loss: 0.1615\n",
      "Val - Emotion Loss: 0.1397, Valence Loss: 0.1298, Total Loss: 0.1367\n",
      "Val - Micro F1: 0.9666, Macro F1: 0.8383, Valence RMSE: 0.3594, Accuracy: 0.9831\n",
      "\n",
      "Epoch 58/80\n"
     ]
    },
    {
     "data": {
      "application/vnd.jupyter.widget-view+json": {
       "model_id": "d9e167b916df4935985a7865ebb0bf91",
       "version_major": 2,
       "version_minor": 0
      },
      "text/plain": [
       "  0%|          | 0/27 [00:00<?, ?it/s]"
      ]
     },
     "metadata": {},
     "output_type": "display_data"
    },
    {
     "data": {
      "application/vnd.jupyter.widget-view+json": {
       "model_id": "2c71196ee452404d90073681d96d749a",
       "version_major": 2,
       "version_minor": 0
      },
      "text/plain": [
       "Validation:   0%|          | 0/19 [00:00<?, ?it/s]"
      ]
     },
     "metadata": {},
     "output_type": "display_data"
    },
    {
     "name": "stdout",
     "output_type": "stream",
     "text": [
      "Train - Emotion Loss: 0.1534, Valence Loss: 0.2054, Total Loss: 0.1690\n",
      "Val - Emotion Loss: 0.1389, Valence Loss: 0.1413, Total Loss: 0.1396\n",
      "Val - Micro F1: 0.9607, Macro F1: 0.8200, Valence RMSE: 0.3752, Accuracy: 0.9802\n",
      "\n",
      "Epoch 59/80\n"
     ]
    },
    {
     "data": {
      "application/vnd.jupyter.widget-view+json": {
       "model_id": "d1285c5cd6a74e89a701ff7d711cd260",
       "version_major": 2,
       "version_minor": 0
      },
      "text/plain": [
       "  0%|          | 0/27 [00:00<?, ?it/s]"
      ]
     },
     "metadata": {},
     "output_type": "display_data"
    },
    {
     "data": {
      "application/vnd.jupyter.widget-view+json": {
       "model_id": "3ec1b968c29a4ecfab1f7a2ebbe2b302",
       "version_major": 2,
       "version_minor": 0
      },
      "text/plain": [
       "Validation:   0%|          | 0/19 [00:00<?, ?it/s]"
      ]
     },
     "metadata": {},
     "output_type": "display_data"
    },
    {
     "name": "stdout",
     "output_type": "stream",
     "text": [
      "Train - Emotion Loss: 0.1537, Valence Loss: 0.1882, Total Loss: 0.1641\n",
      "Val - Emotion Loss: 0.1382, Valence Loss: 0.1291, Total Loss: 0.1355\n",
      "Val - Micro F1: 0.9657, Macro F1: 0.8372, Valence RMSE: 0.3587, Accuracy: 0.9827\n",
      "\n",
      "Epoch 60/80\n"
     ]
    },
    {
     "data": {
      "application/vnd.jupyter.widget-view+json": {
       "model_id": "41d7c518e34a4e818e46d8fd663bc4f8",
       "version_major": 2,
       "version_minor": 0
      },
      "text/plain": [
       "  0%|          | 0/27 [00:00<?, ?it/s]"
      ]
     },
     "metadata": {},
     "output_type": "display_data"
    },
    {
     "data": {
      "application/vnd.jupyter.widget-view+json": {
       "model_id": "09146191907740a5ae0c2da85d63cf5a",
       "version_major": 2,
       "version_minor": 0
      },
      "text/plain": [
       "Validation:   0%|          | 0/19 [00:00<?, ?it/s]"
      ]
     },
     "metadata": {},
     "output_type": "display_data"
    },
    {
     "name": "stdout",
     "output_type": "stream",
     "text": [
      "Train - Emotion Loss: 0.1520, Valence Loss: 0.1980, Total Loss: 0.1658\n",
      "Val - Emotion Loss: 0.1381, Valence Loss: 0.1209, Total Loss: 0.1330\n",
      "Val - Micro F1: 0.9643, Macro F1: 0.8360, Valence RMSE: 0.3472, Accuracy: 0.9818\n",
      "Saved best model!\n",
      "\n",
      "Epoch 61/80\n"
     ]
    },
    {
     "data": {
      "application/vnd.jupyter.widget-view+json": {
       "model_id": "d1bd2d78d7364ad09f55768be412fef6",
       "version_major": 2,
       "version_minor": 0
      },
      "text/plain": [
       "  0%|          | 0/27 [00:00<?, ?it/s]"
      ]
     },
     "metadata": {},
     "output_type": "display_data"
    },
    {
     "data": {
      "application/vnd.jupyter.widget-view+json": {
       "model_id": "3622595ccfb64c3e8428c00261b2c50d",
       "version_major": 2,
       "version_minor": 0
      },
      "text/plain": [
       "Validation:   0%|          | 0/19 [00:00<?, ?it/s]"
      ]
     },
     "metadata": {},
     "output_type": "display_data"
    },
    {
     "name": "stdout",
     "output_type": "stream",
     "text": [
      "Train - Emotion Loss: 0.1523, Valence Loss: 0.2138, Total Loss: 0.1707\n",
      "Val - Emotion Loss: 0.1350, Valence Loss: 0.1183, Total Loss: 0.1300\n",
      "Val - Micro F1: 0.9683, Macro F1: 0.8407, Valence RMSE: 0.3435, Accuracy: 0.9839\n",
      "Saved best model!\n",
      "\n",
      "Epoch 62/80\n"
     ]
    },
    {
     "data": {
      "application/vnd.jupyter.widget-view+json": {
       "model_id": "f41be2326c0e4d9287446f0e11e5fc74",
       "version_major": 2,
       "version_minor": 0
      },
      "text/plain": [
       "  0%|          | 0/27 [00:00<?, ?it/s]"
      ]
     },
     "metadata": {},
     "output_type": "display_data"
    },
    {
     "data": {
      "application/vnd.jupyter.widget-view+json": {
       "model_id": "cc9aa824ad1d4193a70bd4acd5aea7c4",
       "version_major": 2,
       "version_minor": 0
      },
      "text/plain": [
       "Validation:   0%|          | 0/19 [00:00<?, ?it/s]"
      ]
     },
     "metadata": {},
     "output_type": "display_data"
    },
    {
     "name": "stdout",
     "output_type": "stream",
     "text": [
      "Train - Emotion Loss: 0.1481, Valence Loss: 0.2141, Total Loss: 0.1679\n",
      "Val - Emotion Loss: 0.1344, Valence Loss: 0.1308, Total Loss: 0.1333\n",
      "Val - Micro F1: 0.9666, Macro F1: 0.8395, Valence RMSE: 0.3610, Accuracy: 0.9831\n",
      "\n",
      "Epoch 63/80\n"
     ]
    },
    {
     "data": {
      "application/vnd.jupyter.widget-view+json": {
       "model_id": "c862de439cd44c69be4ba011b7765644",
       "version_major": 2,
       "version_minor": 0
      },
      "text/plain": [
       "  0%|          | 0/27 [00:00<?, ?it/s]"
      ]
     },
     "metadata": {},
     "output_type": "display_data"
    },
    {
     "data": {
      "application/vnd.jupyter.widget-view+json": {
       "model_id": "4f994e1160094943afe872f4a234cf1f",
       "version_major": 2,
       "version_minor": 0
      },
      "text/plain": [
       "Validation:   0%|          | 0/19 [00:00<?, ?it/s]"
      ]
     },
     "metadata": {},
     "output_type": "display_data"
    },
    {
     "name": "stdout",
     "output_type": "stream",
     "text": [
      "Train - Emotion Loss: 0.1476, Valence Loss: 0.2191, Total Loss: 0.1691\n",
      "Val - Emotion Loss: 0.1326, Valence Loss: 0.1267, Total Loss: 0.1308\n",
      "Val - Micro F1: 0.9657, Macro F1: 0.8359, Valence RMSE: 0.3552, Accuracy: 0.9827\n",
      "\n",
      "Epoch 64/80\n"
     ]
    },
    {
     "data": {
      "application/vnd.jupyter.widget-view+json": {
       "model_id": "90141c40f8a94ef0aa2f33960b7b5278",
       "version_major": 2,
       "version_minor": 0
      },
      "text/plain": [
       "  0%|          | 0/27 [00:00<?, ?it/s]"
      ]
     },
     "metadata": {},
     "output_type": "display_data"
    },
    {
     "data": {
      "application/vnd.jupyter.widget-view+json": {
       "model_id": "d689dfa58d834014906dd6323a6909cf",
       "version_major": 2,
       "version_minor": 0
      },
      "text/plain": [
       "Validation:   0%|          | 0/19 [00:00<?, ?it/s]"
      ]
     },
     "metadata": {},
     "output_type": "display_data"
    },
    {
     "name": "stdout",
     "output_type": "stream",
     "text": [
      "Train - Emotion Loss: 0.1475, Valence Loss: 0.2082, Total Loss: 0.1657\n",
      "Val - Emotion Loss: 0.1322, Valence Loss: 0.1159, Total Loss: 0.1273\n",
      "Val - Micro F1: 0.9691, Macro F1: 0.8446, Valence RMSE: 0.3399, Accuracy: 0.9843\n",
      "Saved best model!\n",
      "\n",
      "Epoch 65/80\n"
     ]
    },
    {
     "data": {
      "application/vnd.jupyter.widget-view+json": {
       "model_id": "35ddcaa17e0b4000b05e621cef934c3a",
       "version_major": 2,
       "version_minor": 0
      },
      "text/plain": [
       "  0%|          | 0/27 [00:00<?, ?it/s]"
      ]
     },
     "metadata": {},
     "output_type": "display_data"
    },
    {
     "data": {
      "application/vnd.jupyter.widget-view+json": {
       "model_id": "d4a9f887393e4e2bb21211323170d8f6",
       "version_major": 2,
       "version_minor": 0
      },
      "text/plain": [
       "Validation:   0%|          | 0/19 [00:00<?, ?it/s]"
      ]
     },
     "metadata": {},
     "output_type": "display_data"
    },
    {
     "name": "stdout",
     "output_type": "stream",
     "text": [
      "Train - Emotion Loss: 0.1472, Valence Loss: 0.2116, Total Loss: 0.1665\n",
      "Val - Emotion Loss: 0.1315, Valence Loss: 0.1238, Total Loss: 0.1292\n",
      "Val - Micro F1: 0.9666, Macro F1: 0.8365, Valence RMSE: 0.3511, Accuracy: 0.9831\n",
      "\n",
      "Epoch 66/80\n"
     ]
    },
    {
     "data": {
      "application/vnd.jupyter.widget-view+json": {
       "model_id": "0888ed9c8ecc4b5ca39831baa17aaef2",
       "version_major": 2,
       "version_minor": 0
      },
      "text/plain": [
       "  0%|          | 0/27 [00:00<?, ?it/s]"
      ]
     },
     "metadata": {},
     "output_type": "display_data"
    },
    {
     "data": {
      "application/vnd.jupyter.widget-view+json": {
       "model_id": "059de3d4e2e74d3b844dcfbcc23f3259",
       "version_major": 2,
       "version_minor": 0
      },
      "text/plain": [
       "Validation:   0%|          | 0/19 [00:00<?, ?it/s]"
      ]
     },
     "metadata": {},
     "output_type": "display_data"
    },
    {
     "name": "stdout",
     "output_type": "stream",
     "text": [
      "Train - Emotion Loss: 0.1397, Valence Loss: 0.1795, Total Loss: 0.1517\n",
      "Val - Emotion Loss: 0.1304, Valence Loss: 0.1145, Total Loss: 0.1256\n",
      "Val - Micro F1: 0.9691, Macro F1: 0.8410, Valence RMSE: 0.3377, Accuracy: 0.9843\n",
      "Saved best model!\n",
      "\n",
      "Epoch 67/80\n"
     ]
    },
    {
     "data": {
      "application/vnd.jupyter.widget-view+json": {
       "model_id": "dcdbe3267e254e3d9003cbeb4c694f04",
       "version_major": 2,
       "version_minor": 0
      },
      "text/plain": [
       "  0%|          | 0/27 [00:00<?, ?it/s]"
      ]
     },
     "metadata": {},
     "output_type": "display_data"
    },
    {
     "data": {
      "application/vnd.jupyter.widget-view+json": {
       "model_id": "dd743b53fcae48b5baf8fa2ff6c6f360",
       "version_major": 2,
       "version_minor": 0
      },
      "text/plain": [
       "Validation:   0%|          | 0/19 [00:00<?, ?it/s]"
      ]
     },
     "metadata": {},
     "output_type": "display_data"
    },
    {
     "name": "stdout",
     "output_type": "stream",
     "text": [
      "Train - Emotion Loss: 0.1438, Valence Loss: 0.1902, Total Loss: 0.1577\n",
      "Val - Emotion Loss: 0.1301, Valence Loss: 0.1208, Total Loss: 0.1273\n",
      "Val - Micro F1: 0.9707, Macro F1: 0.8436, Valence RMSE: 0.3468, Accuracy: 0.9851\n",
      "\n",
      "Epoch 68/80\n"
     ]
    },
    {
     "data": {
      "application/vnd.jupyter.widget-view+json": {
       "model_id": "6189941ae73a481b895d47483cc00d03",
       "version_major": 2,
       "version_minor": 0
      },
      "text/plain": [
       "  0%|          | 0/27 [00:00<?, ?it/s]"
      ]
     },
     "metadata": {},
     "output_type": "display_data"
    },
    {
     "data": {
      "application/vnd.jupyter.widget-view+json": {
       "model_id": "34e7f1dc91f04c57b90f09c5c3f0159c",
       "version_major": 2,
       "version_minor": 0
      },
      "text/plain": [
       "Validation:   0%|          | 0/19 [00:00<?, ?it/s]"
      ]
     },
     "metadata": {},
     "output_type": "display_data"
    },
    {
     "name": "stdout",
     "output_type": "stream",
     "text": [
      "Train - Emotion Loss: 0.1444, Valence Loss: 0.1809, Total Loss: 0.1554\n",
      "Val - Emotion Loss: 0.1294, Valence Loss: 0.1627, Total Loss: 0.1394\n",
      "Val - Micro F1: 0.9674, Macro F1: 0.8372, Valence RMSE: 0.4027, Accuracy: 0.9835\n",
      "\n",
      "Epoch 69/80\n"
     ]
    },
    {
     "data": {
      "application/vnd.jupyter.widget-view+json": {
       "model_id": "5e0d29117e6f40799c21ba4321f79d62",
       "version_major": 2,
       "version_minor": 0
      },
      "text/plain": [
       "  0%|          | 0/27 [00:00<?, ?it/s]"
      ]
     },
     "metadata": {},
     "output_type": "display_data"
    },
    {
     "data": {
      "application/vnd.jupyter.widget-view+json": {
       "model_id": "04485a02d6cd4ad5b6c9605bb1a8a804",
       "version_major": 2,
       "version_minor": 0
      },
      "text/plain": [
       "Validation:   0%|          | 0/19 [00:00<?, ?it/s]"
      ]
     },
     "metadata": {},
     "output_type": "display_data"
    },
    {
     "name": "stdout",
     "output_type": "stream",
     "text": [
      "Train - Emotion Loss: 0.1437, Valence Loss: 0.2104, Total Loss: 0.1637\n",
      "Val - Emotion Loss: 0.1272, Valence Loss: 0.1158, Total Loss: 0.1238\n",
      "Val - Micro F1: 0.9691, Macro F1: 0.8413, Valence RMSE: 0.3398, Accuracy: 0.9843\n",
      "Saved best model!\n",
      "\n",
      "Epoch 70/80\n"
     ]
    },
    {
     "data": {
      "application/vnd.jupyter.widget-view+json": {
       "model_id": "bfd6d0fa4bf2416f9a52eb6e1b5b4d39",
       "version_major": 2,
       "version_minor": 0
      },
      "text/plain": [
       "  0%|          | 0/27 [00:00<?, ?it/s]"
      ]
     },
     "metadata": {},
     "output_type": "display_data"
    },
    {
     "data": {
      "application/vnd.jupyter.widget-view+json": {
       "model_id": "e5d138ff173345afb0eabcd112008d31",
       "version_major": 2,
       "version_minor": 0
      },
      "text/plain": [
       "Validation:   0%|          | 0/19 [00:00<?, ?it/s]"
      ]
     },
     "metadata": {},
     "output_type": "display_data"
    },
    {
     "name": "stdout",
     "output_type": "stream",
     "text": [
      "Train - Emotion Loss: 0.1425, Valence Loss: 0.1918, Total Loss: 0.1573\n",
      "Val - Emotion Loss: 0.1273, Valence Loss: 0.1254, Total Loss: 0.1267\n",
      "Val - Micro F1: 0.9724, Macro F1: 0.8494, Valence RMSE: 0.3535, Accuracy: 0.9860\n",
      "\n",
      "Epoch 71/80\n"
     ]
    },
    {
     "data": {
      "application/vnd.jupyter.widget-view+json": {
       "model_id": "04fa5631aa1c4993b103dd9ff7e6a38e",
       "version_major": 2,
       "version_minor": 0
      },
      "text/plain": [
       "  0%|          | 0/27 [00:00<?, ?it/s]"
      ]
     },
     "metadata": {},
     "output_type": "display_data"
    },
    {
     "data": {
      "application/vnd.jupyter.widget-view+json": {
       "model_id": "b5235a6b0a294d6fb17697392344a5b8",
       "version_major": 2,
       "version_minor": 0
      },
      "text/plain": [
       "Validation:   0%|          | 0/19 [00:00<?, ?it/s]"
      ]
     },
     "metadata": {},
     "output_type": "display_data"
    },
    {
     "name": "stdout",
     "output_type": "stream",
     "text": [
      "Train - Emotion Loss: 0.1411, Valence Loss: 0.2113, Total Loss: 0.1622\n",
      "Val - Emotion Loss: 0.1273, Valence Loss: 0.1491, Total Loss: 0.1339\n",
      "Val - Micro F1: 0.9674, Macro F1: 0.8372, Valence RMSE: 0.3854, Accuracy: 0.9835\n",
      "\n",
      "Epoch 72/80\n"
     ]
    },
    {
     "data": {
      "application/vnd.jupyter.widget-view+json": {
       "model_id": "9086038b8b2a47dbb164a3931516d865",
       "version_major": 2,
       "version_minor": 0
      },
      "text/plain": [
       "  0%|          | 0/27 [00:00<?, ?it/s]"
      ]
     },
     "metadata": {},
     "output_type": "display_data"
    },
    {
     "data": {
      "application/vnd.jupyter.widget-view+json": {
       "model_id": "fe256b485dc149e1924a2f4b94bcf3bc",
       "version_major": 2,
       "version_minor": 0
      },
      "text/plain": [
       "Validation:   0%|          | 0/19 [00:00<?, ?it/s]"
      ]
     },
     "metadata": {},
     "output_type": "display_data"
    },
    {
     "name": "stdout",
     "output_type": "stream",
     "text": [
      "Train - Emotion Loss: 0.1403, Valence Loss: 0.1949, Total Loss: 0.1567\n",
      "Val - Emotion Loss: 0.1265, Valence Loss: 0.1156, Total Loss: 0.1232\n",
      "Val - Micro F1: 0.9707, Macro F1: 0.8453, Valence RMSE: 0.3393, Accuracy: 0.9851\n",
      "Saved best model!\n",
      "\n",
      "Epoch 73/80\n"
     ]
    },
    {
     "data": {
      "application/vnd.jupyter.widget-view+json": {
       "model_id": "0affe0b348a2448db60d3733b3defce3",
       "version_major": 2,
       "version_minor": 0
      },
      "text/plain": [
       "  0%|          | 0/27 [00:00<?, ?it/s]"
      ]
     },
     "metadata": {},
     "output_type": "display_data"
    },
    {
     "data": {
      "application/vnd.jupyter.widget-view+json": {
       "model_id": "df0d779e3a114885b92f04ef438a2e86",
       "version_major": 2,
       "version_minor": 0
      },
      "text/plain": [
       "Validation:   0%|          | 0/19 [00:00<?, ?it/s]"
      ]
     },
     "metadata": {},
     "output_type": "display_data"
    },
    {
     "name": "stdout",
     "output_type": "stream",
     "text": [
      "Train - Emotion Loss: 0.1399, Valence Loss: 0.2061, Total Loss: 0.1598\n",
      "Val - Emotion Loss: 0.1256, Valence Loss: 0.1257, Total Loss: 0.1256\n",
      "Val - Micro F1: 0.9691, Macro F1: 0.8410, Valence RMSE: 0.3539, Accuracy: 0.9843\n",
      "\n",
      "Epoch 74/80\n"
     ]
    },
    {
     "data": {
      "application/vnd.jupyter.widget-view+json": {
       "model_id": "51c38f461ddb4d8c8ad9556013450ac4",
       "version_major": 2,
       "version_minor": 0
      },
      "text/plain": [
       "  0%|          | 0/27 [00:00<?, ?it/s]"
      ]
     },
     "metadata": {},
     "output_type": "display_data"
    },
    {
     "data": {
      "application/vnd.jupyter.widget-view+json": {
       "model_id": "0e75d856916c4811a4029b85ff288d52",
       "version_major": 2,
       "version_minor": 0
      },
      "text/plain": [
       "Validation:   0%|          | 0/19 [00:00<?, ?it/s]"
      ]
     },
     "metadata": {},
     "output_type": "display_data"
    },
    {
     "name": "stdout",
     "output_type": "stream",
     "text": [
      "Train - Emotion Loss: 0.1409, Valence Loss: 0.1949, Total Loss: 0.1571\n",
      "Val - Emotion Loss: 0.1251, Valence Loss: 0.1252, Total Loss: 0.1251\n",
      "Val - Micro F1: 0.9716, Macro F1: 0.8455, Valence RMSE: 0.3532, Accuracy: 0.9856\n",
      "\n",
      "Epoch 75/80\n"
     ]
    },
    {
     "data": {
      "application/vnd.jupyter.widget-view+json": {
       "model_id": "1e7bee14cfa2406e9229448fc332b2d8",
       "version_major": 2,
       "version_minor": 0
      },
      "text/plain": [
       "  0%|          | 0/27 [00:00<?, ?it/s]"
      ]
     },
     "metadata": {},
     "output_type": "display_data"
    },
    {
     "data": {
      "application/vnd.jupyter.widget-view+json": {
       "model_id": "2f6fcc28d6e9499281588271c199772d",
       "version_major": 2,
       "version_minor": 0
      },
      "text/plain": [
       "Validation:   0%|          | 0/19 [00:00<?, ?it/s]"
      ]
     },
     "metadata": {},
     "output_type": "display_data"
    },
    {
     "name": "stdout",
     "output_type": "stream",
     "text": [
      "Train - Emotion Loss: 0.1400, Valence Loss: 0.2059, Total Loss: 0.1598\n",
      "Val - Emotion Loss: 0.1248, Valence Loss: 0.1333, Total Loss: 0.1273\n",
      "Val - Micro F1: 0.9699, Macro F1: 0.8420, Valence RMSE: 0.3643, Accuracy: 0.9847\n",
      "\n",
      "Epoch 76/80\n"
     ]
    },
    {
     "data": {
      "application/vnd.jupyter.widget-view+json": {
       "model_id": "bc612392ccef4a3fa97c85fb1aa4d4a5",
       "version_major": 2,
       "version_minor": 0
      },
      "text/plain": [
       "  0%|          | 0/27 [00:00<?, ?it/s]"
      ]
     },
     "metadata": {},
     "output_type": "display_data"
    },
    {
     "data": {
      "application/vnd.jupyter.widget-view+json": {
       "model_id": "ff24574bdd4b4697aacff472a251abec",
       "version_major": 2,
       "version_minor": 0
      },
      "text/plain": [
       "Validation:   0%|          | 0/19 [00:00<?, ?it/s]"
      ]
     },
     "metadata": {},
     "output_type": "display_data"
    },
    {
     "name": "stdout",
     "output_type": "stream",
     "text": [
      "Train - Emotion Loss: 0.1409, Valence Loss: 0.1931, Total Loss: 0.1565\n",
      "Val - Emotion Loss: 0.1250, Valence Loss: 0.1357, Total Loss: 0.1282\n",
      "Val - Micro F1: 0.9724, Macro F1: 0.8482, Valence RMSE: 0.3677, Accuracy: 0.9860\n",
      "\n",
      "Epoch 77/80\n"
     ]
    },
    {
     "data": {
      "application/vnd.jupyter.widget-view+json": {
       "model_id": "1b85b6e2ab0944ca92d992c7f43ede12",
       "version_major": 2,
       "version_minor": 0
      },
      "text/plain": [
       "  0%|          | 0/27 [00:00<?, ?it/s]"
      ]
     },
     "metadata": {},
     "output_type": "display_data"
    },
    {
     "data": {
      "application/vnd.jupyter.widget-view+json": {
       "model_id": "79f518b865ee4877bd939f7b28c77082",
       "version_major": 2,
       "version_minor": 0
      },
      "text/plain": [
       "Validation:   0%|          | 0/19 [00:00<?, ?it/s]"
      ]
     },
     "metadata": {},
     "output_type": "display_data"
    },
    {
     "name": "stdout",
     "output_type": "stream",
     "text": [
      "Train - Emotion Loss: 0.1397, Valence Loss: 0.2070, Total Loss: 0.1599\n",
      "Val - Emotion Loss: 0.1252, Valence Loss: 0.1243, Total Loss: 0.1249\n",
      "Val - Micro F1: 0.9741, Macro F1: 0.8519, Valence RMSE: 0.3519, Accuracy: 0.9868\n",
      "\n",
      "Epoch 78/80\n"
     ]
    },
    {
     "data": {
      "application/vnd.jupyter.widget-view+json": {
       "model_id": "f4202475f1af4d30b54e061c9d67e8d3",
       "version_major": 2,
       "version_minor": 0
      },
      "text/plain": [
       "  0%|          | 0/27 [00:00<?, ?it/s]"
      ]
     },
     "metadata": {},
     "output_type": "display_data"
    },
    {
     "data": {
      "application/vnd.jupyter.widget-view+json": {
       "model_id": "a155fd833f9243a6a3d56c3ecd4944b7",
       "version_major": 2,
       "version_minor": 0
      },
      "text/plain": [
       "Validation:   0%|          | 0/19 [00:00<?, ?it/s]"
      ]
     },
     "metadata": {},
     "output_type": "display_data"
    },
    {
     "name": "stdout",
     "output_type": "stream",
     "text": [
      "Train - Emotion Loss: 0.1396, Valence Loss: 0.1773, Total Loss: 0.1509\n",
      "Val - Emotion Loss: 0.1251, Valence Loss: 0.1268, Total Loss: 0.1257\n",
      "Val - Micro F1: 0.9741, Macro F1: 0.8519, Valence RMSE: 0.3554, Accuracy: 0.9868\n",
      "\n",
      "Epoch 79/80\n"
     ]
    },
    {
     "data": {
      "application/vnd.jupyter.widget-view+json": {
       "model_id": "f9843e777ddd4b14a5ec5928951c4d89",
       "version_major": 2,
       "version_minor": 0
      },
      "text/plain": [
       "  0%|          | 0/27 [00:00<?, ?it/s]"
      ]
     },
     "metadata": {},
     "output_type": "display_data"
    },
    {
     "data": {
      "application/vnd.jupyter.widget-view+json": {
       "model_id": "682c88a434a04996aa30cd5dcd7cba47",
       "version_major": 2,
       "version_minor": 0
      },
      "text/plain": [
       "Validation:   0%|          | 0/19 [00:00<?, ?it/s]"
      ]
     },
     "metadata": {},
     "output_type": "display_data"
    },
    {
     "name": "stdout",
     "output_type": "stream",
     "text": [
      "Train - Emotion Loss: 0.1406, Valence Loss: 0.1802, Total Loss: 0.1525\n",
      "Val - Emotion Loss: 0.1251, Valence Loss: 0.1359, Total Loss: 0.1283\n",
      "Val - Micro F1: 0.9732, Macro F1: 0.8501, Valence RMSE: 0.3680, Accuracy: 0.9864\n",
      "\n",
      "Epoch 80/80\n"
     ]
    },
    {
     "data": {
      "application/vnd.jupyter.widget-view+json": {
       "model_id": "c7cf2a3b510c44089c82fa813b0bf00c",
       "version_major": 2,
       "version_minor": 0
      },
      "text/plain": [
       "  0%|          | 0/27 [00:00<?, ?it/s]"
      ]
     },
     "metadata": {},
     "output_type": "display_data"
    },
    {
     "data": {
      "application/vnd.jupyter.widget-view+json": {
       "model_id": "28a967ce29b94a40b14c9922e00f2856",
       "version_major": 2,
       "version_minor": 0
      },
      "text/plain": [
       "Validation:   0%|          | 0/19 [00:00<?, ?it/s]"
      ]
     },
     "metadata": {},
     "output_type": "display_data"
    },
    {
     "name": "stdout",
     "output_type": "stream",
     "text": [
      "Train - Emotion Loss: 0.1396, Valence Loss: 0.2085, Total Loss: 0.1602\n",
      "Val - Emotion Loss: 0.1250, Valence Loss: 0.1361, Total Loss: 0.1284\n",
      "Val - Micro F1: 0.9732, Macro F1: 0.8501, Valence RMSE: 0.3682, Accuracy: 0.9864\n"
     ]
    }
   ],
   "source": [
    "# Train the model\n",
    "history = train_model(\n",
    "    model,\n",
    "    train_loader,\n",
    "    val_loader,\n",
    "    optimizer,\n",
    "    scheduler,\n",
    "    emotion_criterion,\n",
    "    valence_criterion,\n",
    "    num_epochs,\n",
    "    device\n",
    ")"
   ]
  },
  {
   "cell_type": "code",
   "execution_count": 16,
   "id": "9e622211",
   "metadata": {},
   "outputs": [
    {
     "data": {
      "image/png": "[encoded data removed]",
      "text/plain": [
       "<Figure size 1800x1000 with 6 Axes>"
      ]
     },
     "metadata": {},
     "output_type": "display_data"
    }
   ],
   "source": [
    "\n",
    "  # Plot the training history\n",
    "def plot_training_history(history):\n",
    "    # Create subplots - changed to 2x3 grid to add accuracy plot\n",
    "    fig, axs = plt.subplots(2, 3, figsize=(18, 10))\n",
    "    \n",
    "    # Plot total loss\n",
    "    axs[0, 0].plot(history['train_total_loss'], label='Train Loss')\n",
    "    axs[0, 0].plot(history['val_total_loss'], label='Val Loss')\n",
    "    axs[0, 0].set_title('Total Loss')\n",
    "    axs[0, 0].set_xlabel('Epoch')\n",
    "    axs[0, 0].set_ylabel('Loss')\n",
    "    axs[0, 0].legend()\n",
    "    \n",
    "    # Plot emotion loss\n",
    "    axs[0, 1].plot(history['train_emotion_loss'], label='Train Emotion Loss')\n",
    "    axs[0, 1].plot(history['val_emotion_loss'], label='Val Emotion Loss')\n",
    "    axs[0, 1].set_title('Emotion Loss')\n",
    "    axs[0, 1].set_xlabel('Epoch')\n",
    "    axs[0, 1].set_ylabel('Loss')\n",
    "    axs[0, 1].legend()\n",
    "    \n",
    "    # Plot valence loss and RMSE\n",
    "    axs[0, 2].plot(history['train_valence_loss'], label='Train Valence Loss')\n",
    "    axs[0, 2].plot(history['val_valence_loss'], label='Val Valence Loss')\n",
    "    axs[0, 2].plot(history['val_valence_rmse'], label='Val Valence RMSE')\n",
    "    axs[0, 2].set_title('Valence Loss & RMSE')\n",
    "    axs[0, 2].set_xlabel('Epoch')\n",
    "    axs[0, 2].set_ylabel('Loss / RMSE')\n",
    "    axs[0, 2].legend()\n",
    "    \n",
    "    # Plot F1 scores\n",
    "    axs[1, 0].plot(history['val_micro_f1'], label='Micro F1')\n",
    "    axs[1, 0].plot(history['val_macro_f1'], label='Macro F1')\n",
    "    axs[1, 0].set_title('F1 Scores')\n",
    "    axs[1, 0].set_xlabel('Epoch')\n",
    "    axs[1, 0].set_ylabel('F1 Score')\n",
    "    axs[1, 0].legend()\n",
    "    \n",
    "    # Plot accuracy\n",
    "    axs[1, 1].plot(history['val_accuracy'], label='Accuracy', color='purple')\n",
    "    axs[1, 1].set_title('Model Accuracy')\n",
    "    axs[1, 1].set_xlabel('Epoch')\n",
    "    axs[1, 1].set_ylabel('Accuracy')\n",
    "    axs[1, 1].set_ylim([0, 1])  # Accuracy is between 0 and 1\n",
    "    axs[1, 1].legend()\n",
    "    \n",
    "    # Hide the unused subplot\n",
    "    axs[1, 2].axis('off')\n",
    "    \n",
    "    plt.tight_layout()\n",
    "    plt.savefig(os.path.join(SAVE_DIR, 'dbert_training_history.png'))\n",
    "    plt.show()\n",
    "\n",
    "# Plot the training history\n",
    "plot_training_history(history)"
   ]
  },
  {
   "cell_type": "code",
   "execution_count": 17,
   "id": "458ab333",
   "metadata": {},
   "outputs": [],
   "source": [
    "# Evaluate the model on the test set\n",
    "def evaluate_model(model, test_loader, emotion_criterion, valence_criterion, device):\n",
    "    model.eval()\n",
    "    test_emotion_loss = 0\n",
    "    test_valence_loss = 0\n",
    "    all_emotion_preds = []\n",
    "    all_emotion_labels = []\n",
    "    all_valence_preds = []\n",
    "    all_valence_labels = []\n",
    "    \n",
    "    with torch.no_grad():\n",
    "        for batch in tqdm(test_loader, desc=\"Testing\"):\n",
    "            input_ids = batch['input_ids'].to(device)\n",
    "            attention_mask = batch['attention_mask'].to(device)\n",
    "            emotion_labels = batch['emotion_labels'].to(device)\n",
    "            valence = batch['valence'].to(device)\n",
    "            \n",
    "            emotion_logits, valence_pred = model(input_ids, attention_mask)\n",
    "            \n",
    "            e_loss = emotion_criterion(emotion_logits, emotion_labels)\n",
    "            v_loss = valence_criterion(valence_pred, valence)\n",
    "            \n",
    "            test_emotion_loss += e_loss.item()\n",
    "            test_valence_loss += v_loss.item()\n",
    "            \n",
    "            # Convert logits to predictions\n",
    "            emotion_preds = torch.sigmoid(emotion_logits).cpu().numpy() > 0.5 \n",
    "            \n",
    "            all_emotion_preds.extend(emotion_preds.astype(int).tolist())\n",
    "            all_emotion_labels.extend(emotion_labels.cpu().numpy().astype(int).tolist())\n",
    "            all_valence_preds.extend(valence_pred.cpu().numpy().flatten().tolist())\n",
    "            all_valence_labels.extend(valence.cpu().numpy().flatten().tolist())\n",
    "            \n",
    "    # Calculate test metrics\n",
    "    avg_test_emotion_loss = test_emotion_loss / len(test_loader)\n",
    "    avg_test_valence_loss = test_valence_loss / len(test_loader)\n",
    "    \n",
    "    # F1 scores for emotion classification\n",
    "    # Convert to numpy arrays\n",
    "    emotion_preds_np = np.array(all_emotion_preds)\n",
    "    emotion_labels_np = np.array(all_emotion_labels)\n",
    "    \n",
    "    # F1 scores for multi-label emotion classification\n",
    "    micro_f1 = f1_score(emotion_labels_np, emotion_preds_np, average='micro', zero_division=0)\n",
    "    macro_f1 = f1_score(emotion_labels_np, emotion_preds_np, average='macro', zero_division=0)\n",
    "    \n",
    "    # F1 scores for each class\n",
    "    class_f1 = f1_score(all_emotion_labels, all_emotion_preds, average=None)\n",
    "    class_report = {emotion: score for emotion, score in zip(all_emotions, class_f1)}\n",
    "    \n",
    "    # RMSE for valence prediction\n",
    "    valence_rmse = np.sqrt(mean_squared_error(all_valence_labels, all_valence_preds))\n",
    "    \n",
    "    # Calculate accuracy for multi-label classification\n",
    "    accuracy = np.mean(np.array(emotion_preds_np == emotion_labels_np, dtype=float))\n",
    "    \n",
    "    # Create a confusion matrix for multi-label is complex\n",
    "    # Instead, analyze per-class precision, recall\n",
    "    results = {\n",
    "        'test_emotion_loss': avg_test_emotion_loss,\n",
    "        'test_valence_loss': avg_test_valence_loss,\n",
    "        'test_micro_f1': micro_f1,\n",
    "        'test_macro_f1': macro_f1,\n",
    "        'test_valence_rmse': valence_rmse,\n",
    "        'test_accuracy': accuracy,  # Added accuracy\n",
    "        'class_f1': class_report\n",
    "    }\n",
    "    \n",
    "    # Print the results\n",
    "    print(f\"Test Results:\")\n",
    "    print(f\"Emotion Loss: {avg_test_emotion_loss:.4f}\")\n",
    "    print(f\"Valence Loss: {avg_test_valence_loss:.4f}\")\n",
    "    print(f\"Micro F1: {micro_f1:.4f}\")\n",
    "    print(f\"Macro F1: {macro_f1:.4f}\")\n",
    "    print(f\"Valence RMSE: {valence_rmse:.4f}\")\n",
    "    print(f\"Accuracy: {accuracy:.4f}\")  # Added accuracy print statement\n",
    "    \n",
    "    # Save results\n",
    "    with open(os.path.join(SAVE_DIR, 'dbert_test_results.json'), 'w') as f:\n",
    "        json.dump(results, f)\n",
    "    \n",
    "    return results"
   ]
  },
  {
   "cell_type": "code",
   "execution_count": 18,
   "id": "ef7bf720",
   "metadata": {},
   "outputs": [
    {
     "data": {
      "application/vnd.jupyter.widget-view+json": {
       "model_id": "6c7773153f7b45d499b217052eea4397",
       "version_major": 2,
       "version_minor": 0
      },
      "text/plain": [
       "Testing:   0%|          | 0/23 [00:00<?, ?it/s]"
      ]
     },
     "metadata": {},
     "output_type": "display_data"
    },
    {
     "name": "stdout",
     "output_type": "stream",
     "text": [
      "Test Results:\n",
      "Emotion Loss: 0.1274\n",
      "Valence Loss: 0.1321\n",
      "Micro F1: 0.9726\n",
      "Macro F1: 0.8472\n",
      "Valence RMSE: 0.3637\n",
      "Accuracy: 0.9857\n",
      "\n",
      "\n",
      "\n",
      "Class-wise F1 Scores:\n",
      "Curiosity: 0.9924\n",
      "Uncertainty: 0.9870\n",
      "Excitement: 1.0000\n",
      "Happiness: 0.9953\n",
      "Surprise: 1.0000\n",
      "Disgust: 0.9048\n",
      "Fear: 0.0000\n",
      "Frustration: 0.8986\n"
     ]
    }
   ],
   "source": [
    "# Load the best model for evaluation\n",
    "model.load_state_dict(torch.load(os.path.join(SAVE_DIR, 'dbert_best_model.pt')))\n",
    "\n",
    "# Evaluate the model\n",
    "test_results = evaluate_model(model, test_loader, emotion_criterion, valence_criterion, device)\n",
    "\n",
    "print(\"\\n\")\n",
    "# Print test results\n",
    "'''A\n",
    "print(\"\\nTest Results:\")\n",
    "print(f\"Emotion Loss: {test_results['test_emotion_loss']:.4f}\")\n",
    "print(f\"Valence Loss: {test_results['test_valence_loss']:.4f}\")\n",
    "print(f\"Micro F1: {test_results['test_micro_f1']:.4f}\")\n",
    "print(f\"Macro F1: {test_results['test_macro_f1']:.4f}\")\n",
    "print(f\"Valence RMSE: {test_results['test_valence_rmse']:.4f}\")\n",
    "print(f\"Accuracy: {test_results['test_accuracy']:.4f}\")\n",
    "'''\n",
    "print(\"\\nClass-wise F1 Scores:\")\n",
    "for emotion, f1 in test_results['class_f1'].items():\n",
    "    print(f\"{emotion}: {f1:.4f}\")"
   ]
  },
  {
   "cell_type": "code",
   "execution_count": 19,
   "id": "2a33a3e6",
   "metadata": {},
   "outputs": [
    {
     "data": {
      "image/png": "[encoded data removed]",
      "text/plain": [
       "<Figure size 1000x1000 with 1 Axes>"
      ]
     },
     "metadata": {},
     "output_type": "display_data"
    }
   ],
   "source": [
    "# Function to create and save radar chart\n",
    "def create_emotion_radar_chart(class_f1, emotions, save_dir):\n",
    "    # Number of variables\n",
    "    N = len(emotions)\n",
    "    \n",
    "    # Get F1 scores in same order as emotions\n",
    "    f1_scores = [class_f1[emotion] for emotion in emotions]\n",
    "    \n",
    "    # What will be the angle of each axis in the plot\n",
    "    angles = [n / float(N) * 2 * np.pi for n in range(N)]\n",
    "    angles += angles[:1]  # Close the loop\n",
    "    \n",
    "    # F1 scores for plotting (add first element at end to close the loop)\n",
    "    values = f1_scores.copy()\n",
    "    values += values[:1]  \n",
    "    \n",
    "    # Initialize the figure\n",
    "    fig = plt.figure(figsize=(10, 10))\n",
    "    ax = fig.add_subplot(111, polar=True)\n",
    "    \n",
    "    # Draw one axis per variable and add labels\n",
    "    plt.xticks(angles[:-1], emotions, fontsize=12)\n",
    "    \n",
    "    # Draw the y-axis labels\n",
    "    ax.set_rlabel_position(0)\n",
    "    plt.yticks([0.2, 0.4, 0.6, 0.8, 1.0], [\"0.2\", \"0.4\", \"0.6\", \"0.8\", \"1.0\"], \n",
    "               fontsize=10, color=\"grey\")\n",
    "    plt.ylim(0, 1)\n",
    "    \n",
    "    # Plot data\n",
    "    ax.plot(angles, values, linewidth=2, linestyle='solid', color='#FF7F0E')\n",
    "    \n",
    "    # Fill area\n",
    "    ax.fill(angles, values, alpha=0.25, color='#FF7F0E')\n",
    "    \n",
    "    # Add title\n",
    "    plt.title(\"Emotion-wise F1 Scores\", size=20, y=1.05)\n",
    "    \n",
    "    # Add grid lines\n",
    "    ax.grid(True)\n",
    "    \n",
    "    # Adjust layout and save\n",
    "    plt.tight_layout()\n",
    "    plt.savefig(os.path.join(save_dir, 'dbert_emotion_F1s.png'))\n",
    "    plt.show()\n",
    "create_emotion_radar_chart(test_results[\"class_f1\"], all_emotions, SAVE_DIR)"
   ]
  },
  {
   "cell_type": "code",
   "execution_count": 20,
   "id": "fec0b23d",
   "metadata": {},
   "outputs": [],
   "source": [
    "# Function to make predictions for a new input\n",
    "def predict_emotions_and_valence(text, model, tokenizer, mlb, device):\n",
    "    model.eval()\n",
    "    \n",
    "    # Tokenize the input text\n",
    "    encoding = tokenizer(\n",
    "        text,\n",
    "        truncation=True,\n",
    "        padding='max_length',\n",
    "        max_length=512,\n",
    "        return_tensors='pt'\n",
    "    )\n",
    "    \n",
    "    input_ids = encoding['input_ids'].to(device)\n",
    "    attention_mask = encoding['attention_mask'].to(device)\n",
    "    \n",
    "    with torch.no_grad():\n",
    "        emotion_logits, valence_pred = model(input_ids, attention_mask)\n",
    "        \n",
    "        # Convert logits to predictions\n",
    "        emotion_probs = torch.sigmoid(emotion_logits).cpu().numpy()\n",
    "        emotion_preds = emotion_probs > 0.5\n",
    "        \n",
    "        # Get the predicted emotions\n",
    "        predicted_emotions = mlb.inverse_transform(emotion_preds)[0]\n",
    "        \n",
    "        # Get the predicted valence\n",
    "        predicted_valence = valence_pred.cpu().numpy().item()\n",
    "        \n",
    "        # Get the probabilities for each emotion\n",
    "        emotion_probabilities = {emotion: prob for emotion, prob in zip(mlb.classes_, emotion_probs[0])}\n",
    "    \n",
    "    return predicted_emotions, predicted_valence, emotion_probabilities\n"
   ]
  },
  {
   "cell_type": "code",
   "execution_count": 21,
   "id": "2248234c",
   "metadata": {},
   "outputs": [
    {
     "name": "stdout",
     "output_type": "stream",
     "text": [
      "\n",
      "Example Prediction:\n",
      "Input text: I am really excited about this new movie. The trailer looks amazing and I can't wait to see it!\n",
      "Predicted emotions: ('Excitement', 'Happiness')\n",
      "Predicted valence: 5.51\n",
      "Emotion probabilities:\n",
      "Curiosity: 0.1380\n",
      "Uncertainty: 0.0585\n",
      "Excitement: 0.7559\n",
      "Happiness: 0.8053\n",
      "Surprise: 0.1171\n",
      "Disgust: 0.0258\n",
      "Fear: 0.0167\n",
      "Frustration: 0.0483\n"
     ]
    }
   ],
   "source": [
    "# Example prediction function\n",
    "test_text = \"I am really excited about this new movie. The trailer looks amazing and I can't wait to see it!\"\n",
    "predicted_emotions, predicted_valence, emotion_probs = predict_emotions_and_valence(\n",
    "    test_text, model, tokenizer, mlb, device\n",
    ")\n",
    "\n",
    "print(\"\\nExample Prediction:\")\n",
    "print(f\"Input text: {test_text}\")\n",
    "print(f\"Predicted emotions: {predicted_emotions}\")\n",
    "print(f\"Predicted valence: {predicted_valence:.2f}\")\n",
    "print(\"Emotion probabilities:\")\n",
    "for emotion, prob in emotion_probs.items():\n",
    "    print(f\"{emotion}: {prob:.4f}\")"
   ]
  },
  {
   "cell_type": "code",
   "execution_count": 22,
   "id": "84b83495",
   "metadata": {},
   "outputs": [
    {
     "name": "stdout",
     "output_type": "stream",
     "text": [
      "\n",
      "Model, tokenizer, and configuration saved to /Users/rumenguin/Research/MERC/models/saved_model/dbert\n"
     ]
    }
   ],
   "source": [
    "\n",
    "# Save the complete model, tokenizer, and configuration\n",
    "model_save_path = os.path.join(SAVE_DIR, 'dbert')\n",
    "os.makedirs(model_save_path, exist_ok=True)\n",
    "\n",
    "# Save model configuration\n",
    "model_config = {\n",
    "    'model_name': 'distilbert-base-uncased',\n",
    "    'n_emotions': len(all_emotions),\n",
    "    'emotions': all_emotions,\n",
    "    'valence_range': [df['Valence'].min(), df['Valence'].max()],\n",
    "    'max_length': 512,\n",
    "}\n",
    "\n",
    "with open(os.path.join(model_save_path, 'config.json'), 'w') as f:\n",
    "    json.dump(model_config, f)\n",
    "\n",
    "# Save the model state\n",
    "torch.save(model.state_dict(), os.path.join(model_save_path, 'model_state.pt'))\n",
    "\n",
    "# Save tokenizer\n",
    "tokenizer.save_pretrained(model_save_path)\n",
    "\n",
    "print(f\"\\nModel, tokenizer, and configuration saved to {model_save_path}\")\n"
   ]
  },
  {
   "cell_type": "code",
   "execution_count": 23,
   "id": "028ae713",
   "metadata": {},
   "outputs": [
    {
     "name": "stdout",
     "output_type": "stream",
     "text": [
      "\n",
      "Training completed successfully!\n",
      "Best model saved to: /Users/rumenguin/Research/MERC/models/saved_model/dbert_best_model.pt\n",
      "Final model saved to: /Users/rumenguin/Research/MERC/models/saved_model/dbert_final_model.pt\n",
      "Complete model package saved to: /Users/rumenguin/Research/MERC/models/saved_model/dbert\n",
      "Training history plot saved to: /Users/rumenguin/Research/MERC/models/saved_model/dbert_training_history.png\n",
      "Training history saved to: /Users/rumenguin/Research/MERC/models/saved_model/dbert_training_history.json\n",
      "Test results saved to: /Users/rumenguin/Research/MERC/models/saved_model/dbert_test_results.json\n"
     ]
    }
   ],
   "source": [
    "# Final messages\n",
    "print(\"\\nTraining completed successfully!\")\n",
    "print(f\"Best model saved to: {os.path.join(SAVE_DIR, 'dbert_best_model.pt')}\")\n",
    "print(f\"Final model saved to: {os.path.join(SAVE_DIR, 'dbert_final_model.pt')}\")\n",
    "print(f\"Complete model package saved to: {model_save_path}\")\n",
    "print(f\"Training history plot saved to: {os.path.join(SAVE_DIR, 'dbert_training_history.png')}\")\n",
    "print(f\"Training history saved to: {os.path.join(SAVE_DIR, 'dbert_training_history.json')}\")\n",
    "print(f\"Test results saved to: {os.path.join(SAVE_DIR, 'dbert_test_results.json')}\")"
   ]
  }
 ],
 "metadata": {
  "kernelspec": {
   "display_name": "merc",
   "language": "python",
   "name": "python3"
  },
  "language_info": {
   "codemirror_mode": {
    "name": "ipython",
    "version": 3
   },
   "file_extension": ".py",
   "mimetype": "text/x-python",
   "name": "python",
   "nbconvert_exporter": "python",
   "pygments_lexer": "ipython3",
   "version": "3.10.17"
  }
 },
 "nbformat": 4,
 "nbformat_minor": 5
}
