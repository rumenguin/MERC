{
 "cells": [
  {
   "cell_type": "code",
   "execution_count": 1,
   "id": "b5e2d58c",
   "metadata": {},
   "outputs": [
    {
     "name": "stdout",
     "output_type": "stream",
     "text": [
      "Requirement already satisfied: transformers in /usr/local/Caskroom/miniforge/base/envs/merc/lib/python3.10/site-packages (4.51.3)\n",
      "Requirement already satisfied: datasets in /usr/local/Caskroom/miniforge/base/envs/merc/lib/python3.10/site-packages (3.5.0)\n",
      "Requirement already satisfied: peft in /usr/local/Caskroom/miniforge/base/envs/merc/lib/python3.10/site-packages (0.15.1)\n",
      "Requirement already satisfied: evaluate in /usr/local/Caskroom/miniforge/base/envs/merc/lib/python3.10/site-packages (0.4.3)\n",
      "Requirement already satisfied: scikit-learn in /usr/local/Caskroom/miniforge/base/envs/merc/lib/python3.10/site-packages (1.6.1)\n",
      "Requirement already satisfied: tqdm in /usr/local/Caskroom/miniforge/base/envs/merc/lib/python3.10/site-packages (4.67.1)\n",
      "Requirement already satisfied: filelock in /usr/local/Caskroom/miniforge/base/envs/merc/lib/python3.10/site-packages (from transformers) (3.18.0)\n",
      "Requirement already satisfied: huggingface-hub<1.0,>=0.30.0 in /usr/local/Caskroom/miniforge/base/envs/merc/lib/python3.10/site-packages (from transformers) (0.30.2)\n",
      "Requirement already satisfied: numpy>=1.17 in /usr/local/Caskroom/miniforge/base/envs/merc/lib/python3.10/site-packages (from transformers) (1.24.4)\n",
      "Requirement already satisfied: packaging>=20.0 in /usr/local/Caskroom/miniforge/base/envs/merc/lib/python3.10/site-packages (from transformers) (24.2)\n",
      "Requirement already satisfied: pyyaml>=5.1 in /usr/local/Caskroom/miniforge/base/envs/merc/lib/python3.10/site-packages (from transformers) (6.0.2)\n",
      "Requirement already satisfied: regex!=2019.12.17 in /usr/local/Caskroom/miniforge/base/envs/merc/lib/python3.10/site-packages (from transformers) (2024.11.6)\n",
      "Requirement already satisfied: requests in /usr/local/Caskroom/miniforge/base/envs/merc/lib/python3.10/site-packages (from transformers) (2.32.3)\n",
      "Requirement already satisfied: tokenizers<0.22,>=0.21 in /usr/local/Caskroom/miniforge/base/envs/merc/lib/python3.10/site-packages (from transformers) (0.21.1)\n",
      "Requirement already satisfied: safetensors>=0.4.3 in /usr/local/Caskroom/miniforge/base/envs/merc/lib/python3.10/site-packages (from transformers) (0.5.3)\n",
      "Requirement already satisfied: pyarrow>=15.0.0 in /usr/local/Caskroom/miniforge/base/envs/merc/lib/python3.10/site-packages (from datasets) (19.0.1)\n",
      "Requirement already satisfied: dill<0.3.9,>=0.3.0 in /usr/local/Caskroom/miniforge/base/envs/merc/lib/python3.10/site-packages (from datasets) (0.3.8)\n",
      "Requirement already satisfied: pandas in /usr/local/Caskroom/miniforge/base/envs/merc/lib/python3.10/site-packages (from datasets) (2.2.3)\n",
      "Requirement already satisfied: xxhash in /usr/local/Caskroom/miniforge/base/envs/merc/lib/python3.10/site-packages (from datasets) (3.5.0)\n",
      "Requirement already satisfied: multiprocess<0.70.17 in /usr/local/Caskroom/miniforge/base/envs/merc/lib/python3.10/site-packages (from datasets) (0.70.16)\n",
      "Requirement already satisfied: fsspec<=2024.12.0,>=2023.1.0 in /usr/local/Caskroom/miniforge/base/envs/merc/lib/python3.10/site-packages (from fsspec[http]<=2024.12.0,>=2023.1.0->datasets) (2024.12.0)\n",
      "Requirement already satisfied: aiohttp in /usr/local/Caskroom/miniforge/base/envs/merc/lib/python3.10/site-packages (from datasets) (3.11.16)\n",
      "Requirement already satisfied: psutil in /usr/local/Caskroom/miniforge/base/envs/merc/lib/python3.10/site-packages (from peft) (7.0.0)\n",
      "Requirement already satisfied: torch>=1.13.0 in /usr/local/Caskroom/miniforge/base/envs/merc/lib/python3.10/site-packages (from peft) (2.2.2)\n",
      "Requirement already satisfied: accelerate>=0.21.0 in /usr/local/Caskroom/miniforge/base/envs/merc/lib/python3.10/site-packages (from peft) (1.5.2)\n",
      "Requirement already satisfied: scipy>=1.6.0 in /usr/local/Caskroom/miniforge/base/envs/merc/lib/python3.10/site-packages (from scikit-learn) (1.15.2)\n",
      "Requirement already satisfied: joblib>=1.2.0 in /usr/local/Caskroom/miniforge/base/envs/merc/lib/python3.10/site-packages (from scikit-learn) (1.4.2)\n",
      "Requirement already satisfied: threadpoolctl>=3.1.0 in /usr/local/Caskroom/miniforge/base/envs/merc/lib/python3.10/site-packages (from scikit-learn) (3.6.0)\n",
      "Requirement already satisfied: aiohappyeyeballs>=2.3.0 in /usr/local/Caskroom/miniforge/base/envs/merc/lib/python3.10/site-packages (from aiohttp->datasets) (2.6.1)\n",
      "Requirement already satisfied: aiosignal>=1.1.2 in /usr/local/Caskroom/miniforge/base/envs/merc/lib/python3.10/site-packages (from aiohttp->datasets) (1.3.2)\n",
      "Requirement already satisfied: async-timeout<6.0,>=4.0 in /usr/local/Caskroom/miniforge/base/envs/merc/lib/python3.10/site-packages (from aiohttp->datasets) (5.0.1)\n",
      "Requirement already satisfied: attrs>=17.3.0 in /usr/local/Caskroom/miniforge/base/envs/merc/lib/python3.10/site-packages (from aiohttp->datasets) (25.3.0)\n",
      "Requirement already satisfied: frozenlist>=1.1.1 in /usr/local/Caskroom/miniforge/base/envs/merc/lib/python3.10/site-packages (from aiohttp->datasets) (1.5.0)\n",
      "Requirement already satisfied: multidict<7.0,>=4.5 in /usr/local/Caskroom/miniforge/base/envs/merc/lib/python3.10/site-packages (from aiohttp->datasets) (6.3.2)\n",
      "Requirement already satisfied: propcache>=0.2.0 in /usr/local/Caskroom/miniforge/base/envs/merc/lib/python3.10/site-packages (from aiohttp->datasets) (0.2.1)\n",
      "Requirement already satisfied: yarl<2.0,>=1.17.0 in /usr/local/Caskroom/miniforge/base/envs/merc/lib/python3.10/site-packages (from aiohttp->datasets) (1.18.3)\n",
      "Requirement already satisfied: typing-extensions>=3.7.4.3 in /usr/local/Caskroom/miniforge/base/envs/merc/lib/python3.10/site-packages (from huggingface-hub<1.0,>=0.30.0->transformers) (4.13.2)\n",
      "Requirement already satisfied: charset_normalizer<4,>=2 in /usr/local/Caskroom/miniforge/base/envs/merc/lib/python3.10/site-packages (from requests->transformers) (3.4.1)\n",
      "Requirement already satisfied: idna<4,>=2.5 in /usr/local/Caskroom/miniforge/base/envs/merc/lib/python3.10/site-packages (from requests->transformers) (3.10)\n",
      "Requirement already satisfied: urllib3<3,>=1.21.1 in /usr/local/Caskroom/miniforge/base/envs/merc/lib/python3.10/site-packages (from requests->transformers) (2.4.0)\n",
      "Requirement already satisfied: certifi>=2017.4.17 in /usr/local/Caskroom/miniforge/base/envs/merc/lib/python3.10/site-packages (from requests->transformers) (2025.1.31)\n",
      "Requirement already satisfied: sympy in /usr/local/Caskroom/miniforge/base/envs/merc/lib/python3.10/site-packages (from torch>=1.13.0->peft) (1.13.3)\n",
      "Requirement already satisfied: networkx in /usr/local/Caskroom/miniforge/base/envs/merc/lib/python3.10/site-packages (from torch>=1.13.0->peft) (3.4.2)\n",
      "Requirement already satisfied: jinja2 in /usr/local/Caskroom/miniforge/base/envs/merc/lib/python3.10/site-packages (from torch>=1.13.0->peft) (3.1.6)\n",
      "Requirement already satisfied: python-dateutil>=2.8.2 in /usr/local/Caskroom/miniforge/base/envs/merc/lib/python3.10/site-packages (from pandas->datasets) (2.9.0.post0)\n",
      "Requirement already satisfied: pytz>=2020.1 in /usr/local/Caskroom/miniforge/base/envs/merc/lib/python3.10/site-packages (from pandas->datasets) (2024.1)\n",
      "Requirement already satisfied: tzdata>=2022.7 in /usr/local/Caskroom/miniforge/base/envs/merc/lib/python3.10/site-packages (from pandas->datasets) (2025.2)\n",
      "Requirement already satisfied: six>=1.5 in /usr/local/Caskroom/miniforge/base/envs/merc/lib/python3.10/site-packages (from python-dateutil>=2.8.2->pandas->datasets) (1.17.0)\n",
      "Requirement already satisfied: MarkupSafe>=2.0 in /usr/local/Caskroom/miniforge/base/envs/merc/lib/python3.10/site-packages (from jinja2->torch>=1.13.0->peft) (3.0.2)\n",
      "Requirement already satisfied: mpmath<1.4,>=1.1.0 in /usr/local/Caskroom/miniforge/base/envs/merc/lib/python3.10/site-packages (from sympy->torch>=1.13.0->peft) (1.3.0)\n",
      "Note: you may need to restart the kernel to use updated packages.\n"
     ]
    }
   ],
   "source": [
    "# Install necessary libraries (if not already installed)\n",
    "%pip install transformers datasets peft evaluate scikit-learn tqdm"
   ]
  },
  {
   "cell_type": "code",
   "execution_count": 2,
   "id": "6112afcd",
   "metadata": {},
   "outputs": [
    {
     "name": "stdout",
     "output_type": "stream",
     "text": [
      "Requirement already satisfied: ipywidgets in /usr/local/Caskroom/miniforge/base/envs/merc/lib/python3.10/site-packages (8.1.6)\n",
      "Requirement already satisfied: comm>=0.1.3 in /usr/local/Caskroom/miniforge/base/envs/merc/lib/python3.10/site-packages (from ipywidgets) (0.2.2)\n",
      "Requirement already satisfied: ipython>=6.1.0 in /usr/local/Caskroom/miniforge/base/envs/merc/lib/python3.10/site-packages (from ipywidgets) (8.35.0)\n",
      "Requirement already satisfied: traitlets>=4.3.1 in /usr/local/Caskroom/miniforge/base/envs/merc/lib/python3.10/site-packages (from ipywidgets) (5.14.3)\n",
      "Requirement already satisfied: widgetsnbextension~=4.0.14 in /usr/local/Caskroom/miniforge/base/envs/merc/lib/python3.10/site-packages (from ipywidgets) (4.0.14)\n",
      "Requirement already satisfied: jupyterlab_widgets~=3.0.14 in /usr/local/Caskroom/miniforge/base/envs/merc/lib/python3.10/site-packages (from ipywidgets) (3.0.14)\n",
      "Requirement already satisfied: decorator in /usr/local/Caskroom/miniforge/base/envs/merc/lib/python3.10/site-packages (from ipython>=6.1.0->ipywidgets) (4.4.2)\n",
      "Requirement already satisfied: exceptiongroup in /usr/local/Caskroom/miniforge/base/envs/merc/lib/python3.10/site-packages (from ipython>=6.1.0->ipywidgets) (1.2.2)\n",
      "Requirement already satisfied: jedi>=0.16 in /usr/local/Caskroom/miniforge/base/envs/merc/lib/python3.10/site-packages (from ipython>=6.1.0->ipywidgets) (0.19.2)\n",
      "Requirement already satisfied: matplotlib-inline in /usr/local/Caskroom/miniforge/base/envs/merc/lib/python3.10/site-packages (from ipython>=6.1.0->ipywidgets) (0.1.7)\n",
      "Requirement already satisfied: pexpect>4.3 in /usr/local/Caskroom/miniforge/base/envs/merc/lib/python3.10/site-packages (from ipython>=6.1.0->ipywidgets) (4.9.0)\n",
      "Requirement already satisfied: prompt_toolkit<3.1.0,>=3.0.41 in /usr/local/Caskroom/miniforge/base/envs/merc/lib/python3.10/site-packages (from ipython>=6.1.0->ipywidgets) (3.0.50)\n",
      "Requirement already satisfied: pygments>=2.4.0 in /usr/local/Caskroom/miniforge/base/envs/merc/lib/python3.10/site-packages (from ipython>=6.1.0->ipywidgets) (2.19.1)\n",
      "Requirement already satisfied: stack_data in /usr/local/Caskroom/miniforge/base/envs/merc/lib/python3.10/site-packages (from ipython>=6.1.0->ipywidgets) (0.6.3)\n",
      "Requirement already satisfied: typing_extensions>=4.6 in /usr/local/Caskroom/miniforge/base/envs/merc/lib/python3.10/site-packages (from ipython>=6.1.0->ipywidgets) (4.13.2)\n",
      "Requirement already satisfied: parso<0.9.0,>=0.8.4 in /usr/local/Caskroom/miniforge/base/envs/merc/lib/python3.10/site-packages (from jedi>=0.16->ipython>=6.1.0->ipywidgets) (0.8.4)\n",
      "Requirement already satisfied: ptyprocess>=0.5 in /usr/local/Caskroom/miniforge/base/envs/merc/lib/python3.10/site-packages (from pexpect>4.3->ipython>=6.1.0->ipywidgets) (0.7.0)\n",
      "Requirement already satisfied: wcwidth in /usr/local/Caskroom/miniforge/base/envs/merc/lib/python3.10/site-packages (from prompt_toolkit<3.1.0,>=3.0.41->ipython>=6.1.0->ipywidgets) (0.2.13)\n",
      "Requirement already satisfied: executing>=1.2.0 in /usr/local/Caskroom/miniforge/base/envs/merc/lib/python3.10/site-packages (from stack_data->ipython>=6.1.0->ipywidgets) (2.1.0)\n",
      "Requirement already satisfied: asttokens>=2.1.0 in /usr/local/Caskroom/miniforge/base/envs/merc/lib/python3.10/site-packages (from stack_data->ipython>=6.1.0->ipywidgets) (3.0.0)\n",
      "Requirement already satisfied: pure_eval in /usr/local/Caskroom/miniforge/base/envs/merc/lib/python3.10/site-packages (from stack_data->ipython>=6.1.0->ipywidgets) (0.2.3)\n",
      "Note: you may need to restart the kernel to use updated packages.\n",
      "Requirement already satisfied: jupyterlab_widgets in /usr/local/Caskroom/miniforge/base/envs/merc/lib/python3.10/site-packages (3.0.14)\n",
      "Note: you may need to restart the kernel to use updated packages.\n"
     ]
    }
   ],
   "source": [
    "%pip install ipywidgets\n",
    "%pip install jupyterlab_widgets"
   ]
  },
  {
   "cell_type": "code",
   "execution_count": 3,
   "id": "8e5c480b",
   "metadata": {},
   "outputs": [],
   "source": [
    "import os\n",
    "import json\n",
    "import pandas as pd\n",
    "import numpy as np\n",
    "import torch\n",
    "from torch import nn\n",
    "from torch.utils.data import Dataset, DataLoader\n",
    "from transformers import AutoTokenizer, AutoModel, get_linear_schedule_with_warmup\n",
    "from sklearn.metrics import f1_score, accuracy_score, mean_squared_error\n",
    "import matplotlib.pyplot as plt\n",
    "from tqdm.notebook import tqdm\n",
    "from torch.optim import AdamW"
   ]
  },
  {
   "cell_type": "code",
   "execution_count": 4,
   "id": "3c2bc09f",
   "metadata": {},
   "outputs": [
    {
     "name": "stdout",
     "output_type": "stream",
     "text": [
      "Using device: mps\n"
     ]
    }
   ],
   "source": [
    "# Paths\n",
    "DATASET_PATH = '/Users/rumenguin/Research/MERC/EmoReact/dataset.csv'\n",
    "TRAIN_NAMES_PATH = '/Users/rumenguin/Research/MERC/EmoReact/Labels/Train_names.txt'\n",
    "VAL_NAMES_PATH = '/Users/rumenguin/Research/MERC/EmoReact/Labels/Val_names.txt'\n",
    "TEST_NAMES_PATH = '/Users/rumenguin/Research/MERC/EmoReact/Labels/Test_names.txt'\n",
    "MODEL_NAME = 'distilbert-base-uncased'  # Good balance of performance and efficiency for Mac M1\n",
    "SAVE_DIR = '/Users/rumenguin/Research/MERC/models/saved_model'\n",
    "\n",
    "# Create save directory if it doesn't exist\n",
    "os.makedirs(SAVE_DIR, exist_ok=True)\n",
    "\n",
    "# Set device\n",
    "device = torch.device(\"mps\" if torch.backends.mps.is_available() else \"cpu\")\n",
    "print(f\"Using device: {device}\")"
   ]
  },
  {
   "cell_type": "code",
   "execution_count": null,
   "id": "a3c2d1e5",
   "metadata": {},
   "outputs": [
    {
     "name": "stdout",
     "output_type": "stream",
     "text": [
      "Train videos: 432\n",
      "Val videos: 303\n",
      "Test videos: 367\n",
      "Dataset shape: (1102, 6)\n",
      "Missing values in each column:\n",
      "ID              0\n",
      "Video           0\n",
      "Transcript     10\n",
      "Behavior        0\n",
      "Labels        138\n",
      "Valence         0\n",
      "dtype: int64\n"
     ]
    }
   ],
   "source": [
    "# Load and preprocess the dataset\n",
    "def load_video_names(file_path):\n",
    "    with open(file_path, 'r') as f:\n",
    "        # Remove quotes if present and strip whitespace\n",
    "        return [line.strip().replace(\"'\", \"\").replace('\"', '') for line in f.readlines()]\n",
    "\n",
    "# Load video names for train, val, and test sets\n",
    "train_videos = load_video_names(TRAIN_NAMES_PATH)\n",
    "val_videos = load_video_names(VAL_NAMES_PATH)\n",
    "test_videos = load_video_names(TEST_NAMES_PATH)\n",
    "\n",
    "print(f\"Train videos: {len(train_videos)}\")\n",
    "print(f\"Val videos: {len(val_videos)}\")\n",
    "print(f\"Test videos: {len(test_videos)}\")\n",
    "\n",
    "# Load the dataset\n",
    "df = pd.read_csv(DATASET_PATH)\n",
    "print(f\"Dataset shape: {df.shape}\")\n",
    "\n",
    "# Display first few rows to understand the data\n",
    "df.head()\n",
    "\n",
    "# Check for missing values\n",
    "print(\"Missing values in each column:\")\n",
    "print(df.isnull().sum())"
   ]
  },
  {
   "cell_type": "code",
   "execution_count": 6,
   "id": "556b6c0c",
   "metadata": {},
   "outputs": [
    {
     "name": "stdout",
     "output_type": "stream",
     "text": [
      "All possible emotions: ['Curiosity', 'Uncertainty', 'Excitement', 'Happiness', 'Surprise', 'Disgust', 'Fear', 'Frustration']\n"
     ]
    }
   ],
   "source": [
    "# Process Labels (emotions)\n",
    "# Convert string representation of emotion labels to lists\n",
    "def process_labels(labels):\n",
    "    if pd.isna(labels) or labels == 'None' or labels == '':\n",
    "        return []\n",
    "    try:\n",
    "        # Try to evaluate as a literal Python expression (list, tuple, etc.)\n",
    "        return eval(labels)\n",
    "    except:\n",
    "        # If it's a simple string without brackets\n",
    "        if isinstance(labels, str):\n",
    "            return [label.strip() for label in labels.split(',')]\n",
    "        return []\n",
    "\n",
    "# Apply to the Labels column\n",
    "df['Processed_Labels'] = df['Labels'].apply(process_labels)\n",
    "\n",
    "# List all possible emotions\n",
    "all_emotions = ['Curiosity', 'Uncertainty', 'Excitement', 'Happiness', 'Surprise', 'Disgust', 'Fear', 'Frustration']\n",
    "print(f\"All possible emotions: {all_emotions}\")"
   ]
  },
  {
   "cell_type": "code",
   "execution_count": 7,
   "id": "c76e2b27",
   "metadata": {},
   "outputs": [
    {
     "name": "stdout",
     "output_type": "stream",
     "text": [
      "Valence range: 1.0 to 7.0\n"
     ]
    }
   ],
   "source": [
    "# Convert Valence to numeric and handle missing values\n",
    "df['Valence'] = pd.to_numeric(df['Valence'], errors='coerce')\n",
    "# Fill missing valence with mean value\n",
    "mean_valence = df['Valence'].mean()\n",
    "df['Valence'] = df['Valence'].fillna(mean_valence)\n",
    "print(f\"Valence range: {df['Valence'].min()} to {df['Valence'].max()}\")\n",
    "\n",
    "# Create new column combining Transcript and Behavior\n",
    "df['Combined_Text'] = df['Transcript'].fillna('') + ' ' + df['Behavior'].fillna('')\n",
    "df['Combined_Text'] = df['Combined_Text'].str.strip()\n",
    "\n",
    "# Handle cases where both transcript and behavior might be empty\n",
    "df.loc[df['Combined_Text'] == '', 'Combined_Text'] = \"No information available\"\n"
   ]
  },
  {
   "cell_type": "code",
   "execution_count": 8,
   "id": "f4e83b97",
   "metadata": {},
   "outputs": [
    {
     "name": "stdout",
     "output_type": "stream",
     "text": [
      "Train set: 432 samples\n",
      "Val set: 303 samples\n",
      "Test set: 367 samples\n"
     ]
    }
   ],
   "source": [
    "# Split dataset into train, val, test based on the video files\n",
    "def get_video_name(video_path):\n",
    "    return os.path.basename(video_path)\n",
    "\n",
    "df['VideoName'] = df['Video'].apply(get_video_name)\n",
    "\n",
    "train_df = df[df['VideoName'].isin(train_videos)]\n",
    "val_df = df[df['VideoName'].isin(val_videos)]\n",
    "test_df = df[df['VideoName'].isin(test_videos)]\n",
    "\n",
    "print(f\"Train set: {len(train_df)} samples\")\n",
    "print(f\"Val set: {len(val_df)} samples\")\n",
    "print(f\"Test set: {len(test_df)} samples\")"
   ]
  },
  {
   "cell_type": "code",
   "execution_count": 9,
   "id": "d0d7ed57",
   "metadata": {},
   "outputs": [],
   "source": [
    "from sklearn.preprocessing import MultiLabelBinarizer\n",
    "# Initialize the MultiLabelBinarizer\n",
    "mlb = MultiLabelBinarizer(classes=all_emotions)\n",
    "mlb.fit([all_emotions])  # Ensure all classes are represented\n",
    "\n",
    "# One-hot encode the labels\n",
    "train_labels_encoded = mlb.transform(train_df['Processed_Labels'].tolist())\n",
    "val_labels_encoded = mlb.transform(val_df['Processed_Labels'].tolist())\n",
    "test_labels_encoded = mlb.transform(test_df['Processed_Labels'].tolist())\n",
    "\n",
    "# Save the class mapping\n",
    "with open(os.path.join(SAVE_DIR, 'emotion_labels.json'), 'w') as f:\n",
    "    json.dump({idx: emotion for idx, emotion in enumerate(mlb.classes_)}, f)"
   ]
  },
  {
   "cell_type": "code",
   "execution_count": 10,
   "id": "187142ba",
   "metadata": {},
   "outputs": [],
   "source": [
    "# Create a custom dataset class\n",
    "class EmotionDataset(Dataset):\n",
    "    def __init__(self, texts, emotion_labels, valence_values, tokenizer, max_length=512):\n",
    "        self.texts = texts\n",
    "        self.emotion_labels = emotion_labels\n",
    "        self.valence_values = valence_values\n",
    "        self.tokenizer = tokenizer\n",
    "        self.max_length = max_length\n",
    "    \n",
    "    def __len__(self):\n",
    "        return len(self.texts)\n",
    "    \n",
    "    def __getitem__(self, idx):\n",
    "        text = self.texts[idx]\n",
    "        emotion_label = self.emotion_labels[idx]\n",
    "        valence = self.valence_values[idx]\n",
    "        \n",
    "        encoding = self.tokenizer(\n",
    "            text,\n",
    "            truncation=True,\n",
    "            padding='max_length',\n",
    "            max_length=self.max_length,\n",
    "            return_tensors='pt'\n",
    "        )\n",
    "        \n",
    "        # Squeeze to remove batch dimension\n",
    "        input_ids = encoding['input_ids'].squeeze()\n",
    "        attention_mask = encoding['attention_mask'].squeeze()\n",
    "        \n",
    "        return {\n",
    "            'input_ids': input_ids,\n",
    "            'attention_mask': attention_mask,\n",
    "            'emotion_labels': torch.FloatTensor(emotion_label),\n",
    "            'valence': torch.FloatTensor([valence])\n",
    "        }"
   ]
  },
  {
   "cell_type": "code",
   "execution_count": 11,
   "id": "742e0b17",
   "metadata": {},
   "outputs": [],
   "source": [
    "from transformers import DistilBertModel\n",
    "# Define the model\n",
    "class EmotionValenceModel(nn.Module):\n",
    "    def __init__(self, n_emotions, dropout_prob=0.3):\n",
    "        super(EmotionValenceModel, self).__init__()\n",
    "        self.distilbert = DistilBertModel.from_pretrained('distilbert-base-uncased')\n",
    "        \n",
    "        # Freeze some layers of DistilBERT to reduce computational load and prevent overfitting\n",
    "        modules = [self.distilbert.embeddings, *self.distilbert.transformer.layer[:2]]\n",
    "        for module in modules:\n",
    "            for param in module.parameters():\n",
    "                param.requires_grad = False\n",
    "        \n",
    "        hidden_size = self.distilbert.config.hidden_size\n",
    "        \n",
    "        # Common layers\n",
    "        self.dropout = nn.Dropout(dropout_prob)\n",
    "        self.pre_classifier = nn.Linear(hidden_size, 256)\n",
    "        self.activation = nn.ReLU()\n",
    "        \n",
    "        # Emotion classification head\n",
    "        self.emotion_classifier = nn.Linear(256, n_emotions)\n",
    "        \n",
    "        # Valence regression head\n",
    "        self.valence_regressor = nn.Linear(256, 1)\n",
    "    \n",
    "    def forward(self, input_ids, attention_mask):\n",
    "        outputs = self.distilbert(input_ids=input_ids, attention_mask=attention_mask)\n",
    "        hidden_state = outputs.last_hidden_state[:, 0]  # Use [CLS] token representation\n",
    "        \n",
    "        x = self.dropout(hidden_state)\n",
    "        x = self.pre_classifier(x)\n",
    "        x = self.activation(x)\n",
    "        x = self.dropout(x)\n",
    "        \n",
    "        # Multi-label emotion classification (using sigmoid for multi-label)\n",
    "        emotion_output = self.emotion_classifier(x)\n",
    "        \n",
    "        # Valence regression (value between 1-7)\n",
    "        valence_output = self.valence_regressor(x)\n",
    "        \n",
    "        return emotion_output, valence_output\n"
   ]
  },
  {
   "cell_type": "code",
   "execution_count": 12,
   "id": "a1686115",
   "metadata": {},
   "outputs": [],
   "source": [
    "from transformers import DistilBertTokenizer\n",
    "# Initialize the tokenizer\n",
    "tokenizer = DistilBertTokenizer.from_pretrained('distilbert-base-uncased')\n",
    "\n",
    "# Create datasets\n",
    "train_dataset = EmotionDataset(\n",
    "    train_df['Combined_Text'].tolist(),\n",
    "    train_labels_encoded,\n",
    "    train_df['Valence'].tolist(),\n",
    "    tokenizer\n",
    ")\n",
    "\n",
    "val_dataset = EmotionDataset(\n",
    "    val_df['Combined_Text'].tolist(),\n",
    "    val_labels_encoded,\n",
    "    val_df['Valence'].tolist(),\n",
    "    tokenizer\n",
    ")\n",
    "\n",
    "test_dataset = EmotionDataset(\n",
    "    test_df['Combined_Text'].tolist(),\n",
    "    test_labels_encoded,\n",
    "    test_df['Valence'].tolist(),\n",
    "    tokenizer\n",
    ")"
   ]
  },
  {
   "cell_type": "code",
   "execution_count": 13,
   "id": "81275237",
   "metadata": {},
   "outputs": [],
   "source": [
    "# Create data loaders\n",
    "batch_size = 16  # Smaller batch size for M1 Mac\n",
    "\n",
    "train_loader = DataLoader(train_dataset, batch_size=batch_size, shuffle=True)\n",
    "val_loader = DataLoader(val_dataset, batch_size=batch_size)\n",
    "test_loader = DataLoader(test_dataset, batch_size=batch_size)\n",
    "\n",
    "# Initialize the model\n",
    "n_emotions = len(all_emotions)\n",
    "model = EmotionValenceModel(n_emotions)\n",
    "model = model.to(device)\n",
    "\n",
    "# Define loss functions\n",
    "emotion_criterion = nn.BCEWithLogitsLoss()\n",
    "valence_criterion = nn.MSELoss()\n",
    "\n",
    "# Define optimizer with weight decay for regularization\n",
    "optimizer = AdamW(model.parameters(), lr=2e-5, weight_decay=0.01)\n",
    "\n",
    "# Learning rate scheduler\n",
    "num_epochs = 50\n",
    "total_steps = len(train_loader) * num_epochs\n",
    "scheduler = get_linear_schedule_with_warmup(\n",
    "    optimizer,\n",
    "    num_warmup_steps=0,\n",
    "    num_training_steps=total_steps\n",
    ")"
   ]
  },
  {
   "cell_type": "code",
   "execution_count": 14,
   "id": "95b5f2d2",
   "metadata": {},
   "outputs": [],
   "source": [
    "# Training loop\n",
    "\n",
    "def train_model(model, train_loader, val_loader, optimizer, scheduler, emotion_criterion, valence_criterion, num_epochs, device):\n",
    "    # For tracking metrics\n",
    "    history = {\n",
    "        'train_emotion_loss': [],\n",
    "        'train_valence_loss': [],\n",
    "        'train_total_loss': [],\n",
    "        'val_emotion_loss': [],\n",
    "        'val_valence_loss': [],\n",
    "        'val_total_loss': [],\n",
    "        'val_micro_f1': [],\n",
    "        'val_macro_f1': [],\n",
    "        'val_valence_rmse': [],\n",
    "        'val_accuracy': []  # Added accuracy tracking\n",
    "    }\n",
    "    \n",
    "    # Alpha parameter for balancing losses (can be adjusted)\n",
    "    alpha = 0.7  # Weight for emotion loss\n",
    "    beta = 0.3   # Weight for valence loss\n",
    "    \n",
    "    best_val_loss = float('inf')\n",
    "    \n",
    "    for epoch in range(num_epochs):\n",
    "        print(f\"\\nEpoch {epoch+1}/{num_epochs}\")\n",
    "        \n",
    "        # Training phase\n",
    "        model.train()\n",
    "        train_emotion_loss = 0\n",
    "        train_valence_loss = 0\n",
    "        train_total_loss = 0\n",
    "        \n",
    "        progress_bar = tqdm(enumerate(train_loader), total=len(train_loader))\n",
    "        \n",
    "        for batch_idx, batch in progress_bar:\n",
    "            # Move batch to device\n",
    "            input_ids = batch['input_ids'].to(device)\n",
    "            attention_mask = batch['attention_mask'].to(device)\n",
    "            emotion_labels = batch['emotion_labels'].to(device)\n",
    "            valence = batch['valence'].to(device)\n",
    "            \n",
    "            # Forward pass\n",
    "            emotion_logits, valence_pred = model(input_ids, attention_mask)\n",
    "            \n",
    "            # Calculate losses\n",
    "            e_loss = emotion_criterion(emotion_logits, emotion_labels)\n",
    "            v_loss = valence_criterion(valence_pred, valence)\n",
    "            \n",
    "            # Weighted combined loss\n",
    "            loss = alpha * e_loss + beta * v_loss\n",
    "            \n",
    "            # Backward pass\n",
    "            optimizer.zero_grad()\n",
    "            loss.backward()\n",
    "            \n",
    "            # Gradient clipping to prevent exploding gradients\n",
    "            torch.nn.utils.clip_grad_norm_(model.parameters(), max_norm=1.0)\n",
    "            \n",
    "            optimizer.step()\n",
    "            scheduler.step()\n",
    "            \n",
    "            # Update metrics\n",
    "            train_emotion_loss += e_loss.item()\n",
    "            train_valence_loss += v_loss.item()\n",
    "            train_total_loss += loss.item()\n",
    "            \n",
    "            # Update progress bar\n",
    "            progress_bar.set_description(f\"Training - Loss: {loss.item():.4f}\")\n",
    "        \n",
    "        # Calculate average training losses\n",
    "        avg_train_emotion_loss = train_emotion_loss / len(train_loader)\n",
    "        avg_train_valence_loss = train_valence_loss / len(train_loader)\n",
    "        avg_train_total_loss = train_total_loss / len(train_loader)\n",
    "        \n",
    "        # Validation phase\n",
    "        model.eval()\n",
    "        val_emotion_loss = 0\n",
    "        val_valence_loss = 0\n",
    "        val_total_loss = 0\n",
    "        \n",
    "        all_emotion_preds = []\n",
    "        all_emotion_labels = []\n",
    "        all_valence_preds = []\n",
    "        all_valence_labels = []\n",
    "        \n",
    "        with torch.no_grad():\n",
    "            for batch in tqdm(val_loader, desc=\"Validation\"):\n",
    "                input_ids = batch['input_ids'].to(device)\n",
    "                attention_mask = batch['attention_mask'].to(device)\n",
    "                emotion_labels = batch['emotion_labels'].to(device)\n",
    "                valence = batch['valence'].to(device)\n",
    "                \n",
    "                emotion_logits, valence_pred = model(input_ids, attention_mask)\n",
    "                \n",
    "                e_loss = emotion_criterion(emotion_logits, emotion_labels)\n",
    "                v_loss = valence_criterion(valence_pred, valence)\n",
    "                loss = alpha * e_loss + beta * v_loss\n",
    "                \n",
    "                val_emotion_loss += e_loss.item()\n",
    "                val_valence_loss += v_loss.item()\n",
    "                val_total_loss += loss.item()\n",
    "                \n",
    "                # Convert logits to predictions\n",
    "                emotion_preds = torch.sigmoid(emotion_logits).cpu().numpy() > 0.5  # Threshold for multi-label classification\n",
    "                # Convert lists to numpy arrays for F1 calculation\n",
    "                \n",
    "                all_emotion_preds.extend(emotion_preds.astype(int).tolist())\n",
    "                all_emotion_labels.extend(emotion_labels.cpu().numpy().astype(int).tolist())\n",
    "                all_valence_preds.extend(valence_pred.cpu().numpy().flatten().tolist())\n",
    "                all_valence_labels.extend(valence.cpu().numpy().flatten().tolist())\n",
    "        \n",
    "        # Calculate validation metrics\n",
    "        avg_val_emotion_loss = val_emotion_loss / len(val_loader)\n",
    "        avg_val_valence_loss = val_valence_loss / len(val_loader)\n",
    "        avg_val_total_loss = val_total_loss / len(val_loader)\n",
    "        \n",
    "        # F1 scores for emotion classification\n",
    "        #micro_f1 = f1_score(all_emotion_labels, all_emotion_preds, average='micro')\n",
    "        # macro_f1 = f1_score(all_emotion_labels, all_emotion_preds, average='macro')\n",
    "        # Convert to numpy arrays\n",
    "        emotion_preds_np = np.array(all_emotion_preds)\n",
    "        emotion_labels_np = np.array(all_emotion_labels)\n",
    "\n",
    "        # F1 scores for multi-label emotion classification\n",
    "        micro_f1 = f1_score(emotion_labels_np, emotion_preds_np, average='micro', zero_division=0)\n",
    "        macro_f1 = f1_score(emotion_labels_np, emotion_preds_np, average='macro', zero_division=0)\n",
    "        \n",
    "        # RMSE for valence prediction\n",
    "        valence_rmse = np.sqrt(mean_squared_error(all_valence_labels, all_valence_preds))\n",
    "        \n",
    "        # Calculate accuracy for multi-label classification\n",
    "        accuracy = np.mean(np.array(emotion_preds_np == emotion_labels_np, dtype=float))\n",
    "        \n",
    "        # Update history\n",
    "        history['train_emotion_loss'].append(avg_train_emotion_loss)\n",
    "        history['train_valence_loss'].append(avg_train_valence_loss)\n",
    "        history['train_total_loss'].append(avg_train_total_loss)\n",
    "        history['val_emotion_loss'].append(avg_val_emotion_loss)\n",
    "        history['val_valence_loss'].append(avg_val_valence_loss)\n",
    "        history['val_total_loss'].append(avg_val_total_loss)\n",
    "        history['val_micro_f1'].append(micro_f1)\n",
    "        history['val_macro_f1'].append(macro_f1)\n",
    "        history['val_valence_rmse'].append(valence_rmse)\n",
    "        history['val_accuracy'].append(accuracy)  # Added accuracy to history\n",
    "        \n",
    "        # Print metrics\n",
    "        print(f\"Train - Emotion Loss: {avg_train_emotion_loss:.4f}, Valence Loss: {avg_train_valence_loss:.4f}, Total Loss: {avg_train_total_loss:.4f}\")\n",
    "        print(f\"Val - Emotion Loss: {avg_val_emotion_loss:.4f}, Valence Loss: {avg_val_valence_loss:.4f}, Total Loss: {avg_val_total_loss:.4f}\")\n",
    "        print(f\"Val - Micro F1: {micro_f1:.4f}, Macro F1: {macro_f1:.4f}, Valence RMSE: {valence_rmse:.4f}, Accuracy: {accuracy:.4f}\")  # Added accuracy to print statement\n",
    "        \n",
    "        # Save best model\n",
    "        if avg_val_total_loss < best_val_loss:\n",
    "            best_val_loss = avg_val_total_loss\n",
    "            torch.save(model.state_dict(), os.path.join(SAVE_DIR, 'dbert_best_model.pt'))\n",
    "            print(\"Saved best model!\")\n",
    "    \n",
    "    # Save final model\n",
    "    torch.save(model.state_dict(), os.path.join(SAVE_DIR, 'dbert_final_model.pt'))\n",
    "    \n",
    "    # Save training history\n",
    "    with open(os.path.join(SAVE_DIR, 'dbert_training_history.json'), 'w') as f:\n",
    "        json.dump(history, f)\n",
    "    \n",
    "    return history\n"
   ]
  },
  {
   "cell_type": "code",
   "execution_count": 15,
   "id": "65a8f519",
   "metadata": {},
   "outputs": [
    {
     "name": "stdout",
     "output_type": "stream",
     "text": [
      "\n",
      "Epoch 1/50\n"
     ]
    },
    {
     "data": {
      "application/vnd.jupyter.widget-view+json": {
       "model_id": "ac4ef238faef4a4690ba5f96bb97bde2",
       "version_major": 2,
       "version_minor": 0
      },
      "text/plain": [
       "  0%|          | 0/27 [00:00<?, ?it/s]"
      ]
     },
     "metadata": {},
     "output_type": "display_data"
    },
    {
     "data": {
      "application/vnd.jupyter.widget-view+json": {
       "model_id": "fc72fd768608416f827b2bbd2dd18482",
       "version_major": 2,
       "version_minor": 0
      },
      "text/plain": [
       "Validation:   0%|          | 0/19 [00:00<?, ?it/s]"
      ]
     },
     "metadata": {},
     "output_type": "display_data"
    },
    {
     "name": "stdout",
     "output_type": "stream",
     "text": [
      "Train - Emotion Loss: 0.6760, Valence Loss: 9.8556, Total Loss: 3.4299\n",
      "Val - Emotion Loss: 0.6540, Valence Loss: 2.6551, Total Loss: 1.2544\n",
      "Val - Micro F1: 0.2348, Macro F1: 0.1263, Valence RMSE: 1.6298, Accuracy: 0.6774\n",
      "Saved best model!\n",
      "\n",
      "Epoch 2/50\n"
     ]
    },
    {
     "data": {
      "application/vnd.jupyter.widget-view+json": {
       "model_id": "d285b454ad964409ab6ee1f829ee2d46",
       "version_major": 2,
       "version_minor": 0
      },
      "text/plain": [
       "  0%|          | 0/27 [00:00<?, ?it/s]"
      ]
     },
     "metadata": {},
     "output_type": "display_data"
    },
    {
     "data": {
      "application/vnd.jupyter.widget-view+json": {
       "model_id": "437c6f85287d49a0beab11996c71801e",
       "version_major": 2,
       "version_minor": 0
      },
      "text/plain": [
       "Validation:   0%|          | 0/19 [00:00<?, ?it/s]"
      ]
     },
     "metadata": {},
     "output_type": "display_data"
    },
    {
     "name": "stdout",
     "output_type": "stream",
     "text": [
      "Train - Emotion Loss: 0.6414, Valence Loss: 2.3491, Total Loss: 1.1537\n",
      "Val - Emotion Loss: 0.6042, Valence Loss: 1.5159, Total Loss: 0.8777\n",
      "Val - Micro F1: 0.0000, Macro F1: 0.0000, Valence RMSE: 1.2324, Accuracy: 0.7409\n",
      "Saved best model!\n",
      "\n",
      "Epoch 3/50\n"
     ]
    },
    {
     "data": {
      "application/vnd.jupyter.widget-view+json": {
       "model_id": "7fa49570d7614b86a0d1506e2f9fddbd",
       "version_major": 2,
       "version_minor": 0
      },
      "text/plain": [
       "  0%|          | 0/27 [00:00<?, ?it/s]"
      ]
     },
     "metadata": {},
     "output_type": "display_data"
    },
    {
     "data": {
      "application/vnd.jupyter.widget-view+json": {
       "model_id": "13be1bb9f74d44c8ac3adc0d595b0520",
       "version_major": 2,
       "version_minor": 0
      },
      "text/plain": [
       "Validation:   0%|          | 0/19 [00:00<?, ?it/s]"
      ]
     },
     "metadata": {},
     "output_type": "display_data"
    },
    {
     "name": "stdout",
     "output_type": "stream",
     "text": [
      "Train - Emotion Loss: 0.5925, Valence Loss: 1.7962, Total Loss: 0.9536\n",
      "Val - Emotion Loss: 0.5661, Valence Loss: 0.7039, Total Loss: 0.6074\n",
      "Val - Micro F1: 0.0000, Macro F1: 0.0000, Valence RMSE: 0.8399, Accuracy: 0.7409\n",
      "Saved best model!\n",
      "\n",
      "Epoch 4/50\n"
     ]
    },
    {
     "data": {
      "application/vnd.jupyter.widget-view+json": {
       "model_id": "9483d2ceba334297b064f177639c518c",
       "version_major": 2,
       "version_minor": 0
      },
      "text/plain": [
       "  0%|          | 0/27 [00:00<?, ?it/s]"
      ]
     },
     "metadata": {},
     "output_type": "display_data"
    },
    {
     "data": {
      "application/vnd.jupyter.widget-view+json": {
       "model_id": "4c8b6cdd4bec4bd0a30fbe66ea7aa40f",
       "version_major": 2,
       "version_minor": 0
      },
      "text/plain": [
       "Validation:   0%|          | 0/19 [00:00<?, ?it/s]"
      ]
     },
     "metadata": {},
     "output_type": "display_data"
    },
    {
     "name": "stdout",
     "output_type": "stream",
     "text": [
      "Train - Emotion Loss: 0.5697, Valence Loss: 0.6875, Total Loss: 0.6051\n",
      "Val - Emotion Loss: 0.5450, Valence Loss: 0.2426, Total Loss: 0.4543\n",
      "Val - Micro F1: 0.3552, Macro F1: 0.1657, Valence RMSE: 0.4928, Accuracy: 0.7888\n",
      "Saved best model!\n",
      "\n",
      "Epoch 5/50\n"
     ]
    },
    {
     "data": {
      "application/vnd.jupyter.widget-view+json": {
       "model_id": "9203f64b1bfe43298eda955804119b87",
       "version_major": 2,
       "version_minor": 0
      },
      "text/plain": [
       "  0%|          | 0/27 [00:00<?, ?it/s]"
      ]
     },
     "metadata": {},
     "output_type": "display_data"
    },
    {
     "data": {
      "application/vnd.jupyter.widget-view+json": {
       "model_id": "c5a5be459b5642a78fbb84afb20e8459",
       "version_major": 2,
       "version_minor": 0
      },
      "text/plain": [
       "Validation:   0%|          | 0/19 [00:00<?, ?it/s]"
      ]
     },
     "metadata": {},
     "output_type": "display_data"
    },
    {
     "name": "stdout",
     "output_type": "stream",
     "text": [
      "Train - Emotion Loss: 0.5436, Valence Loss: 0.4155, Total Loss: 0.5052\n",
      "Val - Emotion Loss: 0.5135, Valence Loss: 0.2353, Total Loss: 0.4300\n",
      "Val - Micro F1: 0.4365, Macro F1: 0.1830, Valence RMSE: 0.4851, Accuracy: 0.8115\n",
      "Saved best model!\n",
      "\n",
      "Epoch 6/50\n"
     ]
    },
    {
     "data": {
      "application/vnd.jupyter.widget-view+json": {
       "model_id": "cb8dcd3b8d204acbadd37a365718e71a",
       "version_major": 2,
       "version_minor": 0
      },
      "text/plain": [
       "  0%|          | 0/27 [00:00<?, ?it/s]"
      ]
     },
     "metadata": {},
     "output_type": "display_data"
    },
    {
     "data": {
      "application/vnd.jupyter.widget-view+json": {
       "model_id": "b57de41194b84753b7000b899bffd2ad",
       "version_major": 2,
       "version_minor": 0
      },
      "text/plain": [
       "Validation:   0%|          | 0/19 [00:00<?, ?it/s]"
      ]
     },
     "metadata": {},
     "output_type": "display_data"
    },
    {
     "name": "stdout",
     "output_type": "stream",
     "text": [
      "Train - Emotion Loss: 0.5181, Valence Loss: 0.3385, Total Loss: 0.4642\n",
      "Val - Emotion Loss: 0.4902, Valence Loss: 0.2044, Total Loss: 0.4045\n",
      "Val - Micro F1: 0.4919, Macro F1: 0.2024, Valence RMSE: 0.4522, Accuracy: 0.8185\n",
      "Saved best model!\n",
      "\n",
      "Epoch 7/50\n"
     ]
    },
    {
     "data": {
      "application/vnd.jupyter.widget-view+json": {
       "model_id": "b867ee21d89347c89817b640f0eb68f4",
       "version_major": 2,
       "version_minor": 0
      },
      "text/plain": [
       "  0%|          | 0/27 [00:00<?, ?it/s]"
      ]
     },
     "metadata": {},
     "output_type": "display_data"
    },
    {
     "data": {
      "application/vnd.jupyter.widget-view+json": {
       "model_id": "1d22f411f6f5438985bae7d3ea95e174",
       "version_major": 2,
       "version_minor": 0
      },
      "text/plain": [
       "Validation:   0%|          | 0/19 [00:00<?, ?it/s]"
      ]
     },
     "metadata": {},
     "output_type": "display_data"
    },
    {
     "name": "stdout",
     "output_type": "stream",
     "text": [
      "Train - Emotion Loss: 0.4968, Valence Loss: 0.3408, Total Loss: 0.4500\n",
      "Val - Emotion Loss: 0.4736, Valence Loss: 0.1658, Total Loss: 0.3813\n",
      "Val - Micro F1: 0.4180, Macro F1: 0.1713, Valence RMSE: 0.4072, Accuracy: 0.8082\n",
      "Saved best model!\n",
      "\n",
      "Epoch 8/50\n"
     ]
    },
    {
     "data": {
      "application/vnd.jupyter.widget-view+json": {
       "model_id": "8ddb2979ff2a41b69034deb65c96a5ed",
       "version_major": 2,
       "version_minor": 0
      },
      "text/plain": [
       "  0%|          | 0/27 [00:00<?, ?it/s]"
      ]
     },
     "metadata": {},
     "output_type": "display_data"
    },
    {
     "data": {
      "application/vnd.jupyter.widget-view+json": {
       "model_id": "bc93784978cf4669bf34b7c77bbfe362",
       "version_major": 2,
       "version_minor": 0
      },
      "text/plain": [
       "Validation:   0%|          | 0/19 [00:00<?, ?it/s]"
      ]
     },
     "metadata": {},
     "output_type": "display_data"
    },
    {
     "name": "stdout",
     "output_type": "stream",
     "text": [
      "Train - Emotion Loss: 0.4807, Valence Loss: 0.2674, Total Loss: 0.4167\n",
      "Val - Emotion Loss: 0.4620, Valence Loss: 0.2278, Total Loss: 0.3917\n",
      "Val - Micro F1: 0.4904, Macro F1: 0.1999, Valence RMSE: 0.4770, Accuracy: 0.8148\n",
      "\n",
      "Epoch 9/50\n"
     ]
    },
    {
     "data": {
      "application/vnd.jupyter.widget-view+json": {
       "model_id": "862d78ae2be44eb7a4865967e681e438",
       "version_major": 2,
       "version_minor": 0
      },
      "text/plain": [
       "  0%|          | 0/27 [00:00<?, ?it/s]"
      ]
     },
     "metadata": {},
     "output_type": "display_data"
    },
    {
     "data": {
      "application/vnd.jupyter.widget-view+json": {
       "model_id": "4351c0c4fe014cf48f1760173ace99b2",
       "version_major": 2,
       "version_minor": 0
      },
      "text/plain": [
       "Validation:   0%|          | 0/19 [00:00<?, ?it/s]"
      ]
     },
     "metadata": {},
     "output_type": "display_data"
    },
    {
     "name": "stdout",
     "output_type": "stream",
     "text": [
      "Train - Emotion Loss: 0.4687, Valence Loss: 0.2885, Total Loss: 0.4146\n",
      "Val - Emotion Loss: 0.4487, Valence Loss: 0.1472, Total Loss: 0.3583\n",
      "Val - Micro F1: 0.4944, Macro F1: 0.2003, Valence RMSE: 0.3835, Accuracy: 0.8144\n",
      "Saved best model!\n",
      "\n",
      "Epoch 10/50\n"
     ]
    },
    {
     "data": {
      "application/vnd.jupyter.widget-view+json": {
       "model_id": "37bc94014afd4e0ca8ce21fc409e1189",
       "version_major": 2,
       "version_minor": 0
      },
      "text/plain": [
       "  0%|          | 0/27 [00:00<?, ?it/s]"
      ]
     },
     "metadata": {},
     "output_type": "display_data"
    },
    {
     "data": {
      "application/vnd.jupyter.widget-view+json": {
       "model_id": "1f5e6246f9d44234bd3b6af6410db86a",
       "version_major": 2,
       "version_minor": 0
      },
      "text/plain": [
       "Validation:   0%|          | 0/19 [00:00<?, ?it/s]"
      ]
     },
     "metadata": {},
     "output_type": "display_data"
    },
    {
     "name": "stdout",
     "output_type": "stream",
     "text": [
      "Train - Emotion Loss: 0.4592, Valence Loss: 0.2580, Total Loss: 0.3988\n",
      "Val - Emotion Loss: 0.4409, Valence Loss: 0.0884, Total Loss: 0.3351\n",
      "Val - Micro F1: 0.4818, Macro F1: 0.2029, Valence RMSE: 0.2972, Accuracy: 0.8181\n",
      "Saved best model!\n",
      "\n",
      "Epoch 11/50\n"
     ]
    },
    {
     "data": {
      "application/vnd.jupyter.widget-view+json": {
       "model_id": "c0e4baf65d074be780e764d24ebdecfe",
       "version_major": 2,
       "version_minor": 0
      },
      "text/plain": [
       "  0%|          | 0/27 [00:00<?, ?it/s]"
      ]
     },
     "metadata": {},
     "output_type": "display_data"
    },
    {
     "data": {
      "application/vnd.jupyter.widget-view+json": {
       "model_id": "fc431c409321409184e2d80669873e52",
       "version_major": 2,
       "version_minor": 0
      },
      "text/plain": [
       "Validation:   0%|          | 0/19 [00:00<?, ?it/s]"
      ]
     },
     "metadata": {},
     "output_type": "display_data"
    },
    {
     "name": "stdout",
     "output_type": "stream",
     "text": [
      "Train - Emotion Loss: 0.4461, Valence Loss: 0.2477, Total Loss: 0.3866\n",
      "Val - Emotion Loss: 0.4271, Valence Loss: 0.1421, Total Loss: 0.3416\n",
      "Val - Micro F1: 0.4889, Macro F1: 0.1955, Valence RMSE: 0.3769, Accuracy: 0.8102\n",
      "\n",
      "Epoch 12/50\n"
     ]
    },
    {
     "data": {
      "application/vnd.jupyter.widget-view+json": {
       "model_id": "cdbac75692c14bc58fa30241b3320b80",
       "version_major": 2,
       "version_minor": 0
      },
      "text/plain": [
       "  0%|          | 0/27 [00:00<?, ?it/s]"
      ]
     },
     "metadata": {},
     "output_type": "display_data"
    },
    {
     "data": {
      "application/vnd.jupyter.widget-view+json": {
       "model_id": "f3813d269cf64564a67a621c10f95f61",
       "version_major": 2,
       "version_minor": 0
      },
      "text/plain": [
       "Validation:   0%|          | 0/19 [00:00<?, ?it/s]"
      ]
     },
     "metadata": {},
     "output_type": "display_data"
    },
    {
     "name": "stdout",
     "output_type": "stream",
     "text": [
      "Train - Emotion Loss: 0.4394, Valence Loss: 0.2353, Total Loss: 0.3782\n",
      "Val - Emotion Loss: 0.4171, Valence Loss: 0.1067, Total Loss: 0.3240\n",
      "Val - Micro F1: 0.4902, Macro F1: 0.2029, Valence RMSE: 0.3266, Accuracy: 0.8172\n",
      "Saved best model!\n",
      "\n",
      "Epoch 13/50\n"
     ]
    },
    {
     "data": {
      "application/vnd.jupyter.widget-view+json": {
       "model_id": "255a164a281b4124bd0d9ec2d6d18f44",
       "version_major": 2,
       "version_minor": 0
      },
      "text/plain": [
       "  0%|          | 0/27 [00:00<?, ?it/s]"
      ]
     },
     "metadata": {},
     "output_type": "display_data"
    },
    {
     "data": {
      "application/vnd.jupyter.widget-view+json": {
       "model_id": "7df28c67f17b4d2dbbe4c3f0cfffede7",
       "version_major": 2,
       "version_minor": 0
      },
      "text/plain": [
       "Validation:   0%|          | 0/19 [00:00<?, ?it/s]"
      ]
     },
     "metadata": {},
     "output_type": "display_data"
    },
    {
     "name": "stdout",
     "output_type": "stream",
     "text": [
      "Train - Emotion Loss: 0.4299, Valence Loss: 0.2488, Total Loss: 0.3755\n",
      "Val - Emotion Loss: 0.4098, Valence Loss: 0.1826, Total Loss: 0.3416\n",
      "Val - Micro F1: 0.4983, Macro F1: 0.2008, Valence RMSE: 0.4270, Accuracy: 0.8131\n",
      "\n",
      "Epoch 14/50\n"
     ]
    },
    {
     "data": {
      "application/vnd.jupyter.widget-view+json": {
       "model_id": "6fedbcb920f844e69edfe4265f6c79aa",
       "version_major": 2,
       "version_minor": 0
      },
      "text/plain": [
       "  0%|          | 0/27 [00:00<?, ?it/s]"
      ]
     },
     "metadata": {},
     "output_type": "display_data"
    },
    {
     "data": {
      "application/vnd.jupyter.widget-view+json": {
       "model_id": "c0d34ee6c0f246fcbfb1648d36a820dc",
       "version_major": 2,
       "version_minor": 0
      },
      "text/plain": [
       "Validation:   0%|          | 0/19 [00:00<?, ?it/s]"
      ]
     },
     "metadata": {},
     "output_type": "display_data"
    },
    {
     "name": "stdout",
     "output_type": "stream",
     "text": [
      "Train - Emotion Loss: 0.4204, Valence Loss: 0.2832, Total Loss: 0.3792\n",
      "Val - Emotion Loss: 0.3985, Valence Loss: 0.1104, Total Loss: 0.3120\n",
      "Val - Micro F1: 0.5216, Macro F1: 0.2295, Valence RMSE: 0.3322, Accuracy: 0.8222\n",
      "Saved best model!\n",
      "\n",
      "Epoch 15/50\n"
     ]
    },
    {
     "data": {
      "application/vnd.jupyter.widget-view+json": {
       "model_id": "9dc3cbffca1c4ed28cf00e7fcfaa0357",
       "version_major": 2,
       "version_minor": 0
      },
      "text/plain": [
       "  0%|          | 0/27 [00:00<?, ?it/s]"
      ]
     },
     "metadata": {},
     "output_type": "display_data"
    },
    {
     "data": {
      "application/vnd.jupyter.widget-view+json": {
       "model_id": "4e992da5975f4faea45f620e545b7d9b",
       "version_major": 2,
       "version_minor": 0
      },
      "text/plain": [
       "Validation:   0%|          | 0/19 [00:00<?, ?it/s]"
      ]
     },
     "metadata": {},
     "output_type": "display_data"
    },
    {
     "name": "stdout",
     "output_type": "stream",
     "text": [
      "Train - Emotion Loss: 0.4050, Valence Loss: 0.2366, Total Loss: 0.3545\n",
      "Val - Emotion Loss: 0.3827, Valence Loss: 0.1084, Total Loss: 0.3004\n",
      "Val - Micro F1: 0.6215, Macro F1: 0.3281, Valence RMSE: 0.3290, Accuracy: 0.8478\n",
      "Saved best model!\n",
      "\n",
      "Epoch 16/50\n"
     ]
    },
    {
     "data": {
      "application/vnd.jupyter.widget-view+json": {
       "model_id": "894b9dabb5cc46ceb1f079538aa669cd",
       "version_major": 2,
       "version_minor": 0
      },
      "text/plain": [
       "  0%|          | 0/27 [00:00<?, ?it/s]"
      ]
     },
     "metadata": {},
     "output_type": "display_data"
    },
    {
     "data": {
      "application/vnd.jupyter.widget-view+json": {
       "model_id": "21bb606b87ec476e9500a60f3d8b3217",
       "version_major": 2,
       "version_minor": 0
      },
      "text/plain": [
       "Validation:   0%|          | 0/19 [00:00<?, ?it/s]"
      ]
     },
     "metadata": {},
     "output_type": "display_data"
    },
    {
     "name": "stdout",
     "output_type": "stream",
     "text": [
      "Train - Emotion Loss: 0.3936, Valence Loss: 0.2510, Total Loss: 0.3508\n",
      "Val - Emotion Loss: 0.3726, Valence Loss: 0.1491, Total Loss: 0.3056\n",
      "Val - Micro F1: 0.6309, Macro F1: 0.3679, Valence RMSE: 0.3859, Accuracy: 0.8523\n",
      "\n",
      "Epoch 17/50\n"
     ]
    },
    {
     "data": {
      "application/vnd.jupyter.widget-view+json": {
       "model_id": "68b6813074da43958f357af1e8cc5a63",
       "version_major": 2,
       "version_minor": 0
      },
      "text/plain": [
       "  0%|          | 0/27 [00:00<?, ?it/s]"
      ]
     },
     "metadata": {},
     "output_type": "display_data"
    },
    {
     "data": {
      "application/vnd.jupyter.widget-view+json": {
       "model_id": "3c7eb04e627b496ab5ca77ea9ec7c3cc",
       "version_major": 2,
       "version_minor": 0
      },
      "text/plain": [
       "Validation:   0%|          | 0/19 [00:00<?, ?it/s]"
      ]
     },
     "metadata": {},
     "output_type": "display_data"
    },
    {
     "name": "stdout",
     "output_type": "stream",
     "text": [
      "Train - Emotion Loss: 0.3858, Valence Loss: 0.2221, Total Loss: 0.3367\n",
      "Val - Emotion Loss: 0.3613, Valence Loss: 0.1168, Total Loss: 0.2880\n",
      "Val - Micro F1: 0.7107, Macro F1: 0.4781, Valence RMSE: 0.3413, Accuracy: 0.8733\n",
      "Saved best model!\n",
      "\n",
      "Epoch 18/50\n"
     ]
    },
    {
     "data": {
      "application/vnd.jupyter.widget-view+json": {
       "model_id": "0d59153452d1425aad17e9dec3d23007",
       "version_major": 2,
       "version_minor": 0
      },
      "text/plain": [
       "  0%|          | 0/27 [00:00<?, ?it/s]"
      ]
     },
     "metadata": {},
     "output_type": "display_data"
    },
    {
     "data": {
      "application/vnd.jupyter.widget-view+json": {
       "model_id": "6c2ab6128cc4497fb3d0ca8254801b94",
       "version_major": 2,
       "version_minor": 0
      },
      "text/plain": [
       "Validation:   0%|          | 0/19 [00:00<?, ?it/s]"
      ]
     },
     "metadata": {},
     "output_type": "display_data"
    },
    {
     "name": "stdout",
     "output_type": "stream",
     "text": [
      "Train - Emotion Loss: 0.3736, Valence Loss: 0.2791, Total Loss: 0.3452\n",
      "Val - Emotion Loss: 0.3502, Valence Loss: 0.1409, Total Loss: 0.2874\n",
      "Val - Micro F1: 0.7435, Macro F1: 0.5111, Valence RMSE: 0.3752, Accuracy: 0.8824\n",
      "Saved best model!\n",
      "\n",
      "Epoch 19/50\n"
     ]
    },
    {
     "data": {
      "application/vnd.jupyter.widget-view+json": {
       "model_id": "4fd55efd3916452e827870e0e4c915a9",
       "version_major": 2,
       "version_minor": 0
      },
      "text/plain": [
       "  0%|          | 0/27 [00:00<?, ?it/s]"
      ]
     },
     "metadata": {},
     "output_type": "display_data"
    },
    {
     "data": {
      "application/vnd.jupyter.widget-view+json": {
       "model_id": "578c06ddf4934af682a124fb86a29ca5",
       "version_major": 2,
       "version_minor": 0
      },
      "text/plain": [
       "Validation:   0%|          | 0/19 [00:00<?, ?it/s]"
      ]
     },
     "metadata": {},
     "output_type": "display_data"
    },
    {
     "name": "stdout",
     "output_type": "stream",
     "text": [
      "Train - Emotion Loss: 0.3614, Valence Loss: 0.2324, Total Loss: 0.3227\n",
      "Val - Emotion Loss: 0.3401, Valence Loss: 0.1138, Total Loss: 0.2722\n",
      "Val - Micro F1: 0.7547, Macro F1: 0.5078, Valence RMSE: 0.3370, Accuracy: 0.8866\n",
      "Saved best model!\n",
      "\n",
      "Epoch 20/50\n"
     ]
    },
    {
     "data": {
      "application/vnd.jupyter.widget-view+json": {
       "model_id": "2e91c8660e4d4ca2add1268156c6fff4",
       "version_major": 2,
       "version_minor": 0
      },
      "text/plain": [
       "  0%|          | 0/27 [00:00<?, ?it/s]"
      ]
     },
     "metadata": {},
     "output_type": "display_data"
    },
    {
     "data": {
      "application/vnd.jupyter.widget-view+json": {
       "model_id": "b8740c1b5bf34b6da70e5296eba5f734",
       "version_major": 2,
       "version_minor": 0
      },
      "text/plain": [
       "Validation:   0%|          | 0/19 [00:00<?, ?it/s]"
      ]
     },
     "metadata": {},
     "output_type": "display_data"
    },
    {
     "name": "stdout",
     "output_type": "stream",
     "text": [
      "Train - Emotion Loss: 0.3489, Valence Loss: 0.2597, Total Loss: 0.3222\n",
      "Val - Emotion Loss: 0.3346, Valence Loss: 0.1599, Total Loss: 0.2822\n",
      "Val - Micro F1: 0.7212, Macro F1: 0.4440, Valence RMSE: 0.3995, Accuracy: 0.8804\n",
      "\n",
      "Epoch 21/50\n"
     ]
    },
    {
     "data": {
      "application/vnd.jupyter.widget-view+json": {
       "model_id": "067db41e513c4f779505492ae314d61f",
       "version_major": 2,
       "version_minor": 0
      },
      "text/plain": [
       "  0%|          | 0/27 [00:00<?, ?it/s]"
      ]
     },
     "metadata": {},
     "output_type": "display_data"
    },
    {
     "data": {
      "application/vnd.jupyter.widget-view+json": {
       "model_id": "17505a4db43444329b39c7fc6576510e",
       "version_major": 2,
       "version_minor": 0
      },
      "text/plain": [
       "Validation:   0%|          | 0/19 [00:00<?, ?it/s]"
      ]
     },
     "metadata": {},
     "output_type": "display_data"
    },
    {
     "name": "stdout",
     "output_type": "stream",
     "text": [
      "Train - Emotion Loss: 0.3480, Valence Loss: 0.2559, Total Loss: 0.3204\n",
      "Val - Emotion Loss: 0.3251, Valence Loss: 0.1213, Total Loss: 0.2640\n",
      "Val - Micro F1: 0.7927, Macro F1: 0.5716, Valence RMSE: 0.3481, Accuracy: 0.9010\n",
      "Saved best model!\n",
      "\n",
      "Epoch 22/50\n"
     ]
    },
    {
     "data": {
      "application/vnd.jupyter.widget-view+json": {
       "model_id": "d2252c44a3e84b488d14651391819d30",
       "version_major": 2,
       "version_minor": 0
      },
      "text/plain": [
       "  0%|          | 0/27 [00:00<?, ?it/s]"
      ]
     },
     "metadata": {},
     "output_type": "display_data"
    },
    {
     "data": {
      "application/vnd.jupyter.widget-view+json": {
       "model_id": "394937fac30843b3a0a941056c465810",
       "version_major": 2,
       "version_minor": 0
      },
      "text/plain": [
       "Validation:   0%|          | 0/19 [00:00<?, ?it/s]"
      ]
     },
     "metadata": {},
     "output_type": "display_data"
    },
    {
     "name": "stdout",
     "output_type": "stream",
     "text": [
      "Train - Emotion Loss: 0.3352, Valence Loss: 0.2064, Total Loss: 0.2966\n",
      "Val - Emotion Loss: 0.3132, Valence Loss: 0.1105, Total Loss: 0.2524\n",
      "Val - Micro F1: 0.8125, Macro F1: 0.5975, Valence RMSE: 0.3321, Accuracy: 0.9084\n",
      "Saved best model!\n",
      "\n",
      "Epoch 23/50\n"
     ]
    },
    {
     "data": {
      "application/vnd.jupyter.widget-view+json": {
       "model_id": "c633f0b1d1b8496eaf98d63c322ee2b1",
       "version_major": 2,
       "version_minor": 0
      },
      "text/plain": [
       "  0%|          | 0/27 [00:00<?, ?it/s]"
      ]
     },
     "metadata": {},
     "output_type": "display_data"
    },
    {
     "data": {
      "application/vnd.jupyter.widget-view+json": {
       "model_id": "75b54ba0edae4730a274b814b274c227",
       "version_major": 2,
       "version_minor": 0
      },
      "text/plain": [
       "Validation:   0%|          | 0/19 [00:00<?, ?it/s]"
      ]
     },
     "metadata": {},
     "output_type": "display_data"
    },
    {
     "name": "stdout",
     "output_type": "stream",
     "text": [
      "Train - Emotion Loss: 0.3271, Valence Loss: 0.2284, Total Loss: 0.2975\n",
      "Val - Emotion Loss: 0.3068, Valence Loss: 0.1064, Total Loss: 0.2467\n",
      "Val - Micro F1: 0.8176, Macro F1: 0.6036, Valence RMSE: 0.3260, Accuracy: 0.9113\n",
      "Saved best model!\n",
      "\n",
      "Epoch 24/50\n"
     ]
    },
    {
     "data": {
      "application/vnd.jupyter.widget-view+json": {
       "model_id": "65217099afa441aab0dd99eabb954ee8",
       "version_major": 2,
       "version_minor": 0
      },
      "text/plain": [
       "  0%|          | 0/27 [00:00<?, ?it/s]"
      ]
     },
     "metadata": {},
     "output_type": "display_data"
    },
    {
     "data": {
      "application/vnd.jupyter.widget-view+json": {
       "model_id": "d06fc5f3ed1b4553983361fa2bbb2c8a",
       "version_major": 2,
       "version_minor": 0
      },
      "text/plain": [
       "Validation:   0%|          | 0/19 [00:00<?, ?it/s]"
      ]
     },
     "metadata": {},
     "output_type": "display_data"
    },
    {
     "name": "stdout",
     "output_type": "stream",
     "text": [
      "Train - Emotion Loss: 0.3238, Valence Loss: 0.2289, Total Loss: 0.2953\n",
      "Val - Emotion Loss: 0.3019, Valence Loss: 0.1253, Total Loss: 0.2489\n",
      "Val - Micro F1: 0.8024, Macro F1: 0.5783, Valence RMSE: 0.3538, Accuracy: 0.9064\n",
      "\n",
      "Epoch 25/50\n"
     ]
    },
    {
     "data": {
      "application/vnd.jupyter.widget-view+json": {
       "model_id": "462735507cc34b908f4a15679fc3a42c",
       "version_major": 2,
       "version_minor": 0
      },
      "text/plain": [
       "  0%|          | 0/27 [00:00<?, ?it/s]"
      ]
     },
     "metadata": {},
     "output_type": "display_data"
    },
    {
     "data": {
      "application/vnd.jupyter.widget-view+json": {
       "model_id": "f1a81ed2b17c4cc8a754d86636ce94a1",
       "version_major": 2,
       "version_minor": 0
      },
      "text/plain": [
       "Validation:   0%|          | 0/19 [00:00<?, ?it/s]"
      ]
     },
     "metadata": {},
     "output_type": "display_data"
    },
    {
     "name": "stdout",
     "output_type": "stream",
     "text": [
      "Train - Emotion Loss: 0.3149, Valence Loss: 0.2418, Total Loss: 0.2930\n",
      "Val - Emotion Loss: 0.2953, Valence Loss: 0.0994, Total Loss: 0.2365\n",
      "Val - Micro F1: 0.8126, Macro F1: 0.5954, Valence RMSE: 0.3151, Accuracy: 0.9117\n",
      "Saved best model!\n",
      "\n",
      "Epoch 26/50\n"
     ]
    },
    {
     "data": {
      "application/vnd.jupyter.widget-view+json": {
       "model_id": "6ac5cbb03a8d4f7d94b0cf6b7fcf1db3",
       "version_major": 2,
       "version_minor": 0
      },
      "text/plain": [
       "  0%|          | 0/27 [00:00<?, ?it/s]"
      ]
     },
     "metadata": {},
     "output_type": "display_data"
    },
    {
     "data": {
      "application/vnd.jupyter.widget-view+json": {
       "model_id": "639e53ca051a4d1fa57d33f98cb97228",
       "version_major": 2,
       "version_minor": 0
      },
      "text/plain": [
       "Validation:   0%|          | 0/19 [00:00<?, ?it/s]"
      ]
     },
     "metadata": {},
     "output_type": "display_data"
    },
    {
     "name": "stdout",
     "output_type": "stream",
     "text": [
      "Train - Emotion Loss: 0.3026, Valence Loss: 0.2614, Total Loss: 0.2902\n",
      "Val - Emotion Loss: 0.2874, Valence Loss: 0.1207, Total Loss: 0.2374\n",
      "Val - Micro F1: 0.8336, Macro F1: 0.6167, Valence RMSE: 0.3472, Accuracy: 0.9200\n",
      "\n",
      "Epoch 27/50\n"
     ]
    },
    {
     "data": {
      "application/vnd.jupyter.widget-view+json": {
       "model_id": "6338c1f9658e449f9197055d880032bc",
       "version_major": 2,
       "version_minor": 0
      },
      "text/plain": [
       "  0%|          | 0/27 [00:00<?, ?it/s]"
      ]
     },
     "metadata": {},
     "output_type": "display_data"
    },
    {
     "data": {
      "application/vnd.jupyter.widget-view+json": {
       "model_id": "871fe4abf84544d3aade445fccecad11",
       "version_major": 2,
       "version_minor": 0
      },
      "text/plain": [
       "Validation:   0%|          | 0/19 [00:00<?, ?it/s]"
      ]
     },
     "metadata": {},
     "output_type": "display_data"
    },
    {
     "name": "stdout",
     "output_type": "stream",
     "text": [
      "Train - Emotion Loss: 0.2995, Valence Loss: 0.2230, Total Loss: 0.2765\n",
      "Val - Emotion Loss: 0.2842, Valence Loss: 0.1471, Total Loss: 0.2430\n",
      "Val - Micro F1: 0.8293, Macro F1: 0.6106, Valence RMSE: 0.3832, Accuracy: 0.9191\n",
      "\n",
      "Epoch 28/50\n"
     ]
    },
    {
     "data": {
      "application/vnd.jupyter.widget-view+json": {
       "model_id": "6296a9e88ce8495a901fcdfb2bc12bb7",
       "version_major": 2,
       "version_minor": 0
      },
      "text/plain": [
       "  0%|          | 0/27 [00:00<?, ?it/s]"
      ]
     },
     "metadata": {},
     "output_type": "display_data"
    },
    {
     "data": {
      "application/vnd.jupyter.widget-view+json": {
       "model_id": "a88612afcf284bc0bc10c2e8f87c5ef9",
       "version_major": 2,
       "version_minor": 0
      },
      "text/plain": [
       "Validation:   0%|          | 0/19 [00:00<?, ?it/s]"
      ]
     },
     "metadata": {},
     "output_type": "display_data"
    },
    {
     "name": "stdout",
     "output_type": "stream",
     "text": [
      "Train - Emotion Loss: 0.2996, Valence Loss: 0.2306, Total Loss: 0.2789\n",
      "Val - Emotion Loss: 0.2797, Valence Loss: 0.1536, Total Loss: 0.2419\n",
      "Val - Micro F1: 0.8412, Macro F1: 0.6208, Valence RMSE: 0.3917, Accuracy: 0.9237\n",
      "\n",
      "Epoch 29/50\n"
     ]
    },
    {
     "data": {
      "application/vnd.jupyter.widget-view+json": {
       "model_id": "ebd53eb4f9774a438c410f81827c4916",
       "version_major": 2,
       "version_minor": 0
      },
      "text/plain": [
       "  0%|          | 0/27 [00:00<?, ?it/s]"
      ]
     },
     "metadata": {},
     "output_type": "display_data"
    },
    {
     "data": {
      "application/vnd.jupyter.widget-view+json": {
       "model_id": "3ea1661576144b64a585c57bfedfa8c4",
       "version_major": 2,
       "version_minor": 0
      },
      "text/plain": [
       "Validation:   0%|          | 0/19 [00:00<?, ?it/s]"
      ]
     },
     "metadata": {},
     "output_type": "display_data"
    },
    {
     "name": "stdout",
     "output_type": "stream",
     "text": [
      "Train - Emotion Loss: 0.2931, Valence Loss: 0.2164, Total Loss: 0.2701\n",
      "Val - Emotion Loss: 0.2752, Valence Loss: 0.1527, Total Loss: 0.2385\n",
      "Val - Micro F1: 0.8284, Macro F1: 0.6013, Valence RMSE: 0.3904, Accuracy: 0.9191\n",
      "\n",
      "Epoch 30/50\n"
     ]
    },
    {
     "data": {
      "application/vnd.jupyter.widget-view+json": {
       "model_id": "c57192e8a2d64cd2a0fea538af999045",
       "version_major": 2,
       "version_minor": 0
      },
      "text/plain": [
       "  0%|          | 0/27 [00:00<?, ?it/s]"
      ]
     },
     "metadata": {},
     "output_type": "display_data"
    },
    {
     "data": {
      "application/vnd.jupyter.widget-view+json": {
       "model_id": "e9c849a51d5945bcaf821624a0c9c1c4",
       "version_major": 2,
       "version_minor": 0
      },
      "text/plain": [
       "Validation:   0%|          | 0/19 [00:00<?, ?it/s]"
      ]
     },
     "metadata": {},
     "output_type": "display_data"
    },
    {
     "name": "stdout",
     "output_type": "stream",
     "text": [
      "Train - Emotion Loss: 0.2848, Valence Loss: 0.1893, Total Loss: 0.2561\n",
      "Val - Emotion Loss: 0.2669, Valence Loss: 0.1183, Total Loss: 0.2223\n",
      "Val - Micro F1: 0.8423, Macro F1: 0.6222, Valence RMSE: 0.3437, Accuracy: 0.9249\n",
      "Saved best model!\n",
      "\n",
      "Epoch 31/50\n"
     ]
    },
    {
     "data": {
      "application/vnd.jupyter.widget-view+json": {
       "model_id": "4aadd03334fa4d2c9c836e2cb2ad82cb",
       "version_major": 2,
       "version_minor": 0
      },
      "text/plain": [
       "  0%|          | 0/27 [00:00<?, ?it/s]"
      ]
     },
     "metadata": {},
     "output_type": "display_data"
    },
    {
     "data": {
      "application/vnd.jupyter.widget-view+json": {
       "model_id": "972df66810ca485899c4415fc2d2c78e",
       "version_major": 2,
       "version_minor": 0
      },
      "text/plain": [
       "Validation:   0%|          | 0/19 [00:00<?, ?it/s]"
      ]
     },
     "metadata": {},
     "output_type": "display_data"
    },
    {
     "name": "stdout",
     "output_type": "stream",
     "text": [
      "Train - Emotion Loss: 0.2812, Valence Loss: 0.2219, Total Loss: 0.2634\n",
      "Val - Emotion Loss: 0.2633, Valence Loss: 0.1434, Total Loss: 0.2273\n",
      "Val - Micro F1: 0.8583, Macro F1: 0.6268, Valence RMSE: 0.3783, Accuracy: 0.9307\n",
      "\n",
      "Epoch 32/50\n"
     ]
    },
    {
     "data": {
      "application/vnd.jupyter.widget-view+json": {
       "model_id": "4c5271ed258c4b9f8f14c93daa3cc695",
       "version_major": 2,
       "version_minor": 0
      },
      "text/plain": [
       "  0%|          | 0/27 [00:00<?, ?it/s]"
      ]
     },
     "metadata": {},
     "output_type": "display_data"
    },
    {
     "data": {
      "application/vnd.jupyter.widget-view+json": {
       "model_id": "9ee02549a9e848ed9a7d6d6bd13ae9fe",
       "version_major": 2,
       "version_minor": 0
      },
      "text/plain": [
       "Validation:   0%|          | 0/19 [00:00<?, ?it/s]"
      ]
     },
     "metadata": {},
     "output_type": "display_data"
    },
    {
     "name": "stdout",
     "output_type": "stream",
     "text": [
      "Train - Emotion Loss: 0.2770, Valence Loss: 0.2238, Total Loss: 0.2611\n",
      "Val - Emotion Loss: 0.2576, Valence Loss: 0.1407, Total Loss: 0.2225\n",
      "Val - Micro F1: 0.8645, Macro F1: 0.6445, Valence RMSE: 0.3748, Accuracy: 0.9348\n",
      "\n",
      "Epoch 33/50\n"
     ]
    },
    {
     "data": {
      "application/vnd.jupyter.widget-view+json": {
       "model_id": "973c743f61e043ed935bb375c2c3ff8f",
       "version_major": 2,
       "version_minor": 0
      },
      "text/plain": [
       "  0%|          | 0/27 [00:00<?, ?it/s]"
      ]
     },
     "metadata": {},
     "output_type": "display_data"
    },
    {
     "data": {
      "application/vnd.jupyter.widget-view+json": {
       "model_id": "be93971e26094f9984ac51e57b900455",
       "version_major": 2,
       "version_minor": 0
      },
      "text/plain": [
       "Validation:   0%|          | 0/19 [00:00<?, ?it/s]"
      ]
     },
     "metadata": {},
     "output_type": "display_data"
    },
    {
     "name": "stdout",
     "output_type": "stream",
     "text": [
      "Train - Emotion Loss: 0.2719, Valence Loss: 0.2023, Total Loss: 0.2510\n",
      "Val - Emotion Loss: 0.2539, Valence Loss: 0.1533, Total Loss: 0.2237\n",
      "Val - Micro F1: 0.8591, Macro F1: 0.6411, Valence RMSE: 0.3911, Accuracy: 0.9328\n",
      "\n",
      "Epoch 34/50\n"
     ]
    },
    {
     "data": {
      "application/vnd.jupyter.widget-view+json": {
       "model_id": "df84272e1907475ba6d5d8ecba72eb01",
       "version_major": 2,
       "version_minor": 0
      },
      "text/plain": [
       "  0%|          | 0/27 [00:00<?, ?it/s]"
      ]
     },
     "metadata": {},
     "output_type": "display_data"
    },
    {
     "data": {
      "application/vnd.jupyter.widget-view+json": {
       "model_id": "68c71edc5b8245c283f393e7b6ec2735",
       "version_major": 2,
       "version_minor": 0
      },
      "text/plain": [
       "Validation:   0%|          | 0/19 [00:00<?, ?it/s]"
      ]
     },
     "metadata": {},
     "output_type": "display_data"
    },
    {
     "name": "stdout",
     "output_type": "stream",
     "text": [
      "Train - Emotion Loss: 0.2659, Valence Loss: 0.2096, Total Loss: 0.2490\n",
      "Val - Emotion Loss: 0.2518, Valence Loss: 0.1436, Total Loss: 0.2193\n",
      "Val - Micro F1: 0.8682, Macro F1: 0.6513, Valence RMSE: 0.3785, Accuracy: 0.9352\n",
      "Saved best model!\n",
      "\n",
      "Epoch 35/50\n"
     ]
    },
    {
     "data": {
      "application/vnd.jupyter.widget-view+json": {
       "model_id": "767caff3edbe418889c4e9395dba6cfd",
       "version_major": 2,
       "version_minor": 0
      },
      "text/plain": [
       "  0%|          | 0/27 [00:00<?, ?it/s]"
      ]
     },
     "metadata": {},
     "output_type": "display_data"
    },
    {
     "data": {
      "application/vnd.jupyter.widget-view+json": {
       "model_id": "c4565250e49942128b8f1238bcd95008",
       "version_major": 2,
       "version_minor": 0
      },
      "text/plain": [
       "Validation:   0%|          | 0/19 [00:00<?, ?it/s]"
      ]
     },
     "metadata": {},
     "output_type": "display_data"
    },
    {
     "name": "stdout",
     "output_type": "stream",
     "text": [
      "Train - Emotion Loss: 0.2654, Valence Loss: 0.2336, Total Loss: 0.2559\n",
      "Val - Emotion Loss: 0.2475, Valence Loss: 0.1256, Total Loss: 0.2109\n",
      "Val - Micro F1: 0.8733, Macro F1: 0.6579, Valence RMSE: 0.3539, Accuracy: 0.9381\n",
      "Saved best model!\n",
      "\n",
      "Epoch 36/50\n"
     ]
    },
    {
     "data": {
      "application/vnd.jupyter.widget-view+json": {
       "model_id": "32991348b74f42c39d7d1b3c56687b04",
       "version_major": 2,
       "version_minor": 0
      },
      "text/plain": [
       "  0%|          | 0/27 [00:00<?, ?it/s]"
      ]
     },
     "metadata": {},
     "output_type": "display_data"
    },
    {
     "data": {
      "application/vnd.jupyter.widget-view+json": {
       "model_id": "413a6f630f58454b94666854e16e6eb2",
       "version_major": 2,
       "version_minor": 0
      },
      "text/plain": [
       "Validation:   0%|          | 0/19 [00:00<?, ?it/s]"
      ]
     },
     "metadata": {},
     "output_type": "display_data"
    },
    {
     "name": "stdout",
     "output_type": "stream",
     "text": [
      "Train - Emotion Loss: 0.2647, Valence Loss: 0.2116, Total Loss: 0.2487\n",
      "Val - Emotion Loss: 0.2446, Valence Loss: 0.1246, Total Loss: 0.2086\n",
      "Val - Micro F1: 0.8831, Macro F1: 0.6746, Valence RMSE: 0.3525, Accuracy: 0.9427\n",
      "Saved best model!\n",
      "\n",
      "Epoch 37/50\n"
     ]
    },
    {
     "data": {
      "application/vnd.jupyter.widget-view+json": {
       "model_id": "c22ae0e6839d4739ad2e5a779d4134d3",
       "version_major": 2,
       "version_minor": 0
      },
      "text/plain": [
       "  0%|          | 0/27 [00:00<?, ?it/s]"
      ]
     },
     "metadata": {},
     "output_type": "display_data"
    },
    {
     "data": {
      "application/vnd.jupyter.widget-view+json": {
       "model_id": "dca48a5c7fb24358a829247d16e1353e",
       "version_major": 2,
       "version_minor": 0
      },
      "text/plain": [
       "Validation:   0%|          | 0/19 [00:00<?, ?it/s]"
      ]
     },
     "metadata": {},
     "output_type": "display_data"
    },
    {
     "name": "stdout",
     "output_type": "stream",
     "text": [
      "Train - Emotion Loss: 0.2609, Valence Loss: 0.2220, Total Loss: 0.2492\n",
      "Val - Emotion Loss: 0.2416, Valence Loss: 0.1322, Total Loss: 0.2088\n",
      "Val - Micro F1: 0.8852, Macro F1: 0.6790, Valence RMSE: 0.3630, Accuracy: 0.9435\n",
      "\n",
      "Epoch 38/50\n"
     ]
    },
    {
     "data": {
      "application/vnd.jupyter.widget-view+json": {
       "model_id": "f46d77093e854c2ead2833270090057d",
       "version_major": 2,
       "version_minor": 0
      },
      "text/plain": [
       "  0%|          | 0/27 [00:00<?, ?it/s]"
      ]
     },
     "metadata": {},
     "output_type": "display_data"
    },
    {
     "data": {
      "application/vnd.jupyter.widget-view+json": {
       "model_id": "f97d85aee78b475d831a278e38da0595",
       "version_major": 2,
       "version_minor": 0
      },
      "text/plain": [
       "Validation:   0%|          | 0/19 [00:00<?, ?it/s]"
      ]
     },
     "metadata": {},
     "output_type": "display_data"
    },
    {
     "name": "stdout",
     "output_type": "stream",
     "text": [
      "Train - Emotion Loss: 0.2566, Valence Loss: 0.2082, Total Loss: 0.2421\n",
      "Val - Emotion Loss: 0.2395, Valence Loss: 0.1522, Total Loss: 0.2133\n",
      "Val - Micro F1: 0.8821, Macro F1: 0.6627, Valence RMSE: 0.3896, Accuracy: 0.9427\n",
      "\n",
      "Epoch 39/50\n"
     ]
    },
    {
     "data": {
      "application/vnd.jupyter.widget-view+json": {
       "model_id": "f4043ce4a91d4b7cbb917ca4d5353a7b",
       "version_major": 2,
       "version_minor": 0
      },
      "text/plain": [
       "  0%|          | 0/27 [00:00<?, ?it/s]"
      ]
     },
     "metadata": {},
     "output_type": "display_data"
    },
    {
     "data": {
      "application/vnd.jupyter.widget-view+json": {
       "model_id": "db385ce6d79942b2bbb7e9c085e31af3",
       "version_major": 2,
       "version_minor": 0
      },
      "text/plain": [
       "Validation:   0%|          | 0/19 [00:00<?, ?it/s]"
      ]
     },
     "metadata": {},
     "output_type": "display_data"
    },
    {
     "name": "stdout",
     "output_type": "stream",
     "text": [
      "Train - Emotion Loss: 0.2532, Valence Loss: 0.2336, Total Loss: 0.2473\n",
      "Val - Emotion Loss: 0.2356, Valence Loss: 0.1198, Total Loss: 0.2009\n",
      "Val - Micro F1: 0.8874, Macro F1: 0.6712, Valence RMSE: 0.3457, Accuracy: 0.9451\n",
      "Saved best model!\n",
      "\n",
      "Epoch 40/50\n"
     ]
    },
    {
     "data": {
      "application/vnd.jupyter.widget-view+json": {
       "model_id": "3b8bc7a9751d47ee8d4c02e4c7db52fa",
       "version_major": 2,
       "version_minor": 0
      },
      "text/plain": [
       "  0%|          | 0/27 [00:00<?, ?it/s]"
      ]
     },
     "metadata": {},
     "output_type": "display_data"
    },
    {
     "data": {
      "application/vnd.jupyter.widget-view+json": {
       "model_id": "e9cc32cd935a4a7b86d4d92b7cd0c7d1",
       "version_major": 2,
       "version_minor": 0
      },
      "text/plain": [
       "Validation:   0%|          | 0/19 [00:00<?, ?it/s]"
      ]
     },
     "metadata": {},
     "output_type": "display_data"
    },
    {
     "name": "stdout",
     "output_type": "stream",
     "text": [
      "Train - Emotion Loss: 0.2517, Valence Loss: 0.2031, Total Loss: 0.2371\n",
      "Val - Emotion Loss: 0.2347, Valence Loss: 0.1319, Total Loss: 0.2039\n",
      "Val - Micro F1: 0.8919, Macro F1: 0.6732, Valence RMSE: 0.3627, Accuracy: 0.9472\n",
      "\n",
      "Epoch 41/50\n"
     ]
    },
    {
     "data": {
      "application/vnd.jupyter.widget-view+json": {
       "model_id": "e2ce6593a5e24a7bbfaf8ef4c2bb0c47",
       "version_major": 2,
       "version_minor": 0
      },
      "text/plain": [
       "  0%|          | 0/27 [00:00<?, ?it/s]"
      ]
     },
     "metadata": {},
     "output_type": "display_data"
    },
    {
     "data": {
      "application/vnd.jupyter.widget-view+json": {
       "model_id": "9443ac5467ea449fa4c7e37e3e2ece0d",
       "version_major": 2,
       "version_minor": 0
      },
      "text/plain": [
       "Validation:   0%|          | 0/19 [00:00<?, ?it/s]"
      ]
     },
     "metadata": {},
     "output_type": "display_data"
    },
    {
     "name": "stdout",
     "output_type": "stream",
     "text": [
      "Train - Emotion Loss: 0.2504, Valence Loss: 0.2188, Total Loss: 0.2409\n",
      "Val - Emotion Loss: 0.2328, Valence Loss: 0.1364, Total Loss: 0.2039\n",
      "Val - Micro F1: 0.8876, Macro F1: 0.6772, Valence RMSE: 0.3689, Accuracy: 0.9447\n",
      "\n",
      "Epoch 42/50\n"
     ]
    },
    {
     "data": {
      "application/vnd.jupyter.widget-view+json": {
       "model_id": "b84d7930c33348979560be1a0777cbf0",
       "version_major": 2,
       "version_minor": 0
      },
      "text/plain": [
       "  0%|          | 0/27 [00:00<?, ?it/s]"
      ]
     },
     "metadata": {},
     "output_type": "display_data"
    },
    {
     "data": {
      "application/vnd.jupyter.widget-view+json": {
       "model_id": "c828ad1a64114924b629cb0f2045c2c7",
       "version_major": 2,
       "version_minor": 0
      },
      "text/plain": [
       "Validation:   0%|          | 0/19 [00:00<?, ?it/s]"
      ]
     },
     "metadata": {},
     "output_type": "display_data"
    },
    {
     "name": "stdout",
     "output_type": "stream",
     "text": [
      "Train - Emotion Loss: 0.2477, Valence Loss: 0.2170, Total Loss: 0.2385\n",
      "Val - Emotion Loss: 0.2308, Valence Loss: 0.1251, Total Loss: 0.1991\n",
      "Val - Micro F1: 0.8919, Macro F1: 0.6846, Valence RMSE: 0.3532, Accuracy: 0.9472\n",
      "Saved best model!\n",
      "\n",
      "Epoch 43/50\n"
     ]
    },
    {
     "data": {
      "application/vnd.jupyter.widget-view+json": {
       "model_id": "1a27f90a6e154def902a203da2fcab3f",
       "version_major": 2,
       "version_minor": 0
      },
      "text/plain": [
       "  0%|          | 0/27 [00:00<?, ?it/s]"
      ]
     },
     "metadata": {},
     "output_type": "display_data"
    },
    {
     "data": {
      "application/vnd.jupyter.widget-view+json": {
       "model_id": "86eae81b4aa04a4b9fdcb2af7632057e",
       "version_major": 2,
       "version_minor": 0
      },
      "text/plain": [
       "Validation:   0%|          | 0/19 [00:00<?, ?it/s]"
      ]
     },
     "metadata": {},
     "output_type": "display_data"
    },
    {
     "name": "stdout",
     "output_type": "stream",
     "text": [
      "Train - Emotion Loss: 0.2468, Valence Loss: 0.2240, Total Loss: 0.2399\n",
      "Val - Emotion Loss: 0.2303, Valence Loss: 0.1256, Total Loss: 0.1989\n",
      "Val - Micro F1: 0.8961, Macro F1: 0.6983, Valence RMSE: 0.3538, Accuracy: 0.9484\n",
      "Saved best model!\n",
      "\n",
      "Epoch 44/50\n"
     ]
    },
    {
     "data": {
      "application/vnd.jupyter.widget-view+json": {
       "model_id": "d7c9dd0554eb47548f63a67a4132c907",
       "version_major": 2,
       "version_minor": 0
      },
      "text/plain": [
       "  0%|          | 0/27 [00:00<?, ?it/s]"
      ]
     },
     "metadata": {},
     "output_type": "display_data"
    },
    {
     "data": {
      "application/vnd.jupyter.widget-view+json": {
       "model_id": "94fe0cd83cef4d7badeb3ede6fc61dcd",
       "version_major": 2,
       "version_minor": 0
      },
      "text/plain": [
       "Validation:   0%|          | 0/19 [00:00<?, ?it/s]"
      ]
     },
     "metadata": {},
     "output_type": "display_data"
    },
    {
     "name": "stdout",
     "output_type": "stream",
     "text": [
      "Train - Emotion Loss: 0.2436, Valence Loss: 0.2179, Total Loss: 0.2359\n",
      "Val - Emotion Loss: 0.2287, Valence Loss: 0.1294, Total Loss: 0.1989\n",
      "Val - Micro F1: 0.8993, Macro F1: 0.6953, Valence RMSE: 0.3591, Accuracy: 0.9505\n",
      "\n",
      "Epoch 45/50\n"
     ]
    },
    {
     "data": {
      "application/vnd.jupyter.widget-view+json": {
       "model_id": "c4d11ce7026d45b19946149986401a77",
       "version_major": 2,
       "version_minor": 0
      },
      "text/plain": [
       "  0%|          | 0/27 [00:00<?, ?it/s]"
      ]
     },
     "metadata": {},
     "output_type": "display_data"
    },
    {
     "data": {
      "application/vnd.jupyter.widget-view+json": {
       "model_id": "d15a0f870770486db41c58135b4b5a91",
       "version_major": 2,
       "version_minor": 0
      },
      "text/plain": [
       "Validation:   0%|          | 0/19 [00:00<?, ?it/s]"
      ]
     },
     "metadata": {},
     "output_type": "display_data"
    },
    {
     "name": "stdout",
     "output_type": "stream",
     "text": [
      "Train - Emotion Loss: 0.2462, Valence Loss: 0.2213, Total Loss: 0.2387\n",
      "Val - Emotion Loss: 0.2264, Valence Loss: 0.1179, Total Loss: 0.1938\n",
      "Val - Micro F1: 0.8990, Macro F1: 0.6912, Valence RMSE: 0.3428, Accuracy: 0.9505\n",
      "Saved best model!\n",
      "\n",
      "Epoch 46/50\n"
     ]
    },
    {
     "data": {
      "application/vnd.jupyter.widget-view+json": {
       "model_id": "32ff558c31a248d693c0dc9739998ba2",
       "version_major": 2,
       "version_minor": 0
      },
      "text/plain": [
       "  0%|          | 0/27 [00:00<?, ?it/s]"
      ]
     },
     "metadata": {},
     "output_type": "display_data"
    },
    {
     "data": {
      "application/vnd.jupyter.widget-view+json": {
       "model_id": "473f5e56c851463e93a0a8e4a23db51a",
       "version_major": 2,
       "version_minor": 0
      },
      "text/plain": [
       "Validation:   0%|          | 0/19 [00:00<?, ?it/s]"
      ]
     },
     "metadata": {},
     "output_type": "display_data"
    },
    {
     "name": "stdout",
     "output_type": "stream",
     "text": [
      "Train - Emotion Loss: 0.2419, Valence Loss: 0.2209, Total Loss: 0.2356\n",
      "Val - Emotion Loss: 0.2260, Valence Loss: 0.1266, Total Loss: 0.1962\n",
      "Val - Micro F1: 0.8956, Macro F1: 0.6888, Valence RMSE: 0.3553, Accuracy: 0.9488\n",
      "\n",
      "Epoch 47/50\n"
     ]
    },
    {
     "data": {
      "application/vnd.jupyter.widget-view+json": {
       "model_id": "79ac07b71af3443288ade94b49e12091",
       "version_major": 2,
       "version_minor": 0
      },
      "text/plain": [
       "  0%|          | 0/27 [00:00<?, ?it/s]"
      ]
     },
     "metadata": {},
     "output_type": "display_data"
    },
    {
     "data": {
      "application/vnd.jupyter.widget-view+json": {
       "model_id": "e5b89ef27dbe40c98a1951873fc67a0c",
       "version_major": 2,
       "version_minor": 0
      },
      "text/plain": [
       "Validation:   0%|          | 0/19 [00:00<?, ?it/s]"
      ]
     },
     "metadata": {},
     "output_type": "display_data"
    },
    {
     "name": "stdout",
     "output_type": "stream",
     "text": [
      "Train - Emotion Loss: 0.2414, Valence Loss: 0.2228, Total Loss: 0.2358\n",
      "Val - Emotion Loss: 0.2254, Valence Loss: 0.1157, Total Loss: 0.1925\n",
      "Val - Micro F1: 0.9023, Macro F1: 0.7010, Valence RMSE: 0.3396, Accuracy: 0.9517\n",
      "Saved best model!\n",
      "\n",
      "Epoch 48/50\n"
     ]
    },
    {
     "data": {
      "application/vnd.jupyter.widget-view+json": {
       "model_id": "1092d0c35c0d4ffb95df5a0d29a724b3",
       "version_major": 2,
       "version_minor": 0
      },
      "text/plain": [
       "  0%|          | 0/27 [00:00<?, ?it/s]"
      ]
     },
     "metadata": {},
     "output_type": "display_data"
    },
    {
     "data": {
      "application/vnd.jupyter.widget-view+json": {
       "model_id": "4874505c29da44faa4eda3273448fe9c",
       "version_major": 2,
       "version_minor": 0
      },
      "text/plain": [
       "Validation:   0%|          | 0/19 [00:00<?, ?it/s]"
      ]
     },
     "metadata": {},
     "output_type": "display_data"
    },
    {
     "name": "stdout",
     "output_type": "stream",
     "text": [
      "Train - Emotion Loss: 0.2450, Valence Loss: 0.2045, Total Loss: 0.2328\n",
      "Val - Emotion Loss: 0.2251, Valence Loss: 0.1169, Total Loss: 0.1926\n",
      "Val - Micro F1: 0.9030, Macro F1: 0.7013, Valence RMSE: 0.3414, Accuracy: 0.9521\n",
      "\n",
      "Epoch 49/50\n"
     ]
    },
    {
     "data": {
      "application/vnd.jupyter.widget-view+json": {
       "model_id": "d63a08c282cb4427a052d3f2cce79a7d",
       "version_major": 2,
       "version_minor": 0
      },
      "text/plain": [
       "  0%|          | 0/27 [00:00<?, ?it/s]"
      ]
     },
     "metadata": {},
     "output_type": "display_data"
    },
    {
     "data": {
      "application/vnd.jupyter.widget-view+json": {
       "model_id": "1cf88ef623e84d0c98c827efa4d45173",
       "version_major": 2,
       "version_minor": 0
      },
      "text/plain": [
       "Validation:   0%|          | 0/19 [00:00<?, ?it/s]"
      ]
     },
     "metadata": {},
     "output_type": "display_data"
    },
    {
     "name": "stdout",
     "output_type": "stream",
     "text": [
      "Train - Emotion Loss: 0.2445, Valence Loss: 0.2082, Total Loss: 0.2336\n",
      "Val - Emotion Loss: 0.2251, Valence Loss: 0.1267, Total Loss: 0.1956\n",
      "Val - Micro F1: 0.9038, Macro F1: 0.7018, Valence RMSE: 0.3555, Accuracy: 0.9526\n",
      "\n",
      "Epoch 50/50\n"
     ]
    },
    {
     "data": {
      "application/vnd.jupyter.widget-view+json": {
       "model_id": "4e82c63ea5d94e38884b94f208d21e7b",
       "version_major": 2,
       "version_minor": 0
      },
      "text/plain": [
       "  0%|          | 0/27 [00:00<?, ?it/s]"
      ]
     },
     "metadata": {},
     "output_type": "display_data"
    },
    {
     "data": {
      "application/vnd.jupyter.widget-view+json": {
       "model_id": "f9c57fcf0af94ef98b57703002240202",
       "version_major": 2,
       "version_minor": 0
      },
      "text/plain": [
       "Validation:   0%|          | 0/19 [00:00<?, ?it/s]"
      ]
     },
     "metadata": {},
     "output_type": "display_data"
    },
    {
     "name": "stdout",
     "output_type": "stream",
     "text": [
      "Train - Emotion Loss: 0.2404, Valence Loss: 0.1895, Total Loss: 0.2251\n",
      "Val - Emotion Loss: 0.2250, Valence Loss: 0.1261, Total Loss: 0.1954\n",
      "Val - Micro F1: 0.9030, Macro F1: 0.7012, Valence RMSE: 0.3547, Accuracy: 0.9521\n"
     ]
    }
   ],
   "source": [
    "# Train the model\n",
    "history = train_model(\n",
    "    model,\n",
    "    train_loader,\n",
    "    val_loader,\n",
    "    optimizer,\n",
    "    scheduler,\n",
    "    emotion_criterion,\n",
    "    valence_criterion,\n",
    "    num_epochs,\n",
    "    device\n",
    ")"
   ]
  },
  {
   "cell_type": "code",
   "execution_count": 16,
   "id": "9e622211",
   "metadata": {},
   "outputs": [
    {
     "data": {
      "image/png": "[encoded data removed]",
      "text/plain": [
       "<Figure size 1800x1000 with 6 Axes>"
      ]
     },
     "metadata": {},
     "output_type": "display_data"
    }
   ],
   "source": [
    "\n",
    "  # Plot the training history\n",
    "def plot_training_history(history):\n",
    "    # Create subplots - changed to 2x3 grid to add accuracy plot\n",
    "    fig, axs = plt.subplots(2, 3, figsize=(18, 10))\n",
    "    \n",
    "    # Plot total loss\n",
    "    axs[0, 0].plot(history['train_total_loss'], label='Train Loss')\n",
    "    axs[0, 0].plot(history['val_total_loss'], label='Val Loss')\n",
    "    axs[0, 0].set_title('Total Loss')\n",
    "    axs[0, 0].set_xlabel('Epoch')\n",
    "    axs[0, 0].set_ylabel('Loss')\n",
    "    axs[0, 0].legend()\n",
    "    \n",
    "    # Plot emotion loss\n",
    "    axs[0, 1].plot(history['train_emotion_loss'], label='Train Emotion Loss')\n",
    "    axs[0, 1].plot(history['val_emotion_loss'], label='Val Emotion Loss')\n",
    "    axs[0, 1].set_title('Emotion Loss')\n",
    "    axs[0, 1].set_xlabel('Epoch')\n",
    "    axs[0, 1].set_ylabel('Loss')\n",
    "    axs[0, 1].legend()\n",
    "    \n",
    "    # Plot valence loss and RMSE\n",
    "    axs[0, 2].plot(history['train_valence_loss'], label='Train Valence Loss')\n",
    "    axs[0, 2].plot(history['val_valence_loss'], label='Val Valence Loss')\n",
    "    axs[0, 2].plot(history['val_valence_rmse'], label='Val Valence RMSE')\n",
    "    axs[0, 2].set_title('Valence Loss & RMSE')\n",
    "    axs[0, 2].set_xlabel('Epoch')\n",
    "    axs[0, 2].set_ylabel('Loss / RMSE')\n",
    "    axs[0, 2].legend()\n",
    "    \n",
    "    # Plot F1 scores\n",
    "    axs[1, 0].plot(history['val_micro_f1'], label='Micro F1')\n",
    "    axs[1, 0].plot(history['val_macro_f1'], label='Macro F1')\n",
    "    axs[1, 0].set_title('F1 Scores')\n",
    "    axs[1, 0].set_xlabel('Epoch')\n",
    "    axs[1, 0].set_ylabel('F1 Score')\n",
    "    axs[1, 0].legend()\n",
    "    \n",
    "    # Plot accuracy\n",
    "    axs[1, 1].plot(history['val_accuracy'], label='Accuracy', color='purple')\n",
    "    axs[1, 1].set_title('Model Accuracy')\n",
    "    axs[1, 1].set_xlabel('Epoch')\n",
    "    axs[1, 1].set_ylabel('Accuracy')\n",
    "    axs[1, 1].set_ylim([0, 1])  # Accuracy is between 0 and 1\n",
    "    axs[1, 1].legend()\n",
    "    \n",
    "    # Hide the unused subplot\n",
    "    axs[1, 2].axis('off')\n",
    "    \n",
    "    plt.tight_layout()\n",
    "    plt.savefig(os.path.join(SAVE_DIR, 'dbert_training_history.png'))\n",
    "    plt.show()\n",
    "\n",
    "# Plot the training history\n",
    "plot_training_history(history)"
   ]
  },
  {
   "cell_type": "code",
   "execution_count": 17,
   "id": "458ab333",
   "metadata": {},
   "outputs": [],
   "source": [
    "# Evaluate the model on the test set\n",
    "def evaluate_model(model, test_loader, emotion_criterion, valence_criterion, device):\n",
    "    model.eval()\n",
    "    test_emotion_loss = 0\n",
    "    test_valence_loss = 0\n",
    "    all_emotion_preds = []\n",
    "    all_emotion_labels = []\n",
    "    all_valence_preds = []\n",
    "    all_valence_labels = []\n",
    "    \n",
    "    with torch.no_grad():\n",
    "        for batch in tqdm(test_loader, desc=\"Testing\"):\n",
    "            input_ids = batch['input_ids'].to(device)\n",
    "            attention_mask = batch['attention_mask'].to(device)\n",
    "            emotion_labels = batch['emotion_labels'].to(device)\n",
    "            valence = batch['valence'].to(device)\n",
    "            \n",
    "            emotion_logits, valence_pred = model(input_ids, attention_mask)\n",
    "            \n",
    "            e_loss = emotion_criterion(emotion_logits, emotion_labels)\n",
    "            v_loss = valence_criterion(valence_pred, valence)\n",
    "            \n",
    "            test_emotion_loss += e_loss.item()\n",
    "            test_valence_loss += v_loss.item()\n",
    "            \n",
    "            # Convert logits to predictions\n",
    "            emotion_preds = torch.sigmoid(emotion_logits).cpu().numpy() > 0.5 \n",
    "            \n",
    "            all_emotion_preds.extend(emotion_preds.astype(int).tolist())\n",
    "            all_emotion_labels.extend(emotion_labels.cpu().numpy().astype(int).tolist())\n",
    "            all_valence_preds.extend(valence_pred.cpu().numpy().flatten().tolist())\n",
    "            all_valence_labels.extend(valence.cpu().numpy().flatten().tolist())\n",
    "            \n",
    "    # Calculate test metrics\n",
    "    avg_test_emotion_loss = test_emotion_loss / len(test_loader)\n",
    "    avg_test_valence_loss = test_valence_loss / len(test_loader)\n",
    "    \n",
    "    # F1 scores for emotion classification\n",
    "    # Convert to numpy arrays\n",
    "    emotion_preds_np = np.array(all_emotion_preds)\n",
    "    emotion_labels_np = np.array(all_emotion_labels)\n",
    "    \n",
    "    # F1 scores for multi-label emotion classification\n",
    "    micro_f1 = f1_score(emotion_labels_np, emotion_preds_np, average='micro', zero_division=0)\n",
    "    macro_f1 = f1_score(emotion_labels_np, emotion_preds_np, average='macro', zero_division=0)\n",
    "    \n",
    "    # F1 scores for each class\n",
    "    class_f1 = f1_score(all_emotion_labels, all_emotion_preds, average=None)\n",
    "    class_report = {emotion: score for emotion, score in zip(all_emotions, class_f1)}\n",
    "    \n",
    "    # RMSE for valence prediction\n",
    "    valence_rmse = np.sqrt(mean_squared_error(all_valence_labels, all_valence_preds))\n",
    "    \n",
    "    # Calculate accuracy for multi-label classification\n",
    "    accuracy = np.mean(np.array(emotion_preds_np == emotion_labels_np, dtype=float))\n",
    "    \n",
    "    # Create a confusion matrix for multi-label is complex\n",
    "    # Instead, analyze per-class precision, recall\n",
    "    results = {\n",
    "        'test_emotion_loss': avg_test_emotion_loss,\n",
    "        'test_valence_loss': avg_test_valence_loss,\n",
    "        'test_micro_f1': micro_f1,\n",
    "        'test_macro_f1': macro_f1,\n",
    "        'test_valence_rmse': valence_rmse,\n",
    "        'test_accuracy': accuracy,  # Added accuracy\n",
    "        'class_f1': class_report\n",
    "    }\n",
    "    \n",
    "    # Print the results\n",
    "    print(f\"Test Results:\")\n",
    "    print(f\"Emotion Loss: {avg_test_emotion_loss:.4f}\")\n",
    "    print(f\"Valence Loss: {avg_test_valence_loss:.4f}\")\n",
    "    print(f\"Micro F1: {micro_f1:.4f}\")\n",
    "    print(f\"Macro F1: {macro_f1:.4f}\")\n",
    "    print(f\"Valence RMSE: {valence_rmse:.4f}\")\n",
    "    print(f\"Accuracy: {accuracy:.4f}\")  # Added accuracy print statement\n",
    "    \n",
    "    # Save results\n",
    "    with open(os.path.join(SAVE_DIR, 'dbert_test_results.json'), 'w') as f:\n",
    "        json.dump(results, f)\n",
    "    \n",
    "    return results"
   ]
  },
  {
   "cell_type": "code",
   "execution_count": 18,
   "id": "ef7bf720",
   "metadata": {},
   "outputs": [
    {
     "data": {
      "application/vnd.jupyter.widget-view+json": {
       "model_id": "8734fb70dd0744db98c1a8ea3e426271",
       "version_major": 2,
       "version_minor": 0
      },
      "text/plain": [
       "Testing:   0%|          | 0/23 [00:00<?, ?it/s]"
      ]
     },
     "metadata": {},
     "output_type": "display_data"
    },
    {
     "name": "stdout",
     "output_type": "stream",
     "text": [
      "Test Results:\n",
      "Emotion Loss: 0.2291\n",
      "Valence Loss: 0.1384\n",
      "Micro F1: 0.8919\n",
      "Macro F1: 0.6779\n",
      "Valence RMSE: 0.3724\n",
      "Accuracy: 0.9448\n",
      "\n",
      "\n",
      "\n",
      "Class-wise F1 Scores:\n",
      "Curiosity: 0.9520\n",
      "Uncertainty: 0.9099\n",
      "Excitement: 0.9528\n",
      "Happiness: 0.9813\n",
      "Surprise: 0.8358\n",
      "Disgust: 0.7397\n",
      "Fear: 0.0000\n",
      "Frustration: 0.0513\n"
     ]
    }
   ],
   "source": [
    "# Load the best model for evaluation\n",
    "model.load_state_dict(torch.load(os.path.join(SAVE_DIR, 'dbert_best_model.pt')))\n",
    "\n",
    "# Evaluate the model\n",
    "test_results = evaluate_model(model, test_loader, emotion_criterion, valence_criterion, device)\n",
    "\n",
    "print(\"\\n\")\n",
    "# Print test results\n",
    "'''A\n",
    "print(\"\\nTest Results:\")\n",
    "print(f\"Emotion Loss: {test_results['test_emotion_loss']:.4f}\")\n",
    "print(f\"Valence Loss: {test_results['test_valence_loss']:.4f}\")\n",
    "print(f\"Micro F1: {test_results['test_micro_f1']:.4f}\")\n",
    "print(f\"Macro F1: {test_results['test_macro_f1']:.4f}\")\n",
    "print(f\"Valence RMSE: {test_results['test_valence_rmse']:.4f}\")\n",
    "print(f\"Accuracy: {test_results['test_accuracy']:.4f}\")\n",
    "'''\n",
    "print(\"\\nClass-wise F1 Scores:\")\n",
    "for emotion, f1 in test_results['class_f1'].items():\n",
    "    print(f\"{emotion}: {f1:.4f}\")"
   ]
  },
  {
   "cell_type": "code",
   "execution_count": 19,
   "id": "2a33a3e6",
   "metadata": {},
   "outputs": [
    {
     "data": {
      "image/png": "[encoded data removed]",
      "text/plain": [
       "<Figure size 1000x1000 with 1 Axes>"
      ]
     },
     "metadata": {},
     "output_type": "display_data"
    }
   ],
   "source": [
    "# Function to create and save radar chart\n",
    "def create_emotion_radar_chart(class_f1, emotions, save_dir):\n",
    "    # Number of variables\n",
    "    N = len(emotions)\n",
    "    \n",
    "    # Get F1 scores in same order as emotions\n",
    "    f1_scores = [class_f1[emotion] for emotion in emotions]\n",
    "    \n",
    "    # What will be the angle of each axis in the plot\n",
    "    angles = [n / float(N) * 2 * np.pi for n in range(N)]\n",
    "    angles += angles[:1]  # Close the loop\n",
    "    \n",
    "    # F1 scores for plotting (add first element at end to close the loop)\n",
    "    values = f1_scores.copy()\n",
    "    values += values[:1]  \n",
    "    \n",
    "    # Initialize the figure\n",
    "    fig = plt.figure(figsize=(10, 10))\n",
    "    ax = fig.add_subplot(111, polar=True)\n",
    "    \n",
    "    # Draw one axis per variable and add labels\n",
    "    plt.xticks(angles[:-1], emotions, fontsize=12)\n",
    "    \n",
    "    # Draw the y-axis labels\n",
    "    ax.set_rlabel_position(0)\n",
    "    plt.yticks([0.2, 0.4, 0.6, 0.8, 1.0], [\"0.2\", \"0.4\", \"0.6\", \"0.8\", \"1.0\"], \n",
    "               fontsize=10, color=\"grey\")\n",
    "    plt.ylim(0, 1)\n",
    "    \n",
    "    # Plot data\n",
    "    ax.plot(angles, values, linewidth=2, linestyle='solid', color='#FF7F0E')\n",
    "    \n",
    "    # Fill area\n",
    "    ax.fill(angles, values, alpha=0.25, color='#FF7F0E')\n",
    "    \n",
    "    # Add title\n",
    "    plt.title(\"Emotion-wise F1 Scores\", size=20, y=1.05)\n",
    "    \n",
    "    # Add grid lines\n",
    "    ax.grid(True)\n",
    "    \n",
    "    # Adjust layout and save\n",
    "    plt.tight_layout()\n",
    "    plt.savefig(os.path.join(save_dir, 'dbert_emotion_F1s.png'))\n",
    "    plt.show()\n",
    "create_emotion_radar_chart(test_results[\"class_f1\"], all_emotions, SAVE_DIR)"
   ]
  },
  {
   "cell_type": "code",
   "execution_count": 20,
   "id": "fec0b23d",
   "metadata": {},
   "outputs": [],
   "source": [
    "# Function to make predictions for a new input\n",
    "def predict_emotions_and_valence(text, model, tokenizer, mlb, device):\n",
    "    model.eval()\n",
    "    \n",
    "    # Tokenize the input text\n",
    "    encoding = tokenizer(\n",
    "        text,\n",
    "        truncation=True,\n",
    "        padding='max_length',\n",
    "        max_length=512,\n",
    "        return_tensors='pt'\n",
    "    )\n",
    "    \n",
    "    input_ids = encoding['input_ids'].to(device)\n",
    "    attention_mask = encoding['attention_mask'].to(device)\n",
    "    \n",
    "    with torch.no_grad():\n",
    "        emotion_logits, valence_pred = model(input_ids, attention_mask)\n",
    "        \n",
    "        # Convert logits to predictions\n",
    "        emotion_probs = torch.sigmoid(emotion_logits).cpu().numpy()\n",
    "        emotion_preds = emotion_probs > 0.5\n",
    "        \n",
    "        # Get the predicted emotions\n",
    "        predicted_emotions = mlb.inverse_transform(emotion_preds)[0]\n",
    "        \n",
    "        # Get the predicted valence\n",
    "        predicted_valence = valence_pred.cpu().numpy().item()\n",
    "        \n",
    "        # Get the probabilities for each emotion\n",
    "        emotion_probabilities = {emotion: prob for emotion, prob in zip(mlb.classes_, emotion_probs[0])}\n",
    "    \n",
    "    return predicted_emotions, predicted_valence, emotion_probabilities\n"
   ]
  },
  {
   "cell_type": "code",
   "execution_count": 21,
   "id": "2248234c",
   "metadata": {},
   "outputs": [
    {
     "name": "stdout",
     "output_type": "stream",
     "text": [
      "\n",
      "Example Prediction:\n",
      "Input text: I am really excited about this new movie. The trailer looks amazing and I can't wait to see it!\n",
      "Predicted emotions: ('Excitement', 'Happiness')\n",
      "Predicted valence: 4.88\n",
      "Emotion probabilities:\n",
      "Curiosity: 0.1563\n",
      "Uncertainty: 0.0921\n",
      "Excitement: 0.5860\n",
      "Happiness: 0.7354\n",
      "Surprise: 0.1689\n",
      "Disgust: 0.0824\n",
      "Fear: 0.0758\n",
      "Frustration: 0.1000\n"
     ]
    }
   ],
   "source": [
    "# Example prediction function\n",
    "test_text = \"I am really excited about this new movie. The trailer looks amazing and I can't wait to see it!\"\n",
    "predicted_emotions, predicted_valence, emotion_probs = predict_emotions_and_valence(\n",
    "    test_text, model, tokenizer, mlb, device\n",
    ")\n",
    "\n",
    "print(\"\\nExample Prediction:\")\n",
    "print(f\"Input text: {test_text}\")\n",
    "print(f\"Predicted emotions: {predicted_emotions}\")\n",
    "print(f\"Predicted valence: {predicted_valence:.2f}\")\n",
    "print(\"Emotion probabilities:\")\n",
    "for emotion, prob in emotion_probs.items():\n",
    "    print(f\"{emotion}: {prob:.4f}\")"
   ]
  },
  {
   "cell_type": "code",
   "execution_count": 22,
   "id": "84b83495",
   "metadata": {},
   "outputs": [
    {
     "name": "stdout",
     "output_type": "stream",
     "text": [
      "\n",
      "Model, tokenizer, and configuration saved to /Users/rumenguin/Research/MERC/models/saved_model/dbert\n"
     ]
    }
   ],
   "source": [
    "\n",
    "# Save the complete model, tokenizer, and configuration\n",
    "model_save_path = os.path.join(SAVE_DIR, 'dbert')\n",
    "os.makedirs(model_save_path, exist_ok=True)\n",
    "\n",
    "# Save model configuration\n",
    "model_config = {\n",
    "    'model_name': 'distilbert-base-uncased',\n",
    "    'n_emotions': len(all_emotions),\n",
    "    'emotions': all_emotions,\n",
    "    'valence_range': [df['Valence'].min(), df['Valence'].max()],\n",
    "    'max_length': 512,\n",
    "}\n",
    "\n",
    "with open(os.path.join(model_save_path, 'config.json'), 'w') as f:\n",
    "    json.dump(model_config, f)\n",
    "\n",
    "# Save the model state\n",
    "torch.save(model.state_dict(), os.path.join(model_save_path, 'model_state.pt'))\n",
    "\n",
    "# Save tokenizer\n",
    "tokenizer.save_pretrained(model_save_path)\n",
    "\n",
    "print(f\"\\nModel, tokenizer, and configuration saved to {model_save_path}\")\n"
   ]
  },
  {
   "cell_type": "code",
   "execution_count": 23,
   "id": "028ae713",
   "metadata": {},
   "outputs": [
    {
     "name": "stdout",
     "output_type": "stream",
     "text": [
      "\n",
      "Training completed successfully!\n",
      "Best model saved to: /Users/rumenguin/Research/MERC/models/saved_model/dbert_best_model.pt\n",
      "Final model saved to: /Users/rumenguin/Research/MERC/models/saved_model/dbert_final_model.pt\n",
      "Complete model package saved to: /Users/rumenguin/Research/MERC/models/saved_model/dbert\n",
      "Training history plot saved to: /Users/rumenguin/Research/MERC/models/saved_model/dbert_training_history.png\n",
      "Training history saved to: /Users/rumenguin/Research/MERC/models/saved_model/dbert_training_history.json\n",
      "Test results saved to: /Users/rumenguin/Research/MERC/models/saved_model/dbert_test_results.json\n"
     ]
    }
   ],
   "source": [
    "# Final messages\n",
    "print(\"\\nTraining completed successfully!\")\n",
    "print(f\"Best model saved to: {os.path.join(SAVE_DIR, 'dbert_best_model.pt')}\")\n",
    "print(f\"Final model saved to: {os.path.join(SAVE_DIR, 'dbert_final_model.pt')}\")\n",
    "print(f\"Complete model package saved to: {model_save_path}\")\n",
    "print(f\"Training history plot saved to: {os.path.join(SAVE_DIR, 'dbert_training_history.png')}\")\n",
    "print(f\"Training history saved to: {os.path.join(SAVE_DIR, 'dbert_training_history.json')}\")\n",
    "print(f\"Test results saved to: {os.path.join(SAVE_DIR, 'dbert_test_results.json')}\")"
   ]
  }
 ],
 "metadata": {
  "kernelspec": {
   "display_name": "merc",
   "language": "python",
   "name": "python3"
  },
  "language_info": {
   "codemirror_mode": {
    "name": "ipython",
    "version": 3
   },
   "file_extension": ".py",
   "mimetype": "text/x-python",
   "name": "python",
   "nbconvert_exporter": "python",
   "pygments_lexer": "ipython3",
   "version": "3.10.17"
  }
 },
 "nbformat": 4,
 "nbformat_minor": 5
}
